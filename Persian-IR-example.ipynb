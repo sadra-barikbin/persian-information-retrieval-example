{
  "cells": [
    {
      "cell_type": "markdown",
      "metadata": {
        "id": "view-in-github",
        "colab_type": "text"
      },
      "source": [
        "<a href=\"https://colab.research.google.com/github/sadra-barikbin/persian-information-retrieval-example/blob/main/Persian-IR-example.ipynb\" target=\"_parent\"><img src=\"https://colab.research.google.com/assets/colab-badge.svg\" alt=\"Open In Colab\"/></a>"
      ]
    },
    {
      "cell_type": "markdown",
      "id": "innovative-letter",
      "metadata": {
        "id": "innovative-letter"
      },
      "source": [
        "# Setup"
      ]
    },
    {
      "cell_type": "code",
      "execution_count": null,
      "id": "S6JCv2ZVCX4u",
      "metadata": {
        "collapsed": true,
        "id": "S6JCv2ZVCX4u"
      },
      "outputs": [],
      "source": [
        "!pip install hazm transformers ir_measures\n",
        "!pip install -q clean-text[gpl]"
      ]
    },
    {
      "cell_type": "markdown",
      "id": "da59081d",
      "metadata": {
        "id": "da59081d"
      },
      "source": [
        "<div dir='rtl'>\n",
        "    ابتدا کتاب‌خانه‌های لازم را فرا می‌خوانیم\n",
        "</div>"
      ]
    },
    {
      "cell_type": "code",
      "execution_count": 75,
      "id": "civic-birth",
      "metadata": {
        "id": "civic-birth"
      },
      "outputs": [],
      "source": [
        "import torch\n",
        "import yaml\n",
        "import hazm\n",
        "import tqdm\n",
        "import numpy as np\n",
        "import pandas as pd\n",
        "import ir_measures as IRm\n",
        "import tensorflow\n",
        "from tempfile import mkdtemp\n",
        "from typing import List, Tuple\n",
        "from pathlib import Path\n",
        "from sklearn.metrics import make_scorer, average_precision_score\n",
        "from sklearn.metrics.pairwise import cosine_similarity\n",
        "from sklearn.feature_extraction.text import TfidfVectorizer\n",
        "from sklearn.neighbors import NearestNeighbors\n",
        "from sklearn.pipeline import Pipeline\n",
        "from sklearn.model_selection import ParameterGrid\n",
        "from sklearn.base import BaseEstimator, TransformerMixin\n",
        "from transformers import AutoTokenizer, AutoModelForMaskedLM, AutoConfig, AutoTokenizer, AutoModel, TFAutoModel"
      ]
    },
    {
      "cell_type": "markdown",
      "id": "URH-AirBjcrL",
      "metadata": {
        "id": "URH-AirBjcrL"
      },
      "source": [
        "# Loading & Preparing Data"
      ]
    },
    {
      "cell_type": "markdown",
      "id": "cWjISsLTPtqw",
      "metadata": {
        "id": "cWjISsLTPtqw"
      },
      "source": [
        "## Corpus"
      ]
    },
    {
      "cell_type": "code",
      "execution_count": null,
      "id": "cX9FwdFUjfkj",
      "metadata": {
        "id": "cX9FwdFUjfkj"
      },
      "outputs": [],
      "source": [
        "!wget https://github.com/language-ml/2-LM-embedding-projects/raw/main/problem3/doc_collection.zip"
      ]
    },
    {
      "cell_type": "code",
      "execution_count": null,
      "id": "AHXJRwbKk8mK",
      "metadata": {
        "id": "AHXJRwbKk8mK"
      },
      "outputs": [],
      "source": [
        "!unzip doc_collection.zip -d dataset"
      ]
    },
    {
      "cell_type": "code",
      "execution_count": null,
      "id": "9YX2f4_plKLa",
      "metadata": {
        "id": "9YX2f4_plKLa"
      },
      "outputs": [],
      "source": [
        "!cat IR_dataset/1000.txt"
      ]
    },
    {
      "cell_type": "markdown",
      "id": "3a4e5bda",
      "metadata": {
        "id": "3a4e5bda"
      },
      "source": [
        "<div dir='rtl'>\n",
        "    در این بخش مجموعه دادگان دانلود و استخراج می‌شود و سپس از روی آن\n",
        "    Corpus\n",
        "    برای ساخت مدل‌های زبانی ایجاد می‌کنیم\n",
        "</div>"
      ]
    },
    {
      "cell_type": "code",
      "execution_count": 7,
      "id": "Yr2uuva8lt2R",
      "metadata": {
        "id": "Yr2uuva8lt2R"
      },
      "outputs": [],
      "source": [
        "corpus = [(int(path.stem), path.open().read()) for path in Path('dataset/IR_dataset').iterdir()]\n",
        "corpus = pd.DataFrame(corpus, columns=['docId','text']).set_index('docId').sort_index()"
      ]
    },
    {
      "cell_type": "code",
      "execution_count": null,
      "id": "em6lACkLggoq",
      "metadata": {
        "colab": {
          "base_uri": "https://localhost:8080/",
          "height": 237
        },
        "id": "em6lACkLggoq",
        "outputId": "b0b330b3-bb87-4576-e722-8ce792f49af9"
      },
      "outputs": [
        {
          "data": {
            "text/html": [
              "<div>\n",
              "<style scoped>\n",
              "    .dataframe tbody tr th:only-of-type {\n",
              "        vertical-align: middle;\n",
              "    }\n",
              "\n",
              "    .dataframe tbody tr th {\n",
              "        vertical-align: top;\n",
              "    }\n",
              "\n",
              "    .dataframe thead th {\n",
              "        text-align: right;\n",
              "    }\n",
              "</style>\n",
              "<table border=\"1\" class=\"dataframe\">\n",
              "  <thead>\n",
              "    <tr style=\"text-align: right;\">\n",
              "      <th></th>\n",
              "      <th>text</th>\n",
              "    </tr>\n",
              "    <tr>\n",
              "      <th>docId</th>\n",
              "      <th></th>\n",
              "    </tr>\n",
              "  </thead>\n",
              "  <tbody>\n",
              "    <tr>\n",
              "      <th>0</th>\n",
              "      <td>برخی از هواداران مصدق یا اعضای جبهه ملی که در ...</td>\n",
              "    </tr>\n",
              "    <tr>\n",
              "      <th>1</th>\n",
              "      <td>جبهه ملی ایران که به اختصار جبهه ملی نیز خواند...</td>\n",
              "    </tr>\n",
              "    <tr>\n",
              "      <th>2</th>\n",
              "      <td>سرلشکر زاهدی در سال ۱۳۲۸ و پس از آن‌که دخالت‌ه...</td>\n",
              "    </tr>\n",
              "    <tr>\n",
              "      <th>3</th>\n",
              "      <td>نمایندگان طرفدار مصدق در حمایت از ابقای دولت و...</td>\n",
              "    </tr>\n",
              "    <tr>\n",
              "      <th>4</th>\n",
              "      <td>نمایندگان طرفدار مصدق در حمایت از ابقای دولت و...</td>\n",
              "    </tr>\n",
              "  </tbody>\n",
              "</table>\n",
              "</div>"
            ],
            "text/plain": [
              "                                                    text\n",
              "docId                                                   \n",
              "0      برخی از هواداران مصدق یا اعضای جبهه ملی که در ...\n",
              "1      جبهه ملی ایران که به اختصار جبهه ملی نیز خواند...\n",
              "2      سرلشکر زاهدی در سال ۱۳۲۸ و پس از آن‌که دخالت‌ه...\n",
              "3      نمایندگان طرفدار مصدق در حمایت از ابقای دولت و...\n",
              "4      نمایندگان طرفدار مصدق در حمایت از ابقای دولت و..."
            ]
          },
          "execution_count": 6,
          "metadata": {},
          "output_type": "execute_result"
        }
      ],
      "source": [
        "corpus.head()"
      ]
    },
    {
      "cell_type": "markdown",
      "id": "YovdZ4crPwmk",
      "metadata": {
        "id": "YovdZ4crPwmk"
      },
      "source": [
        "## Qrels"
      ]
    },
    {
      "cell_type": "markdown",
      "id": "cf04241b",
      "metadata": {
        "id": "cf04241b"
      },
      "source": [
        "<div dir='rtl'>\n",
        "    در این بخش فایل کوئری‌ها را دانلود می‌کنیم و از روی فایل آن دیتافریمی می‌سازیم که کوئری و داک بازیابی شده با سطح نزدیکی را نمایش دهد\n",
        "</div>"
      ]
    },
    {
      "cell_type": "code",
      "execution_count": null,
      "id": "qxLS7matqWct",
      "metadata": {
        "id": "qxLS7matqWct"
      },
      "outputs": [],
      "source": [
        "!wget https://raw.githubusercontent.com/language-ml/2-LM-embedding-projects/main/problem3/evaluation_IR.yml -P dataset"
      ]
    },
    {
      "cell_type": "code",
      "execution_count": 10,
      "id": "OMzUU5mVqHSg",
      "metadata": {
        "id": "OMzUU5mVqHSg"
      },
      "outputs": [],
      "source": [
        "query_raw_data = yaml.safe_load(open('dataset/evaluation_IR.yml'))"
      ]
    },
    {
      "cell_type": "code",
      "execution_count": 11,
      "id": "fMhrz0biMTn1",
      "metadata": {
        "id": "fMhrz0biMTn1"
      },
      "outputs": [],
      "source": [
        "query = pd.Series(query_raw_data.keys())\n",
        "qrels = [{'query_id':idx, 'doc_id':d,\n",
        "          'relevance':3} for idx,q in query.to_dict().items() for d in query_raw_data[q]['similar_high']]\n",
        "qrels.extend([{'query_id':idx, 'doc_id':d,\n",
        "          'relevance':2} for idx,q in query.to_dict().items() for d in query_raw_data[q]['similar_med']])\n",
        "qrels.extend([{'query_id':idx, 'doc_id':d,\n",
        "          'relevance':1} for idx,q in query.to_dict().items() for d in query_raw_data[q]['similar_low']])\n",
        "qrels.extend([{'query_id':idx, 'doc_id':query_raw_data[q]['relevant'][0],\n",
        "          'relevance':4} for idx,q in query.to_dict().items()])\n",
        "qrels = pd.DataFrame(qrels)"
      ]
    },
    {
      "cell_type": "code",
      "execution_count": null,
      "id": "Y4TNJYGzE1zp",
      "metadata": {
        "colab": {
          "base_uri": "https://localhost:8080/"
        },
        "id": "Y4TNJYGzE1zp",
        "outputId": "c71c26e4-7f4b-4661-e7df-71e7579d3562"
      },
      "outputs": [
        {
          "data": {
            "text/plain": [
              "('گرجستان  تاریخ',\n",
              " {'relevant': [388],\n",
              "  'similar_high': [389, 390, 391, 392, 393, 394],\n",
              "  'similar_low': [404, 405, 406, 407, 408, 409, 410, 411, 412, 413],\n",
              "  'similar_med': [395, 364, 396, 397, 398, 399, 400, 401, 402, 403]})"
            ]
          },
          "execution_count": 9,
          "metadata": {},
          "output_type": "execute_result"
        }
      ],
      "source": [
        "query[147],query_raw_data[query[147]]"
      ]
    },
    {
      "cell_type": "code",
      "execution_count": 12,
      "id": "5vr0k3fLgz5J",
      "metadata": {
        "colab": {
          "base_uri": "https://localhost:8080/",
          "height": 206
        },
        "id": "5vr0k3fLgz5J",
        "outputId": "95b77672-7ccd-4739-9b10-1b135d890358"
      },
      "outputs": [
        {
          "output_type": "execute_result",
          "data": {
            "text/html": [
              "\n",
              "  <div id=\"df-76f90f55-2e4e-4a43-adff-07c3a37f42db\">\n",
              "    <div class=\"colab-df-container\">\n",
              "      <div>\n",
              "<style scoped>\n",
              "    .dataframe tbody tr th:only-of-type {\n",
              "        vertical-align: middle;\n",
              "    }\n",
              "\n",
              "    .dataframe tbody tr th {\n",
              "        vertical-align: top;\n",
              "    }\n",
              "\n",
              "    .dataframe thead th {\n",
              "        text-align: right;\n",
              "    }\n",
              "</style>\n",
              "<table border=\"1\" class=\"dataframe\">\n",
              "  <thead>\n",
              "    <tr style=\"text-align: right;\">\n",
              "      <th></th>\n",
              "      <th>query_id</th>\n",
              "      <th>doc_id</th>\n",
              "      <th>relevance</th>\n",
              "    </tr>\n",
              "  </thead>\n",
              "  <tbody>\n",
              "    <tr>\n",
              "      <th>0</th>\n",
              "      <td>134</td>\n",
              "      <td>88</td>\n",
              "      <td>1</td>\n",
              "    </tr>\n",
              "    <tr>\n",
              "      <th>1</th>\n",
              "      <td>147</td>\n",
              "      <td>393</td>\n",
              "      <td>3</td>\n",
              "    </tr>\n",
              "    <tr>\n",
              "      <th>2</th>\n",
              "      <td>149</td>\n",
              "      <td>1512</td>\n",
              "      <td>3</td>\n",
              "    </tr>\n",
              "    <tr>\n",
              "      <th>3</th>\n",
              "      <td>129</td>\n",
              "      <td>1084</td>\n",
              "      <td>2</td>\n",
              "    </tr>\n",
              "    <tr>\n",
              "      <th>4</th>\n",
              "      <td>125</td>\n",
              "      <td>451</td>\n",
              "      <td>1</td>\n",
              "    </tr>\n",
              "  </tbody>\n",
              "</table>\n",
              "</div>\n",
              "      <button class=\"colab-df-convert\" onclick=\"convertToInteractive('df-76f90f55-2e4e-4a43-adff-07c3a37f42db')\"\n",
              "              title=\"Convert this dataframe to an interactive table.\"\n",
              "              style=\"display:none;\">\n",
              "        \n",
              "  <svg xmlns=\"http://www.w3.org/2000/svg\" height=\"24px\"viewBox=\"0 0 24 24\"\n",
              "       width=\"24px\">\n",
              "    <path d=\"M0 0h24v24H0V0z\" fill=\"none\"/>\n",
              "    <path d=\"M18.56 5.44l.94 2.06.94-2.06 2.06-.94-2.06-.94-.94-2.06-.94 2.06-2.06.94zm-11 1L8.5 8.5l.94-2.06 2.06-.94-2.06-.94L8.5 2.5l-.94 2.06-2.06.94zm10 10l.94 2.06.94-2.06 2.06-.94-2.06-.94-.94-2.06-.94 2.06-2.06.94z\"/><path d=\"M17.41 7.96l-1.37-1.37c-.4-.4-.92-.59-1.43-.59-.52 0-1.04.2-1.43.59L10.3 9.45l-7.72 7.72c-.78.78-.78 2.05 0 2.83L4 21.41c.39.39.9.59 1.41.59.51 0 1.02-.2 1.41-.59l7.78-7.78 2.81-2.81c.8-.78.8-2.07 0-2.86zM5.41 20L4 18.59l7.72-7.72 1.47 1.35L5.41 20z\"/>\n",
              "  </svg>\n",
              "      </button>\n",
              "      \n",
              "  <style>\n",
              "    .colab-df-container {\n",
              "      display:flex;\n",
              "      flex-wrap:wrap;\n",
              "      gap: 12px;\n",
              "    }\n",
              "\n",
              "    .colab-df-convert {\n",
              "      background-color: #E8F0FE;\n",
              "      border: none;\n",
              "      border-radius: 50%;\n",
              "      cursor: pointer;\n",
              "      display: none;\n",
              "      fill: #1967D2;\n",
              "      height: 32px;\n",
              "      padding: 0 0 0 0;\n",
              "      width: 32px;\n",
              "    }\n",
              "\n",
              "    .colab-df-convert:hover {\n",
              "      background-color: #E2EBFA;\n",
              "      box-shadow: 0px 1px 2px rgba(60, 64, 67, 0.3), 0px 1px 3px 1px rgba(60, 64, 67, 0.15);\n",
              "      fill: #174EA6;\n",
              "    }\n",
              "\n",
              "    [theme=dark] .colab-df-convert {\n",
              "      background-color: #3B4455;\n",
              "      fill: #D2E3FC;\n",
              "    }\n",
              "\n",
              "    [theme=dark] .colab-df-convert:hover {\n",
              "      background-color: #434B5C;\n",
              "      box-shadow: 0px 1px 3px 1px rgba(0, 0, 0, 0.15);\n",
              "      filter: drop-shadow(0px 1px 2px rgba(0, 0, 0, 0.3));\n",
              "      fill: #FFFFFF;\n",
              "    }\n",
              "  </style>\n",
              "\n",
              "      <script>\n",
              "        const buttonEl =\n",
              "          document.querySelector('#df-76f90f55-2e4e-4a43-adff-07c3a37f42db button.colab-df-convert');\n",
              "        buttonEl.style.display =\n",
              "          google.colab.kernel.accessAllowed ? 'block' : 'none';\n",
              "\n",
              "        async function convertToInteractive(key) {\n",
              "          const element = document.querySelector('#df-76f90f55-2e4e-4a43-adff-07c3a37f42db');\n",
              "          const dataTable =\n",
              "            await google.colab.kernel.invokeFunction('convertToInteractive',\n",
              "                                                     [key], {});\n",
              "          if (!dataTable) return;\n",
              "\n",
              "          const docLinkHtml = 'Like what you see? Visit the ' +\n",
              "            '<a target=\"_blank\" href=https://colab.research.google.com/notebooks/data_table.ipynb>data table notebook</a>'\n",
              "            + ' to learn more about interactive tables.';\n",
              "          element.innerHTML = '';\n",
              "          dataTable['output_type'] = 'display_data';\n",
              "          await google.colab.output.renderOutput(dataTable, element);\n",
              "          const docLink = document.createElement('div');\n",
              "          docLink.innerHTML = docLinkHtml;\n",
              "          element.appendChild(docLink);\n",
              "        }\n",
              "      </script>\n",
              "    </div>\n",
              "  </div>\n",
              "  "
            ],
            "text/plain": [
              "   query_id  doc_id  relevance\n",
              "0       134      88          1\n",
              "1       147     393          3\n",
              "2       149    1512          3\n",
              "3       129    1084          2\n",
              "4       125     451          1"
            ]
          },
          "metadata": {},
          "execution_count": 12
        }
      ],
      "source": [
        "qrels.sample(n=5).reset_index(drop=True)"
      ]
    },
    {
      "cell_type": "markdown",
      "id": "F8KJ3p-mnoht",
      "metadata": {
        "id": "F8KJ3p-mnoht"
      },
      "source": [
        "## Normaliztion"
      ]
    },
    {
      "cell_type": "markdown",
      "id": "9e6bb5b9",
      "metadata": {
        "id": "9e6bb5b9"
      },
      "source": [
        "<div dir='rtl'>\n",
        "    با استفاده از نرمال‌ساز کتابخانه هضم، فایل‌های خود را نرمال می‌کنیم که در فرآیند ساخت مدل زبانی بهتر عمل کنیم\n",
        "</div>"
      ]
    },
    {
      "cell_type": "code",
      "execution_count": 13,
      "id": "BjpC37pvg9Rz",
      "metadata": {
        "id": "BjpC37pvg9Rz"
      },
      "outputs": [],
      "source": [
        "normalize = hazm.Normalizer().normalize\n",
        "corpus.text = corpus.text.transform(normalize)\n",
        "query = query.transform(normalize)"
      ]
    },
    {
      "cell_type": "markdown",
      "id": "_IEs3O0emcKQ",
      "metadata": {
        "id": "_IEs3O0emcKQ"
      },
      "source": [
        "# Embedding the documents"
      ]
    },
    {
      "cell_type": "markdown",
      "id": "dS2qRcj5mmvL",
      "metadata": {
        "id": "dS2qRcj5mmvL"
      },
      "source": [
        "## Method 1 : Tfidf"
      ]
    },
    {
      "cell_type": "markdown",
      "id": "7b22ceba",
      "metadata": {
        "id": "7b22ceba"
      },
      "source": [
        "<div dir='rtl'>\n",
        "    برای ساخت بردارها بر اساس\n",
        "    Tf-Idf\n",
        "    از کتاب‌خانه\n",
        "    sklearn\n",
        "    استفاده می‌کنیم\n",
        "</div>"
      ]
    },
    {
      "cell_type": "code",
      "execution_count": 14,
      "id": "0x8lSOD-mp53",
      "metadata": {
        "colab": {
          "base_uri": "https://localhost:8080/"
        },
        "id": "0x8lSOD-mp53",
        "outputId": "289b4b5a-6f04-4c44-a982-5ddc3c559166"
      },
      "outputs": [
        {
          "output_type": "execute_result",
          "data": {
            "text/plain": [
              "TfidfVectorizer()"
            ]
          },
          "metadata": {},
          "execution_count": 14
        }
      ],
      "source": [
        "vectorizer = TfidfVectorizer()\n",
        "vectorizer.fit(corpus.text)"
      ]
    },
    {
      "cell_type": "markdown",
      "id": "vwbPf8qxJ_p9",
      "metadata": {
        "id": "vwbPf8qxJ_p9"
      },
      "source": [
        "## Method 2 : ParsBert"
      ]
    },
    {
      "cell_type": "markdown",
      "id": "8270ad4a",
      "metadata": {
        "id": "8270ad4a"
      },
      "source": [
        "<div dir='rtl'>\n",
        "    برای استفاده از برت، از\n",
        "    ParsBert\n",
        "    استفاده می‌کنیم.\n",
        "</div>"
      ]
    },
    {
      "cell_type": "code",
      "execution_count": null,
      "id": "lKWzZpzZjXQL",
      "metadata": {
        "id": "lKWzZpzZjXQL"
      },
      "outputs": [],
      "source": [
        "model_name_or_path = \"HooshvareLab/bert-fa-zwnj-base\"\n",
        "config = AutoConfig.from_pretrained(model_name_or_path)\n",
        "tokenizer = AutoTokenizer.from_pretrained(model_name_or_path)"
      ]
    },
    {
      "cell_type": "code",
      "execution_count": null,
      "id": "2ce5dc7c-066b-42be-81c5-378fba6f7611",
      "metadata": {
        "id": "2ce5dc7c-066b-42be-81c5-378fba6f7611",
        "outputId": "171b00e4-8425-43ec-b169-d4cd9c5f20ff"
      },
      "outputs": [
        {
          "name": "stderr",
          "output_type": "stream",
          "text": [
            "All TF 2.0 model weights were used when initializing BertModel.\n",
            "\n",
            "All the weights of BertModel were initialized from the TF 2.0 model.\n",
            "If your task is similar to the task the model of the checkpoint was trained on, you can already use BertModel for predictions without further training.\n"
          ]
        }
      ],
      "source": [
        "model = AutoModel.from_pretrained(model_name_or_path, from_tf = True)\n",
        "model = model.cuda()"
      ]
    },
    {
      "cell_type": "code",
      "execution_count": null,
      "id": "wwgVFEvLwGf2",
      "metadata": {
        "id": "wwgVFEvLwGf2"
      },
      "outputs": [],
      "source": [
        "text = \"ما در قرن ۲۱ زندگی می‌کنیم\" \n",
        "encoding = tokenizer.encode_plus(\n",
        "      text,\n",
        "      add_special_tokens=True, # Add '[CLS]' and '[SEP]'\n",
        "      return_token_type_ids=False,\n",
        "      max_length = 500,\n",
        "      truncation=True,\n",
        "      return_attention_mask=True,\n",
        "      return_tensors='pt',  # Return PyTorch tensors\n",
        "    )\n",
        "out = model(\n",
        "            input_ids = encoding['input_ids'].cuda(), \n",
        "            attention_mask= encoding['attention_mask'].cuda())\n",
        "out['pooler_output'][0]"
      ]
    },
    {
      "cell_type": "markdown",
      "id": "f1876c19",
      "metadata": {
        "id": "f1876c19"
      },
      "source": [
        "<div dir='rtl'>\n",
        "    ابتدا تنظیمات لازم را برای استفاده از مدل از پیش آموزش داده شده تنظیم می‌کنیم.\n",
        "    سپس از آنجا که طول داک‌ها بعضا بیشتر از ۵۰۰ کلمه هستند،\n",
        "    هر فایل را به پنجره‌های ۳۰۰ کلمه‌ای تقسیم می‌کنیم،\n",
        "    به طوری که هر کلمه در دو پنجره ظاهر شود و با این کار برای هر فایل ممکن است چند بردار تولید شود\n",
        "    نهایتا نزدیک‌ترین بردار آن به کوئری را به عنوان پاسخ آن در نظر می‌گیریم؛\n",
        "    اما گویا به طور کلی از برت برای داده‌های بزرگ استفاده نمی‌شود\n",
        "</div>"
      ]
    },
    {
      "cell_type": "code",
      "execution_count": null,
      "id": "0CJT2mJ3-OuZ",
      "metadata": {
        "id": "0CJT2mJ3-OuZ"
      },
      "outputs": [],
      "source": [
        "def get_embed(part):\n",
        "  encoding = tokenizer.encode_plus(\n",
        "    part,\n",
        "    add_special_tokens=True, # Add '[CLS]' and '[SEP]'\n",
        "    return_token_type_ids=False,\n",
        "    max_length = 500,\n",
        "    truncation=True,\n",
        "    return_attention_mask=True,\n",
        "    return_tensors='pt',  # Return PyTorch tensors\n",
        "  )\n",
        "  encoding = {k:v.cuda() for k,v in encoding.items()}\n",
        "  with torch.no_grad():\n",
        "    out = model(**encoding)\n",
        "  return out['pooler_output'].cpu().numpy()"
      ]
    },
    {
      "cell_type": "code",
      "execution_count": null,
      "id": "w1yGQuFmwc9R",
      "metadata": {
        "colab": {
          "base_uri": "https://localhost:8080/"
        },
        "id": "w1yGQuFmwc9R",
        "outputId": "a0ee3187-edd8-495d-8be8-397e9a739247",
        "tags": []
      },
      "outputs": [
        {
          "name": "stderr",
          "output_type": "stream",
          "text": [
            "3258it [06:04,  8.95it/s]\n"
          ]
        }
      ],
      "source": [
        "doc_vec = np.empty((0, 768))\n",
        "doc_map = np.empty(0)\n",
        "\n",
        "for index, doc in tqdm.tqdm(corpus.iterrows()):\n",
        "  doc_split = doc['text'].split()\n",
        "  doc_parts = [' '.join(doc_split[i:i + 300]) for i in range(0, len(doc_split) - 150, 150)]\n",
        "  for part in doc_parts:\n",
        "    doc_vec = np.append(doc_vec, get_embed(part), axis = 0)\n",
        "    doc_map = np.append(doc_map, index)"
      ]
    },
    {
      "cell_type": "markdown",
      "id": "daa36e63",
      "metadata": {
        "id": "daa36e63"
      },
      "source": [
        "<div dir='rtl'>\n",
        "    پیاده‌سازی روش سوم که\n",
        "    tf-idf\n",
        "    وزن‌دار برحسب\n",
        "    pos-tag\n",
        "    هاست در نوتبوکی رو فولدر\n",
        "    method-3\n",
        "    آمده‌است\n",
        "</div>"
      ]
    },
    {
      "cell_type": "markdown",
      "id": "vB7lcQxsoZZy",
      "metadata": {
        "id": "vB7lcQxsoZZy"
      },
      "source": [
        "# Document Retrieval"
      ]
    },
    {
      "cell_type": "markdown",
      "id": "dbf79bdf",
      "metadata": {
        "id": "dbf79bdf"
      },
      "source": [
        "<div dir='rtl'>\n",
        "    با استفاده از تابع نزدیک‌ترین همسایه‌ها در\n",
        "    sklearn\n",
        "    کلاسی برای اجرای الگوریتم\n",
        "    KNN\n",
        "    می‌سازیم که داک‌ها را\n",
        "    fit\n",
        "    کند و داک‌های نزدیک کوئری را حدس بزند.\n",
        "    برای هر دو روش برت و\n",
        "    tf-idf\n",
        "    از\n",
        "    knn\n",
        "    استفاده می‌کنیم\n",
        "</div>"
      ]
    },
    {
      "cell_type": "code",
      "execution_count": 60,
      "id": "Fu0yYIIrLbpX",
      "metadata": {
        "id": "Fu0yYIIrLbpX"
      },
      "outputs": [],
      "source": [
        "class KNN_based_IR(BaseEstimator):\n",
        "  def __init__(self,n_neighbors=1+10+10+10,metric='euclidean') -> None:\n",
        "    self.n_neighbors = n_neighbors\n",
        "    self.metric = metric\n",
        "    self.nn = NearestNeighbors(n_neighbors=n_neighbors,metric=metric)\n",
        "  def set_params(self,**kwargs):\n",
        "    if 'n_neighbors' in kwargs:\n",
        "      self.n_neighbors = kwargs['n_neighbors']\n",
        "    if 'metric' in kwargs:\n",
        "      self.metric = kwargs['metric']\n",
        "    self.nn.set_params(**kwargs)\n",
        "  def fit(self, X: np.array,y: None):\n",
        "    self.nn.fit(X)\n",
        "  def predict(self, X: np.array):\n",
        "    distances, docIds = self.nn.kneighbors(X,n_neighbors=self.n_neighbors)\n",
        "    scores = np.max(distances)-distances\n",
        "    return scores, docIds"
      ]
    },
    {
      "cell_type": "code",
      "execution_count": 61,
      "id": "cSu5M10thrcN",
      "metadata": {
        "id": "cSu5M10thrcN"
      },
      "outputs": [],
      "source": [
        "IR_system = KNN_based_IR()\n",
        "IR_system.fit(vectorizer.transform(corpus.text),None)"
      ]
    },
    {
      "cell_type": "code",
      "execution_count": null,
      "id": "dQucB5SN2s9-",
      "metadata": {
        "id": "dQucB5SN2s9-"
      },
      "outputs": [],
      "source": [
        "bert_knn = KNN_based_IR(80)\n",
        "bert_knn.fit(doc_vec)"
      ]
    },
    {
      "cell_type": "markdown",
      "id": "9FD5slp-hsik",
      "metadata": {
        "id": "9FD5slp-hsik"
      },
      "source": [
        "# IR Evaluation\n",
        "Tailored for our multi-level Test Collection."
      ]
    },
    {
      "cell_type": "code",
      "execution_count": null,
      "id": "MmLtge7sy__H",
      "metadata": {
        "id": "MmLtge7sy__H"
      },
      "outputs": [],
      "source": [
        "def tf_knn_pred(knn):\n",
        "  return knn.predict(vectorizer.transform(query))\n",
        "\n",
        "\n",
        "preds = tf_knn_pred(IR_system)"
      ]
    },
    {
      "cell_type": "markdown",
      "id": "63025700",
      "metadata": {
        "id": "63025700"
      },
      "source": [
        "<div dir='rtl'>\n",
        "    برای تخمین برت برحسب\n",
        "    knn\n",
        "    باید تعداد بیشتری بردار نزدیک را به دست بیاوریم و بردارهای مربوط به یک داک یکسان را از روی آن حذف کنیم\n",
        "    و فقط نزدیک‌ترین را باقی بگذاریم\n",
        "</div>"
      ]
    },
    {
      "cell_type": "code",
      "execution_count": null,
      "id": "IGEslI50bUEf",
      "metadata": {
        "colab": {
          "base_uri": "https://localhost:8080/",
          "height": 201
        },
        "id": "IGEslI50bUEf",
        "outputId": "a9899c07-756a-44e0-e7d4-6fed35600ac0"
      },
      "outputs": [
        {
          "name": "stderr",
          "output_type": "stream",
          "text": [
            "100%|██████████| 150/150 [00:06<00:00, 24.19it/s]\n"
          ]
        }
      ],
      "source": [
        "def bert_knn_pred(knn):\n",
        "  bert_score = []\n",
        "  bert_id = []\n",
        "  mn = 100\n",
        "  for q in tqdm.tqdm(query):\n",
        "    score, oid = knn.predict(get_embed(q))\n",
        "    score = score[0]\n",
        "    doc_id = [doc_map[i] for i in oid[0]]\n",
        "    n_score = []\n",
        "    n_id = []\n",
        "    for sc, id in zip(score, doc_id):\n",
        "      if id not in n_id:\n",
        "        n_id.append(id)\n",
        "        n_score.append(sc)\n",
        "    mn = min(mn, len(n_score[:31]))\n",
        "    bert_score.append(n_score[:31])\n",
        "    bert_id.append(n_id[:31])\n",
        "  \n",
        "  return (np.array(bert_score), np.array(bert_id).astype(int))\n",
        "\n",
        "\n",
        "bert_pred = bert_knn_pred(bert_knn)"
      ]
    },
    {
      "cell_type": "markdown",
      "id": "iSK68yffPg8-",
      "metadata": {
        "id": "iSK68yffPg8-"
      },
      "source": [
        "## Adapting IR output to our Test Collection"
      ]
    },
    {
      "cell_type": "markdown",
      "id": "969a1ca5",
      "metadata": {
        "id": "969a1ca5"
      },
      "source": [
        "<div dir='rtl'>\n",
        "    از تابع زیر برای اینکه بتوانیم خروجی بازیابی را تبدیل به حالتی برای ارزیابی کوئری‌ها بکنیم استفاده می‌کنیم.\n",
        "    ما برای اینکه بتوانیم خروجی\n",
        "    knn\n",
        "    را تقریبا نزدیک به خروجی کوئری‌ها کنیم، تقریب زدیم که غیر از داک اصلی،\n",
        "    از هر سطح نزدیکی به طور میانگین ۱۰ داک بازیابی می‌شود و با استفاده از آن ملاک‌ها را اندازه می گیریم\n",
        "</div>"
      ]
    },
    {
      "cell_type": "code",
      "execution_count": 65,
      "id": "jDaNxlfrPovG",
      "metadata": {
        "id": "jDaNxlfrPovG"
      },
      "outputs": [],
      "source": [
        "def adapt_IR_output_to_measure_input(IR_output: Tuple[np.array, np.array]):\n",
        "  scores, docIds = IR_output\n",
        "  return pd.DataFrame({'query_id': np.tile(query.index,(docIds.shape[1],1)).flatten(order='F').astype(str),\n",
        "                       'doc_id':   docIds.flatten().astype(str),\n",
        "                       'score':    scores.flatten()})"
      ]
    },
    {
      "cell_type": "markdown",
      "id": "936edd54",
      "metadata": {
        "id": "936edd54"
      },
      "source": [
        "<div dir='rtl'>\n",
        "    این تابع نیز برای بهبود عملکرد\n",
        "    knn\n",
        "    ایجاد شده است تا با تغییر متریک آن بتوانیم بازیابی بهتری با توجه به ملاک‌های ارزیابی داشته باشیم\n",
        "</div>"
      ]
    },
    {
      "cell_type": "code",
      "execution_count": null,
      "id": "dIBggEIjOGJ5",
      "metadata": {
        "id": "dIBggEIjOGJ5"
      },
      "outputs": [],
      "source": [
        "def knn_tuning(n, param, embed, pred_f, measure):\n",
        "  score = -1\n",
        "  best_p = -1\n",
        "  for p in param:\n",
        "    knn = KNN_based_IR(n)\n",
        "    knn.set_params(metric = p)\n",
        "    knn.fit(embed)\n",
        "    val = measure(qrels.astype({'query_id':str,'doc_id':str}),pred_f(knn))\n",
        "    if val > score:\n",
        "      score = val\n",
        "      best_p = p\n",
        "  return best_p, score\n",
        "\n",
        "\n",
        "param = ['cityblock', 'cosine', 'euclidean', 'l1', 'l2', 'manhattan'] # Metrics for sparse input"
      ]
    },
    {
      "cell_type": "markdown",
      "id": "oYNQ3qYThxZ_",
      "metadata": {
        "id": "oYNQ3qYThxZ_"
      },
      "source": [
        "## MRR (Mean Reciprocal Rank)"
      ]
    },
    {
      "cell_type": "markdown",
      "id": "9411db02",
      "metadata": {
        "id": "9411db02"
      },
      "source": [
        "<div dir='rtl'>\n",
        "    برای استفاده از این اندازه‌گیری، باید محل مرتبط‌ترین داک هر کوئری را بین لیست داک‌های بازیابی شده بیابیم و معکوس آن را حساب کنیم و سپس میانگین بگیریم.\n",
        "</div>"
      ]
    },
    {
      "cell_type": "code",
      "execution_count": 36,
      "id": "1tXZutKIhv7V",
      "metadata": {
        "id": "1tXZutKIhv7V"
      },
      "outputs": [],
      "source": [
        "MRR = IRm.measures.MRR()\n",
        "def mrr_measure(qrels, ret):\n",
        "  ret = adapt_IR_output_to_measure_input(ret)\n",
        "  return MRR.calc_aggregate(qrels[qrels.relevance == 4], ret)\n",
        "# mrr_scorer = make_scorer(mrr)"
      ]
    },
    {
      "cell_type": "code",
      "execution_count": null,
      "id": "KokouE3mi5X7",
      "metadata": {
        "colab": {
          "base_uri": "https://localhost:8080/"
        },
        "id": "KokouE3mi5X7",
        "outputId": "b5d32932-d27c-485e-a6f1-5a0f43277969"
      },
      "outputs": [
        {
          "data": {
            "text/plain": [
              "0.11047063325391496"
            ]
          },
          "execution_count": 26,
          "metadata": {},
          "output_type": "execute_result"
        }
      ],
      "source": [
        "mrr_measure(qrels.astype({'query_id':str,'doc_id':str}),preds)"
      ]
    },
    {
      "cell_type": "code",
      "execution_count": null,
      "id": "n7IwsjeKS2w1",
      "metadata": {
        "colab": {
          "base_uri": "https://localhost:8080/"
        },
        "id": "n7IwsjeKS2w1",
        "outputId": "ed9bf154-c592-4077-807d-eee6310995c7"
      },
      "outputs": [
        {
          "data": {
            "text/plain": [
              "('cosine', 0.11664736491005835)"
            ]
          },
          "execution_count": 27,
          "metadata": {},
          "output_type": "execute_result"
        }
      ],
      "source": [
        "knn_tuning(31, param, vectorizer.transform(corpus.text), tf_knn_pred, mrr_measure)"
      ]
    },
    {
      "cell_type": "code",
      "execution_count": null,
      "id": "xXg9mfejzGIe",
      "metadata": {
        "colab": {
          "base_uri": "https://localhost:8080/"
        },
        "id": "xXg9mfejzGIe",
        "outputId": "3b3f9e63-cf56-482b-c688-b138dd11956f"
      },
      "outputs": [
        {
          "data": {
            "text/plain": [
              "0.06931617823372208"
            ]
          },
          "execution_count": 28,
          "metadata": {},
          "output_type": "execute_result"
        }
      ],
      "source": [
        "mrr_measure(qrels.astype({'query_id':str,'doc_id':str}),bert_pred)"
      ]
    },
    {
      "cell_type": "code",
      "execution_count": null,
      "id": "cdd3e60b-5e15-4d66-8673-e4e36b685241",
      "metadata": {
        "id": "cdd3e60b-5e15-4d66-8673-e4e36b685241",
        "outputId": "fb08c04f-8bd3-4107-b32c-3ba2c40b636f"
      },
      "outputs": [
        {
          "name": "stderr",
          "output_type": "stream",
          "text": [
            "100%|██████████| 150/150 [00:05<00:00, 25.60it/s]\n",
            "100%|██████████| 150/150 [00:11<00:00, 12.60it/s]\n",
            "100%|██████████| 150/150 [00:05<00:00, 25.01it/s]\n",
            "100%|██████████| 150/150 [00:05<00:00, 26.23it/s]\n",
            "100%|██████████| 150/150 [00:06<00:00, 24.50it/s]\n",
            "100%|██████████| 150/150 [00:05<00:00, 25.57it/s]\n"
          ]
        },
        {
          "data": {
            "text/plain": [
              "('cosine', 0.06982707206877474)"
            ]
          },
          "execution_count": 29,
          "metadata": {},
          "output_type": "execute_result"
        }
      ],
      "source": [
        "knn_tuning(80, param, doc_vec, bert_knn_pred, mrr_measure)"
      ]
    },
    {
      "cell_type": "markdown",
      "id": "rFbJ5vp_lXeA",
      "metadata": {
        "id": "rFbJ5vp_lXeA"
      },
      "source": [
        "## MAP (Mean Average Precision)"
      ]
    },
    {
      "cell_type": "code",
      "execution_count": 37,
      "id": "J4z0Ti8eldAH",
      "metadata": {
        "id": "J4z0Ti8eldAH"
      },
      "outputs": [],
      "source": [
        "def map_measure(qrels, ret):\n",
        "  ret = adapt_IR_output_to_measure_input(ret)\n",
        "  return np.mean([IRm.measures.AP(rel=level).\\\n",
        "                    calc_aggregate(qrels[qrels.relevance == level], ret) for level in range(1,4+1)])\n",
        "\n",
        "# map_scorer = make_scorer(map)"
      ]
    },
    {
      "cell_type": "code",
      "execution_count": null,
      "id": "dkp5CLB8jB2O",
      "metadata": {
        "colab": {
          "base_uri": "https://localhost:8080/"
        },
        "id": "dkp5CLB8jB2O",
        "outputId": "c2055741-e782-4636-8672-dcf94f804f05"
      },
      "outputs": [
        {
          "data": {
            "text/plain": [
              "0.06630537139767945"
            ]
          },
          "execution_count": 31,
          "metadata": {},
          "output_type": "execute_result"
        }
      ],
      "source": [
        "map_measure(qrels.astype({'query_id':str,'doc_id':str}),preds)"
      ]
    },
    {
      "cell_type": "code",
      "execution_count": null,
      "id": "5CXrnzUbVD4A",
      "metadata": {
        "colab": {
          "base_uri": "https://localhost:8080/"
        },
        "id": "5CXrnzUbVD4A",
        "outputId": "f25e4e20-7b5b-4aa9-dca6-aa52ed3129a4"
      },
      "outputs": [
        {
          "data": {
            "text/plain": [
              "('cosine', 0.06931719832816999)"
            ]
          },
          "execution_count": 32,
          "metadata": {},
          "output_type": "execute_result"
        }
      ],
      "source": [
        "knn_tuning(31, param, vectorizer.transform(corpus.text), tf_knn_pred, map_measure)"
      ]
    },
    {
      "cell_type": "code",
      "execution_count": null,
      "id": "z454fP2tzMiw",
      "metadata": {
        "colab": {
          "base_uri": "https://localhost:8080/"
        },
        "id": "z454fP2tzMiw",
        "outputId": "0dc6c753-4138-42ae-93f5-4318b2e54fdf"
      },
      "outputs": [
        {
          "data": {
            "text/plain": [
              "0.048315030270106925"
            ]
          },
          "execution_count": 33,
          "metadata": {},
          "output_type": "execute_result"
        }
      ],
      "source": [
        "map_measure(qrels.astype({'query_id':str,'doc_id':str}),bert_pred)"
      ]
    },
    {
      "cell_type": "code",
      "execution_count": null,
      "id": "78880f20-5751-4754-8976-5339f384f4ef",
      "metadata": {
        "id": "78880f20-5751-4754-8976-5339f384f4ef",
        "outputId": "067dd2be-4738-4e5b-8825-bcddc25a33fa"
      },
      "outputs": [
        {
          "name": "stderr",
          "output_type": "stream",
          "text": [
            "100%|██████████| 150/150 [00:06<00:00, 24.61it/s]\n",
            "100%|██████████| 150/150 [00:11<00:00, 13.24it/s]\n",
            "100%|██████████| 150/150 [00:06<00:00, 24.08it/s]\n",
            "100%|██████████| 150/150 [00:05<00:00, 25.18it/s]\n",
            "100%|██████████| 150/150 [00:06<00:00, 24.42it/s]\n",
            "100%|██████████| 150/150 [00:05<00:00, 25.91it/s]\n"
          ]
        },
        {
          "data": {
            "text/plain": [
              "('cityblock', 0.04838834768432319)"
            ]
          },
          "execution_count": 34,
          "metadata": {},
          "output_type": "execute_result"
        }
      ],
      "source": [
        "knn_tuning(80, param, doc_vec, bert_knn_pred, map_measure)"
      ]
    },
    {
      "cell_type": "markdown",
      "id": "xbhSNyvo19ja",
      "metadata": {
        "id": "xbhSNyvo19ja"
      },
      "source": [
        "## P@K"
      ]
    },
    {
      "cell_type": "markdown",
      "id": "034427d4",
      "metadata": {
        "id": "034427d4"
      },
      "source": [
        "<div dir='rtl'>\n",
        "    با توجه به اینکه در کوئری‌ها ما رنکینگ نداریم، برای محاسبه این معیار\n",
        "    precision\n",
        "    را در\n",
        "    i\n",
        "    دسته اول حساب می‌کنیم و سپس میانگین آن‌ها را برمی‌گردانیم\n",
        "</div>"
      ]
    },
    {
      "cell_type": "code",
      "execution_count": 38,
      "id": "8IRhcs4H19NU",
      "metadata": {
        "id": "8IRhcs4H19NU"
      },
      "outputs": [],
      "source": [
        "def p_measure(qrels, ret):\n",
        "  ret = adapt_IR_output_to_measure_input(ret)\n",
        "  return np.mean([IRm.measures.P(cutoff=k, rel=level).\\\n",
        "                    calc_aggregate(qrels[qrels.relevance == level], ret)\\\n",
        "                  for k,level in zip([1,11,21,31],range(1,4+1))])"
      ]
    },
    {
      "cell_type": "code",
      "execution_count": null,
      "id": "A4s1-EdTjd52",
      "metadata": {
        "colab": {
          "base_uri": "https://localhost:8080/"
        },
        "id": "A4s1-EdTjd52",
        "outputId": "78b91910-1fc8-40f7-c9c2-4bcba51e3468"
      },
      "outputs": [
        {
          "data": {
            "text/plain": [
              "0.033872596937113045"
            ]
          },
          "execution_count": 36,
          "metadata": {},
          "output_type": "execute_result"
        }
      ],
      "source": [
        "p_measure(qrels.astype({'query_id':str,'doc_id':str}),preds)"
      ]
    },
    {
      "cell_type": "code",
      "execution_count": null,
      "id": "5JS9sRhmVOXm",
      "metadata": {
        "colab": {
          "base_uri": "https://localhost:8080/"
        },
        "id": "5JS9sRhmVOXm",
        "outputId": "f535e4ff-ec89-4171-d1ca-c293c1d4171a"
      },
      "outputs": [
        {
          "data": {
            "text/plain": [
              "('cosine', 0.03418284224735836)"
            ]
          },
          "execution_count": 37,
          "metadata": {},
          "output_type": "execute_result"
        }
      ],
      "source": [
        "knn_tuning(31, param, vectorizer.transform(corpus.text), tf_knn_pred, p_measure)"
      ]
    },
    {
      "cell_type": "code",
      "execution_count": null,
      "id": "ITU8eJ6wzQcz",
      "metadata": {
        "colab": {
          "base_uri": "https://localhost:8080/"
        },
        "id": "ITU8eJ6wzQcz",
        "outputId": "0150aac5-b08e-4be2-84be-910a080fd6a3"
      },
      "outputs": [
        {
          "data": {
            "text/plain": [
              "0.026597076758367057"
            ]
          },
          "execution_count": 38,
          "metadata": {},
          "output_type": "execute_result"
        }
      ],
      "source": [
        "p_measure(qrels.astype({'query_id':str,'doc_id':str}),bert_pred)"
      ]
    },
    {
      "cell_type": "code",
      "execution_count": null,
      "id": "53ec0d85-22ec-4f25-a826-602d5a5a50e3",
      "metadata": {
        "id": "53ec0d85-22ec-4f25-a826-602d5a5a50e3",
        "outputId": "a9e60605-a4f3-4d64-f79e-ba8c3734fca5"
      },
      "outputs": [
        {
          "name": "stderr",
          "output_type": "stream",
          "text": [
            "100%|██████████| 150/150 [00:06<00:00, 24.51it/s]\n",
            "100%|██████████| 150/150 [00:11<00:00, 12.68it/s]\n",
            "100%|██████████| 150/150 [00:06<00:00, 24.47it/s]\n",
            "100%|██████████| 150/150 [00:05<00:00, 25.32it/s]\n",
            "100%|██████████| 150/150 [00:06<00:00, 24.64it/s]\n",
            "100%|██████████| 150/150 [00:05<00:00, 26.06it/s]\n"
          ]
        },
        {
          "data": {
            "text/plain": [
              "('cosine', 0.02688893543732251)"
            ]
          },
          "execution_count": 39,
          "metadata": {},
          "output_type": "execute_result"
        }
      ],
      "source": [
        "knn_tuning(80, param, doc_vec, bert_knn_pred, p_measure)"
      ]
    },
    {
      "cell_type": "markdown",
      "id": "434057fc",
      "metadata": {
        "id": "434057fc"
      },
      "source": [
        "<div dir='rtl'>\n",
        "    بنظر می‌رسد\n",
        "    tuning\n",
        "    های انجام شده تغییر ناچیزی در امتیازهای ما داشته‌اند و نتیجه را بهبود چندانی نداده‌اند\n",
        "</div>"
      ]
    },
    {
      "cell_type": "markdown",
      "id": "-t-lIUk3Mi3i",
      "metadata": {
        "id": "-t-lIUk3Mi3i"
      },
      "source": [
        "# Pipeline Definition"
      ]
    },
    {
      "cell_type": "code",
      "source": [
        "param_grid = {\n",
        "    'embedding__ngram_range': [(1,2),(1,3),(1,4)],\n",
        "    'embedding__max_features': range(100000,1000,-10000),\n",
        "    'retrieval__n_neighbors': range(10,100,10),\n",
        "    'retrieval__metric': ['cityblock', 'cosine', 'euclidean', 'l1', 'l2', 'manhattan']\n",
        "}\n",
        "measures = {\n",
        "    'MRR' : mrr_measure,\n",
        "    'MAP' : map_measure,\n",
        "    'P@K' : p_measure\n",
        "}"
      ],
      "metadata": {
        "id": "1YgJrm-e1P0h"
      },
      "id": "1YgJrm-e1P0h",
      "execution_count": 82,
      "outputs": []
    },
    {
      "cell_type": "code",
      "execution_count": 83,
      "id": "wOsckUZxMlOq",
      "metadata": {
        "id": "wOsckUZxMlOq"
      },
      "outputs": [],
      "source": [
        "cache = mkdtemp()\n",
        "pipeline = Pipeline([('embedding',vectorizer),\n",
        "                     ('retrieval',IR_system)],memory=cache)"
      ]
    },
    {
      "cell_type": "code",
      "source": [
        "results = []\n",
        "index = []\n",
        "for params in tqdm.tqdm(ParameterGrid(param_grid)):\n",
        "  pipeline.set_params(**params)\n",
        "  pipeline.fit(corpus.text,None)\n",
        "  preds = pipeline.predict(query)\n",
        "  results.append(tuple(m(qrels.astype({'query_id':str,'doc_id':str}),preds) for _,m in measures.items()))\n",
        "  index.append(tuple(p for _,p in params.items()))\n",
        "results = pd.DataFrame(results,columns=list(measures.keys()),\n",
        "                       index=pd.MultiIndex.from_tuples(index,names=list(param_grid.keys())))"
      ],
      "metadata": {
        "colab": {
          "base_uri": "https://localhost:8080/"
        },
        "id": "BarkVhazTNPv",
        "outputId": "03882f85-049a-4413-93c9-5f9fac5c84d4"
      },
      "id": "BarkVhazTNPv",
      "execution_count": 84,
      "outputs": [
        {
          "output_type": "stream",
          "name": "stderr",
          "text": [
            "  0%|          | 0/1620 [00:00<?, ?it/s]/usr/local/lib/python3.7/dist-packages/sklearn/pipeline.py:355: UserWarning: Persisting input arguments took 16.47s to run.\n",
            "If this happens often in your code, it can cause performance problems \n",
            "(results will be correct in all cases). \n",
            "The reason for this is probably some large input arguments for a wrapped\n",
            " function (e.g. large strings).\n",
            "THIS IS A JOBLIB ISSUE. If you can, kindly provide the joblib's team with an\n",
            " example so that they can fix the problem.\n",
            "  **fit_params_steps[name],\n",
            "  3%|▎         | 54/1620 [04:48<2:12:58,  5.09s/it]/usr/local/lib/python3.7/dist-packages/sklearn/pipeline.py:355: UserWarning: Persisting input arguments took 28.41s to run.\n",
            "If this happens often in your code, it can cause performance problems \n",
            "(results will be correct in all cases). \n",
            "The reason for this is probably some large input arguments for a wrapped\n",
            " function (e.g. large strings).\n",
            "THIS IS A JOBLIB ISSUE. If you can, kindly provide the joblib's team with an\n",
            " example so that they can fix the problem.\n",
            "  **fit_params_steps[name],\n",
            "  7%|▋         | 108/1620 [15:16<4:38:30, 11.05s/it]/usr/local/lib/python3.7/dist-packages/sklearn/pipeline.py:355: UserWarning: Persisting input arguments took 49.20s to run.\n",
            "If this happens often in your code, it can cause performance problems \n",
            "(results will be correct in all cases). \n",
            "The reason for this is probably some large input arguments for a wrapped\n",
            " function (e.g. large strings).\n",
            "THIS IS A JOBLIB ISSUE. If you can, kindly provide the joblib's team with an\n",
            " example so that they can fix the problem.\n",
            "  **fit_params_steps[name],\n",
            " 10%|█         | 162/1620 [33:05<7:23:38, 18.26s/it]/usr/local/lib/python3.7/dist-packages/sklearn/pipeline.py:355: UserWarning: Persisting input arguments took 18.71s to run.\n",
            "If this happens often in your code, it can cause performance problems \n",
            "(results will be correct in all cases). \n",
            "The reason for this is probably some large input arguments for a wrapped\n",
            " function (e.g. large strings).\n",
            "THIS IS A JOBLIB ISSUE. If you can, kindly provide the joblib's team with an\n",
            " example so that they can fix the problem.\n",
            "  **fit_params_steps[name],\n",
            " 13%|█▎        | 216/1620 [38:14<2:03:20,  5.27s/it]/usr/local/lib/python3.7/dist-packages/sklearn/pipeline.py:355: UserWarning: Persisting input arguments took 31.36s to run.\n",
            "If this happens often in your code, it can cause performance problems \n",
            "(results will be correct in all cases). \n",
            "The reason for this is probably some large input arguments for a wrapped\n",
            " function (e.g. large strings).\n",
            "THIS IS A JOBLIB ISSUE. If you can, kindly provide the joblib's team with an\n",
            " example so that they can fix the problem.\n",
            "  **fit_params_steps[name],\n",
            " 17%|█▋        | 270/1620 [48:46<4:01:42, 10.74s/it]/usr/local/lib/python3.7/dist-packages/sklearn/pipeline.py:355: UserWarning: Persisting input arguments took 51.82s to run.\n",
            "If this happens often in your code, it can cause performance problems \n",
            "(results will be correct in all cases). \n",
            "The reason for this is probably some large input arguments for a wrapped\n",
            " function (e.g. large strings).\n",
            "THIS IS A JOBLIB ISSUE. If you can, kindly provide the joblib's team with an\n",
            " example so that they can fix the problem.\n",
            "  **fit_params_steps[name],\n",
            " 20%|██        | 324/1620 [1:06:04<6:18:02, 17.50s/it]/usr/local/lib/python3.7/dist-packages/sklearn/pipeline.py:355: UserWarning: Persisting input arguments took 16.78s to run.\n",
            "If this happens often in your code, it can cause performance problems \n",
            "(results will be correct in all cases). \n",
            "The reason for this is probably some large input arguments for a wrapped\n",
            " function (e.g. large strings).\n",
            "THIS IS A JOBLIB ISSUE. If you can, kindly provide the joblib's team with an\n",
            " example so that they can fix the problem.\n",
            "  **fit_params_steps[name],\n",
            " 23%|██▎       | 378/1620 [1:10:57<1:45:50,  5.11s/it]/usr/local/lib/python3.7/dist-packages/sklearn/pipeline.py:355: UserWarning: Persisting input arguments took 29.67s to run.\n",
            "If this happens often in your code, it can cause performance problems \n",
            "(results will be correct in all cases). \n",
            "The reason for this is probably some large input arguments for a wrapped\n",
            " function (e.g. large strings).\n",
            "THIS IS A JOBLIB ISSUE. If you can, kindly provide the joblib's team with an\n",
            " example so that they can fix the problem.\n",
            "  **fit_params_steps[name],\n",
            " 27%|██▋       | 432/1620 [1:21:26<3:32:20, 10.72s/it]/usr/local/lib/python3.7/dist-packages/sklearn/pipeline.py:355: UserWarning: Persisting input arguments took 51.99s to run.\n",
            "If this happens often in your code, it can cause performance problems \n",
            "(results will be correct in all cases). \n",
            "The reason for this is probably some large input arguments for a wrapped\n",
            " function (e.g. large strings).\n",
            "THIS IS A JOBLIB ISSUE. If you can, kindly provide the joblib's team with an\n",
            " example so that they can fix the problem.\n",
            "  **fit_params_steps[name],\n",
            " 30%|███       | 486/1620 [1:38:42<5:45:58, 18.31s/it]/usr/local/lib/python3.7/dist-packages/sklearn/pipeline.py:355: UserWarning: Persisting input arguments took 17.33s to run.\n",
            "If this happens often in your code, it can cause performance problems \n",
            "(results will be correct in all cases). \n",
            "The reason for this is probably some large input arguments for a wrapped\n",
            " function (e.g. large strings).\n",
            "THIS IS A JOBLIB ISSUE. If you can, kindly provide the joblib's team with an\n",
            " example so that they can fix the problem.\n",
            "  **fit_params_steps[name],\n",
            " 33%|███▎      | 540/1620 [1:43:34<1:32:46,  5.15s/it]/usr/local/lib/python3.7/dist-packages/sklearn/pipeline.py:355: UserWarning: Persisting input arguments took 29.79s to run.\n",
            "If this happens often in your code, it can cause performance problems \n",
            "(results will be correct in all cases). \n",
            "The reason for this is probably some large input arguments for a wrapped\n",
            " function (e.g. large strings).\n",
            "THIS IS A JOBLIB ISSUE. If you can, kindly provide the joblib's team with an\n",
            " example so that they can fix the problem.\n",
            "  **fit_params_steps[name],\n",
            " 37%|███▋      | 594/1620 [1:53:51<2:59:12, 10.48s/it]/usr/local/lib/python3.7/dist-packages/sklearn/pipeline.py:355: UserWarning: Persisting input arguments took 47.44s to run.\n",
            "If this happens often in your code, it can cause performance problems \n",
            "(results will be correct in all cases). \n",
            "The reason for this is probably some large input arguments for a wrapped\n",
            " function (e.g. large strings).\n",
            "THIS IS A JOBLIB ISSUE. If you can, kindly provide the joblib's team with an\n",
            " example so that they can fix the problem.\n",
            "  **fit_params_steps[name],\n",
            " 40%|████      | 648/1620 [2:10:52<4:30:10, 16.68s/it]/usr/local/lib/python3.7/dist-packages/sklearn/pipeline.py:355: UserWarning: Persisting input arguments took 13.17s to run.\n",
            "If this happens often in your code, it can cause performance problems \n",
            "(results will be correct in all cases). \n",
            "The reason for this is probably some large input arguments for a wrapped\n",
            " function (e.g. large strings).\n",
            "THIS IS A JOBLIB ISSUE. If you can, kindly provide the joblib's team with an\n",
            " example so that they can fix the problem.\n",
            "  **fit_params_steps[name],\n",
            " 43%|████▎     | 702/1620 [2:15:26<1:14:09,  4.85s/it]/usr/local/lib/python3.7/dist-packages/sklearn/pipeline.py:355: UserWarning: Persisting input arguments took 28.79s to run.\n",
            "If this happens often in your code, it can cause performance problems \n",
            "(results will be correct in all cases). \n",
            "The reason for this is probably some large input arguments for a wrapped\n",
            " function (e.g. large strings).\n",
            "THIS IS A JOBLIB ISSUE. If you can, kindly provide the joblib's team with an\n",
            " example so that they can fix the problem.\n",
            "  **fit_params_steps[name],\n",
            " 47%|████▋     | 756/1620 [2:25:25<2:23:29,  9.96s/it]/usr/local/lib/python3.7/dist-packages/sklearn/pipeline.py:355: UserWarning: Persisting input arguments took 45.35s to run.\n",
            "If this happens often in your code, it can cause performance problems \n",
            "(results will be correct in all cases). \n",
            "The reason for this is probably some large input arguments for a wrapped\n",
            " function (e.g. large strings).\n",
            "THIS IS A JOBLIB ISSUE. If you can, kindly provide the joblib's team with an\n",
            " example so that they can fix the problem.\n",
            "  **fit_params_steps[name],\n",
            " 50%|█████     | 810/1620 [2:41:43<3:40:31, 16.34s/it]/usr/local/lib/python3.7/dist-packages/sklearn/pipeline.py:355: UserWarning: Persisting input arguments took 10.57s to run.\n",
            "If this happens often in your code, it can cause performance problems \n",
            "(results will be correct in all cases). \n",
            "The reason for this is probably some large input arguments for a wrapped\n",
            " function (e.g. large strings).\n",
            "THIS IS A JOBLIB ISSUE. If you can, kindly provide the joblib's team with an\n",
            " example so that they can fix the problem.\n",
            "  **fit_params_steps[name],\n",
            " 53%|█████▎    | 864/1620 [2:45:59<57:49,  4.59s/it]/usr/local/lib/python3.7/dist-packages/sklearn/pipeline.py:355: UserWarning: Persisting input arguments took 23.47s to run.\n",
            "If this happens often in your code, it can cause performance problems \n",
            "(results will be correct in all cases). \n",
            "The reason for this is probably some large input arguments for a wrapped\n",
            " function (e.g. large strings).\n",
            "THIS IS A JOBLIB ISSUE. If you can, kindly provide the joblib's team with an\n",
            " example so that they can fix the problem.\n",
            "  **fit_params_steps[name],\n",
            " 57%|█████▋    | 918/1620 [2:55:26<1:55:30,  9.87s/it]/usr/local/lib/python3.7/dist-packages/sklearn/pipeline.py:355: UserWarning: Persisting input arguments took 44.53s to run.\n",
            "If this happens often in your code, it can cause performance problems \n",
            "(results will be correct in all cases). \n",
            "The reason for this is probably some large input arguments for a wrapped\n",
            " function (e.g. large strings).\n",
            "THIS IS A JOBLIB ISSUE. If you can, kindly provide the joblib's team with an\n",
            " example so that they can fix the problem.\n",
            "  **fit_params_steps[name],\n",
            " 60%|██████    | 972/1620 [3:11:59<2:55:34, 16.26s/it]/usr/local/lib/python3.7/dist-packages/sklearn/pipeline.py:355: UserWarning: Persisting input arguments took 9.86s to run.\n",
            "If this happens often in your code, it can cause performance problems \n",
            "(results will be correct in all cases). \n",
            "The reason for this is probably some large input arguments for a wrapped\n",
            " function (e.g. large strings).\n",
            "THIS IS A JOBLIB ISSUE. If you can, kindly provide the joblib's team with an\n",
            " example so that they can fix the problem.\n",
            "  **fit_params_steps[name],\n",
            " 63%|██████▎   | 1026/1620 [3:16:08<43:09,  4.36s/it]/usr/local/lib/python3.7/dist-packages/sklearn/pipeline.py:355: UserWarning: Persisting input arguments took 22.54s to run.\n",
            "If this happens often in your code, it can cause performance problems \n",
            "(results will be correct in all cases). \n",
            "The reason for this is probably some large input arguments for a wrapped\n",
            " function (e.g. large strings).\n",
            "THIS IS A JOBLIB ISSUE. If you can, kindly provide the joblib's team with an\n",
            " example so that they can fix the problem.\n",
            "  **fit_params_steps[name],\n",
            " 67%|██████▋   | 1080/1620 [3:25:37<1:27:24,  9.71s/it]/usr/local/lib/python3.7/dist-packages/sklearn/pipeline.py:355: UserWarning: Persisting input arguments took 43.21s to run.\n",
            "If this happens often in your code, it can cause performance problems \n",
            "(results will be correct in all cases). \n",
            "The reason for this is probably some large input arguments for a wrapped\n",
            " function (e.g. large strings).\n",
            "THIS IS A JOBLIB ISSUE. If you can, kindly provide the joblib's team with an\n",
            " example so that they can fix the problem.\n",
            "  **fit_params_steps[name],\n",
            " 70%|███████   | 1134/1620 [3:41:43<2:10:54, 16.16s/it]/usr/local/lib/python3.7/dist-packages/sklearn/pipeline.py:355: UserWarning: Persisting input arguments took 9.09s to run.\n",
            "If this happens often in your code, it can cause performance problems \n",
            "(results will be correct in all cases). \n",
            "The reason for this is probably some large input arguments for a wrapped\n",
            " function (e.g. large strings).\n",
            "THIS IS A JOBLIB ISSUE. If you can, kindly provide the joblib's team with an\n",
            " example so that they can fix the problem.\n",
            "  **fit_params_steps[name],\n",
            " 73%|███████▎  | 1188/1620 [3:45:48<30:55,  4.30s/it]/usr/local/lib/python3.7/dist-packages/sklearn/pipeline.py:355: UserWarning: Persisting input arguments took 21.20s to run.\n",
            "If this happens often in your code, it can cause performance problems \n",
            "(results will be correct in all cases). \n",
            "The reason for this is probably some large input arguments for a wrapped\n",
            " function (e.g. large strings).\n",
            "THIS IS A JOBLIB ISSUE. If you can, kindly provide the joblib's team with an\n",
            " example so that they can fix the problem.\n",
            "  **fit_params_steps[name],\n",
            " 77%|███████▋  | 1242/1620 [3:55:15<1:02:07,  9.86s/it]/usr/local/lib/python3.7/dist-packages/sklearn/pipeline.py:355: UserWarning: Persisting input arguments took 40.49s to run.\n",
            "If this happens often in your code, it can cause performance problems \n",
            "(results will be correct in all cases). \n",
            "The reason for this is probably some large input arguments for a wrapped\n",
            " function (e.g. large strings).\n",
            "THIS IS A JOBLIB ISSUE. If you can, kindly provide the joblib's team with an\n",
            " example so that they can fix the problem.\n",
            "  **fit_params_steps[name],\n",
            " 80%|████████  | 1296/1620 [4:11:22<1:27:31, 16.21s/it]/usr/local/lib/python3.7/dist-packages/sklearn/pipeline.py:355: UserWarning: Persisting input arguments took 8.49s to run.\n",
            "If this happens often in your code, it can cause performance problems \n",
            "(results will be correct in all cases). \n",
            "The reason for this is probably some large input arguments for a wrapped\n",
            " function (e.g. large strings).\n",
            "THIS IS A JOBLIB ISSUE. If you can, kindly provide the joblib's team with an\n",
            " example so that they can fix the problem.\n",
            "  **fit_params_steps[name],\n",
            " 83%|████████▎ | 1350/1620 [4:15:17<19:02,  4.23s/it]/usr/local/lib/python3.7/dist-packages/sklearn/pipeline.py:355: UserWarning: Persisting input arguments took 18.77s to run.\n",
            "If this happens often in your code, it can cause performance problems \n",
            "(results will be correct in all cases). \n",
            "The reason for this is probably some large input arguments for a wrapped\n",
            " function (e.g. large strings).\n",
            "THIS IS A JOBLIB ISSUE. If you can, kindly provide the joblib's team with an\n",
            " example so that they can fix the problem.\n",
            "  **fit_params_steps[name],\n",
            " 87%|████████▋ | 1404/1620 [4:24:30<34:25,  9.56s/it]/usr/local/lib/python3.7/dist-packages/sklearn/pipeline.py:355: UserWarning: Persisting input arguments took 36.29s to run.\n",
            "If this happens often in your code, it can cause performance problems \n",
            "(results will be correct in all cases). \n",
            "The reason for this is probably some large input arguments for a wrapped\n",
            " function (e.g. large strings).\n",
            "THIS IS A JOBLIB ISSUE. If you can, kindly provide the joblib's team with an\n",
            " example so that they can fix the problem.\n",
            "  **fit_params_steps[name],\n",
            " 90%|█████████ | 1458/1620 [4:40:32<45:25, 16.82s/it]/usr/local/lib/python3.7/dist-packages/sklearn/pipeline.py:355: UserWarning: Persisting input arguments took 8.85s to run.\n",
            "If this happens often in your code, it can cause performance problems \n",
            "(results will be correct in all cases). \n",
            "The reason for this is probably some large input arguments for a wrapped\n",
            " function (e.g. large strings).\n",
            "THIS IS A JOBLIB ISSUE. If you can, kindly provide the joblib's team with an\n",
            " example so that they can fix the problem.\n",
            "  **fit_params_steps[name],\n",
            " 93%|█████████▎| 1512/1620 [4:44:34<07:38,  4.25s/it]/usr/local/lib/python3.7/dist-packages/sklearn/pipeline.py:355: UserWarning: Persisting input arguments took 19.72s to run.\n",
            "If this happens often in your code, it can cause performance problems \n",
            "(results will be correct in all cases). \n",
            "The reason for this is probably some large input arguments for a wrapped\n",
            " function (e.g. large strings).\n",
            "THIS IS A JOBLIB ISSUE. If you can, kindly provide the joblib's team with an\n",
            " example so that they can fix the problem.\n",
            "  **fit_params_steps[name],\n",
            " 97%|█████████▋| 1566/1620 [4:54:02<08:43,  9.70s/it]/usr/local/lib/python3.7/dist-packages/sklearn/pipeline.py:355: UserWarning: Persisting input arguments took 39.76s to run.\n",
            "If this happens often in your code, it can cause performance problems \n",
            "(results will be correct in all cases). \n",
            "The reason for this is probably some large input arguments for a wrapped\n",
            " function (e.g. large strings).\n",
            "THIS IS A JOBLIB ISSUE. If you can, kindly provide the joblib's team with an\n",
            " example so that they can fix the problem.\n",
            "  **fit_params_steps[name],\n",
            "100%|██████████| 1620/1620 [5:10:20<00:00, 11.49s/it]\n"
          ]
        }
      ]
    },
    {
      "cell_type": "code",
      "source": [
        "pd.DataFrame(results,columns=list(measures.keys()),\n",
        "             index=pd.MultiIndex.from_tuples(index,names=list(param_grid.keys())))"
      ],
      "metadata": {
        "id": "RarvLe2xyr9c",
        "outputId": "fe95ebce-a337-4fa2-bb96-b727bed14623",
        "colab": {
          "base_uri": "https://localhost:8080/",
          "height": 520
        }
      },
      "id": "RarvLe2xyr9c",
      "execution_count": 78,
      "outputs": [
        {
          "output_type": "execute_result",
          "data": {
            "text/html": [
              "\n",
              "  <div id=\"df-6116b86e-d8c8-460c-802c-225dcaee0e55\">\n",
              "    <div class=\"colab-df-container\">\n",
              "      <div>\n",
              "<style scoped>\n",
              "    .dataframe tbody tr th:only-of-type {\n",
              "        vertical-align: middle;\n",
              "    }\n",
              "\n",
              "    .dataframe tbody tr th {\n",
              "        vertical-align: top;\n",
              "    }\n",
              "\n",
              "    .dataframe thead th {\n",
              "        text-align: right;\n",
              "    }\n",
              "</style>\n",
              "<table border=\"1\" class=\"dataframe\">\n",
              "  <thead>\n",
              "    <tr style=\"text-align: right;\">\n",
              "      <th></th>\n",
              "      <th></th>\n",
              "      <th></th>\n",
              "      <th></th>\n",
              "      <th>MRR</th>\n",
              "      <th>MAP</th>\n",
              "      <th>P@K</th>\n",
              "    </tr>\n",
              "    <tr>\n",
              "      <th>embedding__max_features</th>\n",
              "      <th>embedding__ngram_range</th>\n",
              "      <th>retrieval__n_neighbors</th>\n",
              "      <th>retrieval__metric</th>\n",
              "      <th></th>\n",
              "      <th></th>\n",
              "      <th></th>\n",
              "    </tr>\n",
              "  </thead>\n",
              "  <tbody>\n",
              "    <tr>\n",
              "      <th rowspan=\"14\" valign=\"top\">500</th>\n",
              "      <th rowspan=\"14\" valign=\"top\">(1, 2)</th>\n",
              "      <th rowspan=\"9\" valign=\"top\">cityblock</th>\n",
              "      <th>10</th>\n",
              "      <td>0.010000</td>\n",
              "      <td>0.003806</td>\n",
              "      <td>0.003008</td>\n",
              "    </tr>\n",
              "    <tr>\n",
              "      <th>20</th>\n",
              "      <td>0.010351</td>\n",
              "      <td>0.004267</td>\n",
              "      <td>0.003531</td>\n",
              "    </tr>\n",
              "    <tr>\n",
              "      <th>30</th>\n",
              "      <td>0.010618</td>\n",
              "      <td>0.004508</td>\n",
              "      <td>0.003584</td>\n",
              "    </tr>\n",
              "    <tr>\n",
              "      <th>40</th>\n",
              "      <td>0.010618</td>\n",
              "      <td>0.004615</td>\n",
              "      <td>0.003584</td>\n",
              "    </tr>\n",
              "    <tr>\n",
              "      <th>50</th>\n",
              "      <td>0.010756</td>\n",
              "      <td>0.004753</td>\n",
              "      <td>0.003584</td>\n",
              "    </tr>\n",
              "    <tr>\n",
              "      <th>60</th>\n",
              "      <td>0.010875</td>\n",
              "      <td>0.004940</td>\n",
              "      <td>0.003584</td>\n",
              "    </tr>\n",
              "    <tr>\n",
              "      <th>70</th>\n",
              "      <td>0.010980</td>\n",
              "      <td>0.005094</td>\n",
              "      <td>0.003584</td>\n",
              "    </tr>\n",
              "    <tr>\n",
              "      <th>80</th>\n",
              "      <td>0.011154</td>\n",
              "      <td>0.005242</td>\n",
              "      <td>0.003584</td>\n",
              "    </tr>\n",
              "    <tr>\n",
              "      <th>90</th>\n",
              "      <td>0.011154</td>\n",
              "      <td>0.005363</td>\n",
              "      <td>0.003584</td>\n",
              "    </tr>\n",
              "    <tr>\n",
              "      <th rowspan=\"5\" valign=\"top\">cosine</th>\n",
              "      <th>10</th>\n",
              "      <td>0.111034</td>\n",
              "      <td>0.057066</td>\n",
              "      <td>0.025689</td>\n",
              "    </tr>\n",
              "    <tr>\n",
              "      <th>20</th>\n",
              "      <td>0.114183</td>\n",
              "      <td>0.064782</td>\n",
              "      <td>0.033223</td>\n",
              "    </tr>\n",
              "    <tr>\n",
              "      <th>30</th>\n",
              "      <td>0.116647</td>\n",
              "      <td>0.069005</td>\n",
              "      <td>0.034183</td>\n",
              "    </tr>\n",
              "    <tr>\n",
              "      <th>40</th>\n",
              "      <td>0.117170</td>\n",
              "      <td>0.071154</td>\n",
              "      <td>0.034183</td>\n",
              "    </tr>\n",
              "    <tr>\n",
              "      <th>50</th>\n",
              "      <td>0.117584</td>\n",
              "      <td>0.072453</td>\n",
              "      <td>0.034183</td>\n",
              "    </tr>\n",
              "  </tbody>\n",
              "</table>\n",
              "</div>\n",
              "      <button class=\"colab-df-convert\" onclick=\"convertToInteractive('df-6116b86e-d8c8-460c-802c-225dcaee0e55')\"\n",
              "              title=\"Convert this dataframe to an interactive table.\"\n",
              "              style=\"display:none;\">\n",
              "        \n",
              "  <svg xmlns=\"http://www.w3.org/2000/svg\" height=\"24px\"viewBox=\"0 0 24 24\"\n",
              "       width=\"24px\">\n",
              "    <path d=\"M0 0h24v24H0V0z\" fill=\"none\"/>\n",
              "    <path d=\"M18.56 5.44l.94 2.06.94-2.06 2.06-.94-2.06-.94-.94-2.06-.94 2.06-2.06.94zm-11 1L8.5 8.5l.94-2.06 2.06-.94-2.06-.94L8.5 2.5l-.94 2.06-2.06.94zm10 10l.94 2.06.94-2.06 2.06-.94-2.06-.94-.94-2.06-.94 2.06-2.06.94z\"/><path d=\"M17.41 7.96l-1.37-1.37c-.4-.4-.92-.59-1.43-.59-.52 0-1.04.2-1.43.59L10.3 9.45l-7.72 7.72c-.78.78-.78 2.05 0 2.83L4 21.41c.39.39.9.59 1.41.59.51 0 1.02-.2 1.41-.59l7.78-7.78 2.81-2.81c.8-.78.8-2.07 0-2.86zM5.41 20L4 18.59l7.72-7.72 1.47 1.35L5.41 20z\"/>\n",
              "  </svg>\n",
              "      </button>\n",
              "      \n",
              "  <style>\n",
              "    .colab-df-container {\n",
              "      display:flex;\n",
              "      flex-wrap:wrap;\n",
              "      gap: 12px;\n",
              "    }\n",
              "\n",
              "    .colab-df-convert {\n",
              "      background-color: #E8F0FE;\n",
              "      border: none;\n",
              "      border-radius: 50%;\n",
              "      cursor: pointer;\n",
              "      display: none;\n",
              "      fill: #1967D2;\n",
              "      height: 32px;\n",
              "      padding: 0 0 0 0;\n",
              "      width: 32px;\n",
              "    }\n",
              "\n",
              "    .colab-df-convert:hover {\n",
              "      background-color: #E2EBFA;\n",
              "      box-shadow: 0px 1px 2px rgba(60, 64, 67, 0.3), 0px 1px 3px 1px rgba(60, 64, 67, 0.15);\n",
              "      fill: #174EA6;\n",
              "    }\n",
              "\n",
              "    [theme=dark] .colab-df-convert {\n",
              "      background-color: #3B4455;\n",
              "      fill: #D2E3FC;\n",
              "    }\n",
              "\n",
              "    [theme=dark] .colab-df-convert:hover {\n",
              "      background-color: #434B5C;\n",
              "      box-shadow: 0px 1px 3px 1px rgba(0, 0, 0, 0.15);\n",
              "      filter: drop-shadow(0px 1px 2px rgba(0, 0, 0, 0.3));\n",
              "      fill: #FFFFFF;\n",
              "    }\n",
              "  </style>\n",
              "\n",
              "      <script>\n",
              "        const buttonEl =\n",
              "          document.querySelector('#df-6116b86e-d8c8-460c-802c-225dcaee0e55 button.colab-df-convert');\n",
              "        buttonEl.style.display =\n",
              "          google.colab.kernel.accessAllowed ? 'block' : 'none';\n",
              "\n",
              "        async function convertToInteractive(key) {\n",
              "          const element = document.querySelector('#df-6116b86e-d8c8-460c-802c-225dcaee0e55');\n",
              "          const dataTable =\n",
              "            await google.colab.kernel.invokeFunction('convertToInteractive',\n",
              "                                                     [key], {});\n",
              "          if (!dataTable) return;\n",
              "\n",
              "          const docLinkHtml = 'Like what you see? Visit the ' +\n",
              "            '<a target=\"_blank\" href=https://colab.research.google.com/notebooks/data_table.ipynb>data table notebook</a>'\n",
              "            + ' to learn more about interactive tables.';\n",
              "          element.innerHTML = '';\n",
              "          dataTable['output_type'] = 'display_data';\n",
              "          await google.colab.output.renderOutput(dataTable, element);\n",
              "          const docLink = document.createElement('div');\n",
              "          docLink.innerHTML = docLinkHtml;\n",
              "          element.appendChild(docLink);\n",
              "        }\n",
              "      </script>\n",
              "    </div>\n",
              "  </div>\n",
              "  "
            ],
            "text/plain": [
              "                                                                                              MRR  ...       P@K\n",
              "embedding__max_features embedding__ngram_range retrieval__n_neighbors retrieval__metric            ...          \n",
              "500                     (1, 2)                 cityblock              10                 0.010000  ...  0.003008\n",
              "                                                                      20                 0.010351  ...  0.003531\n",
              "                                                                      30                 0.010618  ...  0.003584\n",
              "                                                                      40                 0.010618  ...  0.003584\n",
              "                                                                      50                 0.010756  ...  0.003584\n",
              "                                                                      60                 0.010875  ...  0.003584\n",
              "                                                                      70                 0.010980  ...  0.003584\n",
              "                                                                      80                 0.011154  ...  0.003584\n",
              "                                                                      90                 0.011154  ...  0.003584\n",
              "                                               cosine                 10                 0.111034  ...  0.025689\n",
              "                                                                      20                 0.114183  ...  0.033223\n",
              "                                                                      30                 0.116647  ...  0.034183\n",
              "                                                                      40                 0.117170  ...  0.034183\n",
              "                                                                      50                 0.117584  ...  0.034183\n",
              "\n",
              "[14 rows x 3 columns]"
            ]
          },
          "metadata": {},
          "execution_count": 78
        }
      ]
    },
    {
      "cell_type": "code",
      "source": [
        "results.MRR"
      ],
      "metadata": {
        "id": "V6NfQ47PcYfe",
        "outputId": "842c537f-b6ab-404e-be6d-b7a7fda47661",
        "colab": {
          "base_uri": "https://localhost:8080/"
        }
      },
      "id": "V6NfQ47PcYfe",
      "execution_count": 93,
      "outputs": [
        {
          "output_type": "execute_result",
          "data": {
            "text/plain": [
              "embedding__ngram_range  embedding__max_features  retrieval__n_neighbors  retrieval__metric\n",
              "100000                  (1, 2)                   cityblock               10                   0.000000\n",
              "                                                                         20                   0.000000\n",
              "                                                                         30                   0.000000\n",
              "                                                                         40                   0.000190\n",
              "                                                                         50                   0.000640\n",
              "                                                                                                ...   \n",
              "10000                   (1, 4)                   manhattan               50                   0.001200\n",
              "                                                                         60                   0.001430\n",
              "                                                                         70                   0.001536\n",
              "                                                                         80                   0.001706\n",
              "                                                                         90                   0.001938\n",
              "Name: MRR, Length: 1620, dtype: float64"
            ]
          },
          "metadata": {},
          "execution_count": 93
        }
      ]
    },
    {
      "cell_type": "code",
      "source": [
        "results.idxmax()"
      ],
      "metadata": {
        "id": "VtX8dULNb8z8",
        "outputId": "c981033b-fe64-465b-ced5-b7c8c72aa148",
        "colab": {
          "base_uri": "https://localhost:8080/"
        }
      },
      "id": "VtX8dULNb8z8",
      "execution_count": 98,
      "outputs": [
        {
          "output_type": "execute_result",
          "data": {
            "text/plain": [
              "MRR    (60000, (1, 4), cosine, 80)\n",
              "MAP        (50000, (1, 2), l2, 90)\n",
              "P@K    (20000, (1, 3), cosine, 30)\n",
              "dtype: object"
            ]
          },
          "metadata": {},
          "execution_count": 98
        }
      ]
    },
    {
      "cell_type": "code",
      "source": [
        "results.max()"
      ],
      "metadata": {
        "id": "M16B_aCFc916",
        "outputId": "a21c9368-6194-429c-bab9-d7042072baf2",
        "colab": {
          "base_uri": "https://localhost:8080/"
        }
      },
      "id": "M16B_aCFc916",
      "execution_count": 99,
      "outputs": [
        {
          "output_type": "execute_result",
          "data": {
            "text/plain": [
              "MRR    0.560743\n",
              "MAP    0.330364\n",
              "P@K    0.110606\n",
              "dtype: float64"
            ]
          },
          "metadata": {},
          "execution_count": 99
        }
      ]
    }
  ],
  "metadata": {
    "colab": {
      "name": "Persian-IR-example.ipynb",
      "provenance": [],
      "include_colab_link": true
    },
    "kernelspec": {
      "display_name": "Python 3 (ipykernel)",
      "language": "python",
      "name": "python3"
    },
    "language_info": {
      "codemirror_mode": {
        "name": "ipython",
        "version": 3
      },
      "file_extension": ".py",
      "mimetype": "text/x-python",
      "name": "python",
      "nbconvert_exporter": "python",
      "pygments_lexer": "ipython3",
      "version": "3.8.12"
    }
  },
  "nbformat": 4,
  "nbformat_minor": 5
}