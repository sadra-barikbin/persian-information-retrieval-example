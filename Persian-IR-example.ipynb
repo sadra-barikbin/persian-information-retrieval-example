{
 "cells": [
  {
   "cell_type": "markdown",
   "id": "c51f24b3",
   "metadata": {
    "colab_type": "text",
    "id": "view-in-github"
   },
   "source": [
    "<a href=\"https://colab.research.google.com/github/sadra-barikbin/persian-information-retrieval-example/blob/main/Persian-IR-example.ipynb\" target=\"_parent\"><img src=\"https://colab.research.google.com/assets/colab-badge.svg\" alt=\"Open In Colab\"/></a>"
   ]
  },
  {
   "cell_type": "markdown",
   "id": "innovative-letter",
   "metadata": {
    "id": "innovative-letter"
   },
   "source": [
    "# Setup"
   ]
  },
  {
   "cell_type": "code",
   "execution_count": 2,
   "id": "S6JCv2ZVCX4u",
   "metadata": {
    "colab": {
     "base_uri": "https://localhost:8080/"
    },
    "id": "S6JCv2ZVCX4u",
    "outputId": "bd77e583-9eb7-4347-ef02-1e3fca56795d"
   },
   "outputs": [
    {
     "name": "stdout",
     "output_type": "stream",
     "text": [
      "Requirement already satisfied: hazm in c:\\users\\aminb\\anaconda3\\lib\\site-packages (0.7.0)\n",
      "Requirement already satisfied: transformers in c:\\users\\aminb\\anaconda3\\lib\\site-packages (4.13.0)\n",
      "Requirement already satisfied: ir_measures in c:\\users\\aminb\\anaconda3\\lib\\site-packages (0.2.3)\n",
      "Collecting nltk==3.3\n",
      "  Using cached nltk-3.3-py3-none-any.whl\n",
      "Requirement already satisfied: six in c:\\users\\aminb\\anaconda3\\lib\\site-packages (from nltk==3.3->hazm) (1.16.0)\n",
      "Requirement already satisfied: filelock in c:\\users\\aminb\\anaconda3\\lib\\site-packages (from transformers) (3.3.1)\n",
      "Requirement already satisfied: huggingface-hub<1.0,>=0.1.0 in c:\\users\\aminb\\anaconda3\\lib\\site-packages (from transformers) (0.2.1)\n",
      "Requirement already satisfied: sacremoses in c:\\users\\aminb\\anaconda3\\lib\\site-packages (from transformers) (0.0.46)\n",
      "Requirement already satisfied: tqdm>=4.27 in c:\\users\\aminb\\anaconda3\\lib\\site-packages (from transformers) (4.62.3)\n",
      "Requirement already satisfied: packaging>=20.0 in c:\\users\\aminb\\anaconda3\\lib\\site-packages (from transformers) (21.0)\n",
      "Requirement already satisfied: regex!=2019.12.17 in c:\\users\\aminb\\anaconda3\\lib\\site-packages (from transformers) (2021.8.3)\n",
      "Requirement already satisfied: requests in c:\\users\\aminb\\anaconda3\\lib\\site-packages (from transformers) (2.26.0)\n",
      "Requirement already satisfied: tokenizers<0.11,>=0.10.1 in c:\\users\\aminb\\anaconda3\\lib\\site-packages (from transformers) (0.10.3)\n",
      "Requirement already satisfied: pyyaml>=5.1 in c:\\users\\aminb\\anaconda3\\lib\\site-packages (from transformers) (6.0)\n",
      "Requirement already satisfied: numpy>=1.17 in c:\\users\\aminb\\anaconda3\\lib\\site-packages (from transformers) (1.20.3)\n",
      "Requirement already satisfied: cwl-eval>=1.0.10 in c:\\users\\aminb\\anaconda3\\lib\\site-packages (from ir_measures) (1.0.10)\n",
      "Requirement already satisfied: pyndeval>=0.0.2 in c:\\users\\aminb\\anaconda3\\lib\\site-packages (from ir_measures) (0.0.2)\n",
      "Requirement already satisfied: pytrec-eval-terrier==0.5.1 in c:\\users\\aminb\\anaconda3\\lib\\site-packages (from ir_measures) (0.5.1)\n",
      "Requirement already satisfied: typing-extensions>=3.7.4.3 in c:\\users\\aminb\\anaconda3\\lib\\site-packages (from huggingface-hub<1.0,>=0.1.0->transformers) (3.10.0.2)\n",
      "Requirement already satisfied: pyparsing>=2.0.2 in c:\\users\\aminb\\anaconda3\\lib\\site-packages (from packaging>=20.0->transformers) (3.0.4)\n",
      "Requirement already satisfied: colorama in c:\\users\\aminb\\anaconda3\\lib\\site-packages (from tqdm>=4.27->transformers) (0.4.4)\n",
      "Requirement already satisfied: idna<4,>=2.5 in c:\\users\\aminb\\anaconda3\\lib\\site-packages (from requests->transformers) (3.2)\n",
      "Requirement already satisfied: certifi>=2017.4.17 in c:\\users\\aminb\\anaconda3\\lib\\site-packages (from requests->transformers) (2021.10.8)\n",
      "Requirement already satisfied: urllib3<1.27,>=1.21.1 in c:\\users\\aminb\\anaconda3\\lib\\site-packages (from requests->transformers) (1.26.7)\n",
      "Requirement already satisfied: charset-normalizer~=2.0.0 in c:\\users\\aminb\\anaconda3\\lib\\site-packages (from requests->transformers) (2.0.4)\n",
      "Requirement already satisfied: joblib in c:\\users\\aminb\\anaconda3\\lib\\site-packages (from sacremoses->transformers) (1.1.0)\n",
      "Requirement already satisfied: click in c:\\users\\aminb\\anaconda3\\lib\\site-packages (from sacremoses->transformers) (8.0.3)\n",
      "Installing collected packages: nltk\n",
      "  Attempting uninstall: nltk\n",
      "    Found existing installation: nltk 3.6.5\n",
      "    Uninstalling nltk-3.6.5:\n",
      "      Successfully uninstalled nltk-3.6.5\n",
      "Successfully installed nltk-3.3\n"
     ]
    }
   ],
   "source": [
    "!pip install hazm transformers ir_measures\n",
    "!pip install -q clean-text[gpl]"
   ]
  },
  {
   "cell_type": "code",
   "execution_count": 1,
   "id": "civic-birth",
   "metadata": {
    "id": "civic-birth"
   },
   "outputs": [],
   "source": [
    "import torch\n",
    "import yaml\n",
    "import hazm\n",
    "import tqdm\n",
    "import numpy as np\n",
    "import pandas as pd\n",
    "import ir_measures as IRm\n",
    "from typing import List, Tuple\n",
    "from pathlib import Path\n",
    "from sklearn.metrics import make_scorer, average_precision_score\n",
    "from sklearn.metrics.pairwise import cosine_similarity\n",
    "from sklearn.feature_extraction.text import TfidfVectorizer\n",
    "from sklearn.neighbors import NearestNeighbors\n",
    "from sklearn.pipeline import Pipeline\n",
    "from sklearn.base import BaseEstimator, TransformerMixin\n",
    "from transformers import AutoTokenizer, AutoModelForMaskedLM"
   ]
  },
  {
   "cell_type": "markdown",
   "id": "URH-AirBjcrL",
   "metadata": {
    "id": "URH-AirBjcrL"
   },
   "source": [
    "# Loading & Preparing Data"
   ]
  },
  {
   "cell_type": "markdown",
   "id": "cWjISsLTPtqw",
   "metadata": {
    "id": "cWjISsLTPtqw"
   },
   "source": [
    "## Corpus"
   ]
  },
  {
   "cell_type": "code",
   "execution_count": null,
   "id": "cX9FwdFUjfkj",
   "metadata": {
    "colab": {
     "base_uri": "https://localhost:8080/"
    },
    "id": "cX9FwdFUjfkj",
    "outputId": "b1ded9d8-0ce7-4e59-acb2-3c21a5fc9fe1"
   },
   "outputs": [],
   "source": [
    "!wget https://github.com/language-ml/2-LM-embedding-projects/raw/main/problem3/doc_collection.zip"
   ]
  },
  {
   "cell_type": "code",
   "execution_count": null,
   "id": "AHXJRwbKk8mK",
   "metadata": {
    "colab": {
     "base_uri": "https://localhost:8080/"
    },
    "id": "AHXJRwbKk8mK",
    "outputId": "1061baff-3ef4-4933-9b63-2b904e5d8429"
   },
   "outputs": [],
   "source": [
    "!unzip doc_collection.zip"
   ]
  },
  {
   "cell_type": "code",
   "execution_count": null,
   "id": "9YX2f4_plKLa",
   "metadata": {
    "colab": {
     "base_uri": "https://localhost:8080/"
    },
    "id": "9YX2f4_plKLa",
    "outputId": "e4ad40b2-9a0b-455d-b196-8290339fc2ad"
   },
   "outputs": [],
   "source": [
    "!cat IR_dataset/1000.txt"
   ]
  },
  {
   "cell_type": "code",
   "execution_count": 5,
   "id": "Yr2uuva8lt2R",
   "metadata": {
    "id": "Yr2uuva8lt2R"
   },
   "outputs": [],
   "source": [
    "# corpus = [(int(path.stem), path.open().read()) for path in Path('dataset/IR_dataset').iterdir()]\n",
    "corpus = [(int(path.stem), path.open().read()) for path in Path('dataset/IR_dataset').iterdir()]\n",
    "corpus = pd.DataFrame(corpus, columns=['docId','text']).set_index('docId').sort_index()"
   ]
  },
  {
   "cell_type": "code",
   "execution_count": null,
   "id": "hXmMh6rU2rfi",
   "metadata": {
    "id": "hXmMh6rU2rfi"
   },
   "outputs": [],
   "source": [
    "ccorpus = [(int(path.stem), path.open().read()) for path in Path('IR_dataset').iterdir()]"
   ]
  },
  {
   "cell_type": "code",
   "execution_count": 6,
   "id": "em6lACkLggoq",
   "metadata": {
    "colab": {
     "base_uri": "https://localhost:8080/",
     "height": 237
    },
    "id": "em6lACkLggoq",
    "outputId": "b0b330b3-bb87-4576-e722-8ce792f49af9"
   },
   "outputs": [
    {
     "data": {
      "text/html": [
       "<div>\n",
       "<style scoped>\n",
       "    .dataframe tbody tr th:only-of-type {\n",
       "        vertical-align: middle;\n",
       "    }\n",
       "\n",
       "    .dataframe tbody tr th {\n",
       "        vertical-align: top;\n",
       "    }\n",
       "\n",
       "    .dataframe thead th {\n",
       "        text-align: right;\n",
       "    }\n",
       "</style>\n",
       "<table border=\"1\" class=\"dataframe\">\n",
       "  <thead>\n",
       "    <tr style=\"text-align: right;\">\n",
       "      <th></th>\n",
       "      <th>text</th>\n",
       "    </tr>\n",
       "    <tr>\n",
       "      <th>docId</th>\n",
       "      <th></th>\n",
       "    </tr>\n",
       "  </thead>\n",
       "  <tbody>\n",
       "    <tr>\n",
       "      <th>0</th>\n",
       "      <td>برخی از هواداران مصدق یا اعضای جبهه ملی که در ...</td>\n",
       "    </tr>\n",
       "    <tr>\n",
       "      <th>1</th>\n",
       "      <td>جبهه ملی ایران که به اختصار جبهه ملی نیز خواند...</td>\n",
       "    </tr>\n",
       "    <tr>\n",
       "      <th>2</th>\n",
       "      <td>سرلشکر زاهدی در سال ۱۳۲۸ و پس از آن‌که دخالت‌ه...</td>\n",
       "    </tr>\n",
       "    <tr>\n",
       "      <th>3</th>\n",
       "      <td>نمایندگان طرفدار مصدق در حمایت از ابقای دولت و...</td>\n",
       "    </tr>\n",
       "    <tr>\n",
       "      <th>4</th>\n",
       "      <td>نمایندگان طرفدار مصدق در حمایت از ابقای دولت و...</td>\n",
       "    </tr>\n",
       "  </tbody>\n",
       "</table>\n",
       "</div>"
      ],
      "text/plain": [
       "                                                    text\n",
       "docId                                                   \n",
       "0      برخی از هواداران مصدق یا اعضای جبهه ملی که در ...\n",
       "1      جبهه ملی ایران که به اختصار جبهه ملی نیز خواند...\n",
       "2      سرلشکر زاهدی در سال ۱۳۲۸ و پس از آن‌که دخالت‌ه...\n",
       "3      نمایندگان طرفدار مصدق در حمایت از ابقای دولت و...\n",
       "4      نمایندگان طرفدار مصدق در حمایت از ابقای دولت و..."
      ]
     },
     "execution_count": 6,
     "metadata": {},
     "output_type": "execute_result"
    }
   ],
   "source": [
    "corpus.head()"
   ]
  },
  {
   "cell_type": "markdown",
   "id": "YovdZ4crPwmk",
   "metadata": {
    "id": "YovdZ4crPwmk"
   },
   "source": [
    "## Qrels"
   ]
  },
  {
   "cell_type": "code",
   "execution_count": null,
   "id": "qxLS7matqWct",
   "metadata": {
    "colab": {
     "base_uri": "https://localhost:8080/"
    },
    "id": "qxLS7matqWct",
    "outputId": "4549baba-217c-48a8-9285-2f5d48b5c81a"
   },
   "outputs": [],
   "source": [
    "!wget https://raw.githubusercontent.com/language-ml/2-LM-embedding-projects/main/problem3/evaluation_IR.yml"
   ]
  },
  {
   "cell_type": "code",
   "execution_count": 7,
   "id": "OMzUU5mVqHSg",
   "metadata": {
    "id": "OMzUU5mVqHSg"
   },
   "outputs": [],
   "source": [
    "# query_raw_data = yaml.safe_load(open('evaluation_IR.yml'))\n",
    "query_raw_data = yaml.safe_load(open('dataset/evaluation_IR.yml'))"
   ]
  },
  {
   "cell_type": "code",
   "execution_count": 8,
   "id": "fMhrz0biMTn1",
   "metadata": {
    "id": "fMhrz0biMTn1"
   },
   "outputs": [],
   "source": [
    "query = pd.Series(query_raw_data.keys())\n",
    "qrels = [{'query_id':idx, 'doc_id':d,\n",
    "          'relevance':3} for idx,q in query.to_dict().items() for d in query_raw_data[q]['similar_high']]\n",
    "qrels.extend([{'query_id':idx, 'doc_id':d,\n",
    "          'relevance':2} for idx,q in query.to_dict().items() for d in query_raw_data[q]['similar_med']])\n",
    "qrels.extend([{'query_id':idx, 'doc_id':d,\n",
    "          'relevance':1} for idx,q in query.to_dict().items() for d in query_raw_data[q]['similar_low']])\n",
    "qrels.extend([{'query_id':idx, 'doc_id':query_raw_data[q]['relevant'][0],\n",
    "          'relevance':4} for idx,q in query.to_dict().items()])\n",
    "qrels = pd.DataFrame(qrels)"
   ]
  },
  {
   "cell_type": "code",
   "execution_count": 9,
   "id": "Y4TNJYGzE1zp",
   "metadata": {
    "colab": {
     "base_uri": "https://localhost:8080/"
    },
    "id": "Y4TNJYGzE1zp",
    "outputId": "c71c26e4-7f4b-4661-e7df-71e7579d3562"
   },
   "outputs": [
    {
     "data": {
      "text/plain": [
       "('گرجستان  تاریخ',\n",
       " {'relevant': [388],\n",
       "  'similar_high': [389, 390, 391, 392, 393, 394],\n",
       "  'similar_low': [404, 405, 406, 407, 408, 409, 410, 411, 412, 413],\n",
       "  'similar_med': [395, 364, 396, 397, 398, 399, 400, 401, 402, 403]})"
      ]
     },
     "execution_count": 9,
     "metadata": {},
     "output_type": "execute_result"
    }
   ],
   "source": [
    "query[147],query_raw_data[query[147]]"
   ]
  },
  {
   "cell_type": "code",
   "execution_count": 10,
   "id": "5vr0k3fLgz5J",
   "metadata": {
    "colab": {
     "base_uri": "https://localhost:8080/",
     "height": 206
    },
    "id": "5vr0k3fLgz5J",
    "outputId": "2b52a332-4084-43fa-c2f3-decbbee3af76"
   },
   "outputs": [
    {
     "data": {
      "text/html": [
       "<div>\n",
       "<style scoped>\n",
       "    .dataframe tbody tr th:only-of-type {\n",
       "        vertical-align: middle;\n",
       "    }\n",
       "\n",
       "    .dataframe tbody tr th {\n",
       "        vertical-align: top;\n",
       "    }\n",
       "\n",
       "    .dataframe thead th {\n",
       "        text-align: right;\n",
       "    }\n",
       "</style>\n",
       "<table border=\"1\" class=\"dataframe\">\n",
       "  <thead>\n",
       "    <tr style=\"text-align: right;\">\n",
       "      <th></th>\n",
       "      <th>query_id</th>\n",
       "      <th>doc_id</th>\n",
       "      <th>relevance</th>\n",
       "    </tr>\n",
       "  </thead>\n",
       "  <tbody>\n",
       "    <tr>\n",
       "      <th>0</th>\n",
       "      <td>126</td>\n",
       "      <td>464</td>\n",
       "      <td>2</td>\n",
       "    </tr>\n",
       "    <tr>\n",
       "      <th>1</th>\n",
       "      <td>129</td>\n",
       "      <td>1083</td>\n",
       "      <td>2</td>\n",
       "    </tr>\n",
       "    <tr>\n",
       "      <th>2</th>\n",
       "      <td>122</td>\n",
       "      <td>2137</td>\n",
       "      <td>3</td>\n",
       "    </tr>\n",
       "    <tr>\n",
       "      <th>3</th>\n",
       "      <td>48</td>\n",
       "      <td>2613</td>\n",
       "      <td>2</td>\n",
       "    </tr>\n",
       "    <tr>\n",
       "      <th>4</th>\n",
       "      <td>119</td>\n",
       "      <td>617</td>\n",
       "      <td>1</td>\n",
       "    </tr>\n",
       "  </tbody>\n",
       "</table>\n",
       "</div>"
      ],
      "text/plain": [
       "   query_id  doc_id  relevance\n",
       "0       126     464          2\n",
       "1       129    1083          2\n",
       "2       122    2137          3\n",
       "3        48    2613          2\n",
       "4       119     617          1"
      ]
     },
     "execution_count": 10,
     "metadata": {},
     "output_type": "execute_result"
    }
   ],
   "source": [
    "qrels.sample(n=5).reset_index(drop=True)"
   ]
  },
  {
   "cell_type": "markdown",
   "id": "F8KJ3p-mnoht",
   "metadata": {
    "id": "F8KJ3p-mnoht"
   },
   "source": [
    "## Normaliztion"
   ]
  },
  {
   "cell_type": "code",
   "execution_count": 11,
   "id": "BjpC37pvg9Rz",
   "metadata": {
    "id": "BjpC37pvg9Rz"
   },
   "outputs": [],
   "source": [
    "normalize = hazm.Normalizer().normalize\n",
    "corpus.text = corpus.text.transform(normalize)\n",
    "query = query.transform(normalize)"
   ]
  },
  {
   "cell_type": "markdown",
   "id": "_IEs3O0emcKQ",
   "metadata": {
    "id": "_IEs3O0emcKQ"
   },
   "source": [
    "# Embedding the documents"
   ]
  },
  {
   "cell_type": "markdown",
   "id": "dS2qRcj5mmvL",
   "metadata": {
    "id": "dS2qRcj5mmvL"
   },
   "source": [
    "## Method 1 : Tfidf"
   ]
  },
  {
   "cell_type": "code",
   "execution_count": 13,
   "id": "0x8lSOD-mp53",
   "metadata": {
    "colab": {
     "base_uri": "https://localhost:8080/"
    },
    "id": "0x8lSOD-mp53",
    "outputId": "006df6d9-f3f7-4ac5-ae1e-ea3441198fbc"
   },
   "outputs": [
    {
     "data": {
      "text/plain": [
       "TfidfVectorizer(max_features=500, ngram_range=(1, 2))"
      ]
     },
     "execution_count": 13,
     "metadata": {},
     "output_type": "execute_result"
    }
   ],
   "source": [
    "vectorizer = TfidfVectorizer(max_features=500,ngram_range=(1,2))\n",
    "vectorizer.fit(corpus.text)"
   ]
  },
  {
   "cell_type": "markdown",
   "id": "vwbPf8qxJ_p9",
   "metadata": {
    "id": "vwbPf8qxJ_p9"
   },
   "source": [
    "## Method 2 : ParsBert"
   ]
  },
  {
   "cell_type": "code",
   "execution_count": 2,
   "id": "lKWzZpzZjXQL",
   "metadata": {
    "colab": {
     "base_uri": "https://localhost:8080/",
     "height": 645,
     "referenced_widgets": [
      "b79961aa7c7b4b00b8de52f254219d21",
      "084bea763369486b8d6f8aa74e0b54cf",
      "f3aaac7498134860ade91775d93e49d0",
      "5715e691d8174bc0b3b42bf811dec24c",
      "a8e6d6356ffe43daacb01251fc6a51d1",
      "6b555794ff9f413e883ab97ca7a27100",
      "36017e6ebf644e399a868858b958fe54",
      "0334f65b95a24e43a65dc0cb4fe3c765",
      "09f5b36c5a3f48beb8f237e633646dbf",
      "7efcaa71699f4836a380973e1ad289a0",
      "eaae45020b6b44b6bba6e96c5d17b9a9",
      "6153157369094159a49cf20740e98007",
      "91a558e221f14a47a1dd4e086a8879de",
      "98645b61bfcf4e61a2cf1af5856b89b4",
      "8df0957389d641faaca53ee214e57854",
      "72d38b75088e414181a357bbc2aadb62",
      "44f0e46f80d54bd5a7faa1dd4e2f6c47",
      "d360ab93d5e841b2aabd156871098e32",
      "3dd0254b6a0943c6ac515b076b8949b3",
      "d5402eda9eb945b2979ab375afacce8e",
      "3b5741f9e4464d30808fa56641a315c2",
      "8145dbc8dc65425496d4098204453a75",
      "b5ef548c8e5a423baae1b343bc63140e",
      "aa837b5b3ac54b3f8cdb69bfc1858d25",
      "71f9d4676e324e50b74e2ad44b6e51ad",
      "914f593bc83a4d4793d883973775896a",
      "d37da8f1637544e88236fee004d6098d",
      "40db2b33aae144089ba97bdca2e4f145",
      "d13e987470ee4679bbaef8b8f9b46c54",
      "94a1439119e0487ea9298391b6f8735e",
      "c16088932d1d48d396afecaa60a655d5",
      "439411774580427cad503cd3ade10759",
      "f45e31b0b1a94124a9838b108a342041",
      "5d8a9ebcbfe2400382ad11748853ca80",
      "bfac11eae71b49c08c33c7a15a1b51c7",
      "7bf4b34568394f20adc7d93c76b177f0",
      "1e9cd30e49f04c05b31f5e401b20c701",
      "5944a263b33b43a8acf6ed962eba592e",
      "d3d97d254ab9450dbff7305f007cc553",
      "f80a30a7985e4c1da5af22194404c6ac",
      "7556c4816c8f48a9a89ab762b7f1d6ed",
      "d639a95224124e54b85eab7623d546f2",
      "5474613f73414699a13fde35e7a439e6",
      "c7a2a57e72b04ac9b5859f492c6e9477",
      "5b31c7dda09c4c8790e65c02f7f4ed72",
      "ec3c8b246b21468893a4f56c8c761156",
      "85694d65d7cd4ce480e743852ff3705d",
      "96794621e4824f4caf79e7a3fce51217",
      "f9d99756bd774e43b7a2e6bdbf276f07",
      "498b9c4dedbc42af8067487ff79a33ed",
      "b7bbfe2435c7440586841683184a75cf",
      "0c5713b1f15947dd9faf5eb0c83eeb37",
      "58f9a56afb7b4c03a385b9e854d050de",
      "fa0f7dd6d871421c9a617506ee144a4e",
      "9adf9a900886455ab3c1199980181b1a",
      "6080993e707a4ae0944a62d6c4bb4e81",
      "51944d05ed974d0f89348caabd514ce1",
      "b1c2ddce61744236b66f60e23e06cd3b",
      "1be0fe0be6cf41a9a0eae4ff19d43310",
      "777e09bf3bcb43f2afe4645a1328bb74",
      "9c34d188b17348afb6d41930a26eee44",
      "aa7a957c1cad40298282d65b9d561b13",
      "ee7d623c0cec43cda9effd6f4f4896be",
      "9a5da5bf146f40ea81365fecf370d827",
      "be5ac49942fb49bd955d55e52d2a978e",
      "9e97176748fe4e51992b0c74c33b21cc"
     ]
    },
    "id": "lKWzZpzZjXQL",
    "outputId": "1c347336-d9d4-4805-b9a2-f7e8573040a3"
   },
   "outputs": [],
   "source": [
    "from transformers import AutoConfig, AutoTokenizer, AutoModel, TFAutoModel\n",
    "import tensorflow\n",
    "\n",
    "model_name_or_path = \"HooshvareLab/bert-fa-zwnj-base\"\n",
    "config = AutoConfig.from_pretrained(model_name_or_path)\n",
    "tokenizer = AutoTokenizer.from_pretrained(model_name_or_path)"
   ]
  },
  {
   "cell_type": "code",
   "execution_count": 3,
   "id": "2ce5dc7c-066b-42be-81c5-378fba6f7611",
   "metadata": {},
   "outputs": [
    {
     "name": "stderr",
     "output_type": "stream",
     "text": [
      "All TF 2.0 model weights were used when initializing BertModel.\n",
      "\n",
      "All the weights of BertModel were initialized from the TF 2.0 model.\n",
      "If your task is similar to the task the model of the checkpoint was trained on, you can already use BertModel for predictions without further training.\n"
     ]
    }
   ],
   "source": [
    "model = AutoModel.from_pretrained(model_name_or_path, from_tf = True)\n",
    "model = model.cuda()"
   ]
  },
  {
   "cell_type": "code",
   "execution_count": 14,
   "id": "wwgVFEvLwGf2",
   "metadata": {
    "id": "wwgVFEvLwGf2"
   },
   "outputs": [
    {
     "data": {
      "text/plain": [
       "tensor([-2.9803e-01, -7.1409e-01, -9.8238e-02,  1.3373e-01, -7.0057e-01,\n",
       "        -4.0727e-01,  2.9717e-01,  2.9900e-01,  2.6092e-01, -6.0040e-01,\n",
       "         1.1803e-02, -1.8664e-01,  2.2774e-01, -2.8943e-01, -2.1663e-01,\n",
       "        -5.2125e-02, -5.7990e-01, -4.9832e-01, -4.4152e-01,  6.4462e-01,\n",
       "        -1.1495e-01,  6.1037e-01, -4.1411e-01,  4.8718e-01,  8.9476e-01,\n",
       "         4.6958e-01,  5.5911e-01,  7.4270e-03, -2.6307e-01,  5.9849e-01,\n",
       "        -4.6554e-01,  7.7377e-02, -2.6185e-01, -7.6583e-02,  1.3258e-01,\n",
       "        -8.5721e-01,  3.3935e-01, -7.0128e-01,  7.2777e-02,  2.5269e-01,\n",
       "        -4.5089e-02,  1.3263e-01, -5.2308e-01,  3.7634e-01, -3.9391e-01,\n",
       "         2.8489e-01, -2.7325e-01, -1.5413e-01,  4.2223e-01, -6.4387e-02,\n",
       "        -6.7197e-01, -5.1075e-01,  2.0961e-01, -2.2505e-01,  2.6400e-01,\n",
       "        -7.0605e-01,  4.5489e-02,  2.4439e-01, -1.1642e-01, -3.9023e-02,\n",
       "        -3.8892e-01,  2.2926e-01, -5.1469e-02,  3.9726e-01,  4.9048e-01,\n",
       "        -5.7769e-01, -4.2485e-01,  2.0493e-01,  5.2188e-01, -7.9478e-01,\n",
       "         3.6079e-01, -1.8396e-01, -3.8095e-01, -5.0460e-01, -4.8489e-01,\n",
       "         1.0287e-01,  1.1664e-02, -6.6569e-02,  1.8947e-01,  5.2769e-01,\n",
       "         1.5758e-01, -2.3471e-01,  2.3079e-01, -7.0331e-01,  8.5690e-02,\n",
       "         1.2960e-01,  2.4385e-01, -7.9710e-01,  1.9799e-01, -2.5970e-01,\n",
       "        -2.3586e-01,  1.8484e-01, -4.7051e-01,  1.9546e-01,  6.9874e-01,\n",
       "        -2.7231e-01, -4.6577e-01,  4.6528e-01,  4.1549e-01, -7.2780e-01,\n",
       "         1.3178e-01,  1.8996e-01, -1.1521e-01,  5.6678e-01, -4.4338e-01,\n",
       "         4.3695e-01,  2.6548e-01,  1.5970e-01, -2.9098e-01,  2.3455e-01,\n",
       "         6.7159e-01,  2.7097e-01,  3.8888e-01, -3.9725e-01, -6.0024e-01,\n",
       "         6.7097e-01,  7.5087e-01, -2.9628e-01, -5.5499e-02,  2.8212e-01,\n",
       "         5.1781e-01,  2.1149e-01,  2.3493e-01,  1.2316e-01,  1.2061e-01,\n",
       "        -7.4411e-02, -8.9164e-02, -4.4632e-01, -1.4652e-01,  2.3253e-01,\n",
       "         3.1668e-01,  6.4504e-01, -4.1571e-02,  1.3508e-01, -3.1253e-01,\n",
       "         1.0527e-01, -7.1953e-01, -4.2306e-01, -7.9988e-03, -1.2447e-01,\n",
       "         2.9095e-01, -2.2279e-01, -7.2714e-01,  5.7029e-01, -5.2926e-01,\n",
       "        -2.7089e-01, -5.7868e-01, -8.2298e-01,  2.8664e-01, -2.5601e-01,\n",
       "         4.0973e-01,  1.5874e-02,  4.5417e-01, -2.2261e-02, -7.0536e-01,\n",
       "         5.1607e-02,  1.3737e-01,  3.6566e-01, -4.1216e-01,  5.1245e-01,\n",
       "         5.9164e-01, -6.9117e-01,  3.2509e-01, -2.4863e-01,  2.1704e-01,\n",
       "         5.0330e-01,  4.6497e-02,  2.1206e-01, -3.6974e-01, -3.5601e-01,\n",
       "         5.8437e-01, -5.7460e-01, -1.0990e-01,  3.7013e-01,  5.3702e-01,\n",
       "        -4.0189e-01,  1.8161e-01, -3.1330e-01,  3.3760e-01,  4.5425e-01,\n",
       "         4.5520e-01, -4.0353e-01, -2.7739e-01,  3.4414e-02,  1.9909e-01,\n",
       "         6.9655e-01, -2.0022e-01, -4.4136e-01, -2.4788e-01, -1.6586e-01,\n",
       "         2.4461e-01,  3.0751e-01, -3.6215e-01, -6.7142e-01, -1.0994e-01,\n",
       "         5.1659e-01, -2.8833e-01, -8.0497e-01,  1.0761e-01, -3.6216e-01,\n",
       "         5.1343e-02,  8.3274e-02,  7.0416e-01,  3.8827e-01,  4.4555e-01,\n",
       "         5.5332e-01,  2.4856e-01,  4.5466e-03, -8.1188e-01,  4.0405e-01,\n",
       "         6.3901e-01, -3.5366e-01,  3.6852e-01,  2.7780e-01,  3.8601e-01,\n",
       "         2.2316e-01,  6.0695e-01, -9.5536e-02,  6.3999e-01, -5.9858e-02,\n",
       "         3.6137e-01,  4.9257e-01,  5.4058e-01, -1.1824e-01, -5.4814e-01,\n",
       "         4.9215e-01, -4.3991e-02,  1.1414e-01,  1.4345e-01, -7.2782e-02,\n",
       "        -4.4493e-01, -2.9476e-01,  1.8851e-01,  4.8941e-01, -6.4821e-01,\n",
       "         1.0991e-01,  8.9339e-02,  8.7366e-02,  4.8774e-02, -8.8817e-02,\n",
       "         5.8157e-01,  5.9039e-01, -4.2358e-01, -1.4985e-01,  7.5205e-02,\n",
       "         1.7904e-01,  5.9229e-01, -1.3103e-01, -2.1130e-02, -4.8518e-01,\n",
       "        -2.2540e-01,  3.6800e-01, -1.9389e-01,  3.0238e-01,  9.2246e-02,\n",
       "         1.8388e-01, -3.6085e-01,  1.2723e-01,  5.4956e-01,  4.8065e-01,\n",
       "        -1.5950e-01, -5.0873e-02,  2.1807e-01, -3.8719e-01,  4.4284e-01,\n",
       "        -7.0827e-01,  4.4280e-01,  1.8467e-01, -2.9149e-01,  2.6333e-01,\n",
       "         1.0830e-01, -4.4372e-01, -4.0513e-01, -3.6119e-01, -7.3864e-01,\n",
       "         4.7718e-01, -1.0082e-01, -7.2521e-02, -5.2948e-01, -8.3651e-01,\n",
       "        -5.3242e-01, -3.5198e-01,  4.6459e-01, -1.2340e-01,  5.1868e-01,\n",
       "         5.0501e-01, -6.6560e-01, -2.3797e-01, -3.5551e-01,  3.2252e-01,\n",
       "        -2.9783e-01, -3.1180e-01, -7.8483e-01,  4.6612e-01,  2.9270e-01,\n",
       "         3.9003e-01,  4.9619e-02, -1.7908e-01,  3.9934e-01, -7.3552e-01,\n",
       "        -2.6041e-01, -5.7459e-03, -6.0715e-01, -2.2785e-01, -1.3204e-01,\n",
       "         2.6580e-01,  7.0087e-02,  8.5038e-02,  1.8705e-01,  2.6214e-01,\n",
       "         2.0538e-01, -2.1938e-01,  5.4446e-01, -6.9847e-01,  2.5184e-01,\n",
       "        -3.1875e-01, -4.9256e-01, -2.4621e-02, -2.0908e-01, -4.7270e-01,\n",
       "         4.5409e-01,  2.0073e-01,  7.9355e-01,  9.8259e-02,  4.9857e-01,\n",
       "        -6.9319e-01, -3.1753e-01,  6.4652e-01,  1.7550e-01,  2.0763e-01,\n",
       "         6.1592e-01,  3.5684e-01,  3.1248e-01, -5.7626e-01,  4.1642e-01,\n",
       "        -6.5762e-01,  6.1177e-01, -7.8780e-01,  3.8821e-01,  4.5013e-01,\n",
       "        -5.6729e-02, -7.1020e-01,  2.4213e-01,  1.8639e-01, -2.8465e-01,\n",
       "         4.4984e-01,  1.7364e-01,  6.9182e-02, -6.3250e-01, -2.6106e-01,\n",
       "        -7.8017e-01, -1.2431e-01,  1.4201e-01,  3.5457e-02, -2.4830e-01,\n",
       "         2.8215e-01,  1.4428e-01,  8.2444e-01,  4.8265e-01,  1.2692e-01,\n",
       "        -2.3460e-01,  6.5842e-01,  1.2066e-02,  4.3443e-01,  6.1752e-01,\n",
       "         2.1783e-01,  3.4117e-01, -6.2631e-01,  5.5722e-03,  1.5028e-01,\n",
       "         5.2645e-01,  5.2653e-01, -3.7154e-01, -2.5039e-01,  3.8838e-01,\n",
       "        -1.8669e-01, -1.6274e-01,  9.4137e-02, -9.7864e-02, -4.6479e-01,\n",
       "        -7.2623e-02,  4.9235e-01,  5.3715e-01,  5.7910e-01,  1.7659e-01,\n",
       "        -1.4999e-01,  3.5080e-02,  5.2081e-01, -3.5349e-02, -2.7079e-01,\n",
       "        -2.6645e-01, -3.3822e-01,  4.0843e-01,  7.0472e-01, -7.9956e-02,\n",
       "        -3.7253e-01, -5.6200e-01, -4.8468e-01,  2.6063e-01, -3.6690e-02,\n",
       "         6.3602e-02, -2.3416e-01, -6.0219e-01,  2.0874e-02,  3.8971e-01,\n",
       "         4.2490e-01,  2.3479e-01,  1.5853e-01,  5.0400e-01,  4.9215e-01,\n",
       "         5.0363e-01,  2.8557e-01,  3.5236e-01,  9.3606e-02,  6.0470e-01,\n",
       "         1.8809e-01,  4.0544e-01, -1.7895e-01,  7.3118e-01,  2.8265e-01,\n",
       "        -6.5366e-01,  1.4672e-01,  1.9868e-01,  1.1660e-01, -4.7548e-01,\n",
       "         3.1416e-01,  5.3723e-01,  2.6097e-01,  4.9534e-01, -2.4346e-01,\n",
       "        -4.0560e-01,  2.2737e-02, -3.8716e-01,  2.2408e-02, -2.2905e-01,\n",
       "         3.1454e-01,  6.3391e-02,  2.1030e-01, -4.6306e-01, -2.6469e-01,\n",
       "         1.9610e-01, -1.5258e-01, -4.5209e-01,  6.0610e-01,  4.9042e-01,\n",
       "         3.4298e-01, -1.5321e-01, -4.1948e-01,  1.5726e-01, -2.3377e-01,\n",
       "         3.7089e-01, -4.9232e-01,  4.9871e-01,  3.2788e-01,  6.1529e-01,\n",
       "        -1.1369e-01, -3.4314e-01, -5.5958e-02,  1.2223e-01, -1.0845e-01,\n",
       "         1.0676e-01, -7.6976e-01,  5.8133e-01,  7.1764e-01, -1.4845e-01,\n",
       "         4.7075e-01,  5.0358e-01, -2.2045e-01,  9.4861e-02,  6.4425e-01,\n",
       "        -7.7851e-02,  2.1121e-01, -5.9447e-01,  4.0573e-01, -8.1359e-02,\n",
       "        -5.7965e-02,  9.8722e-02, -5.5541e-01, -3.1815e-01, -2.4156e-01,\n",
       "         4.1329e-01,  1.2071e-01, -4.8367e-01, -7.4944e-01,  6.4267e-03,\n",
       "        -4.5254e-01,  7.8241e-01, -5.4202e-01,  1.4005e-01, -2.9356e-01,\n",
       "        -1.5002e-01, -7.9921e-01,  6.4959e-01, -8.3228e-03, -6.3705e-01,\n",
       "         1.6068e-01, -8.2057e-01,  3.7560e-01, -3.2695e-01, -2.8547e-01,\n",
       "        -4.5912e-02,  6.5067e-02, -7.9344e-01,  7.1821e-01,  4.2618e-02,\n",
       "         6.6630e-01,  3.9094e-01, -8.2154e-01,  5.1059e-02, -6.7075e-02,\n",
       "        -4.0582e-01,  6.0377e-01,  5.5724e-02,  4.9479e-01,  4.8303e-01,\n",
       "         6.5787e-01, -3.4439e-01, -4.1145e-01, -6.4909e-01, -2.8133e-01,\n",
       "         2.9207e-01, -3.8358e-02, -8.3835e-01, -6.5936e-01, -6.0013e-01,\n",
       "         5.6933e-01, -3.7069e-01, -7.7012e-04,  2.2653e-01,  4.3461e-01,\n",
       "        -2.0417e-01,  1.8682e-01, -4.2051e-02,  2.2067e-01, -4.7710e-01,\n",
       "        -2.0808e-01, -2.4893e-02, -4.3289e-01,  3.4983e-01,  3.5974e-01,\n",
       "        -7.6480e-03, -7.4922e-01, -9.2095e-02, -8.0365e-01,  4.0614e-01,\n",
       "        -2.3832e-01,  6.6223e-01, -4.7779e-01, -2.7466e-01,  1.6495e-01,\n",
       "        -4.3779e-01,  1.9037e-01, -1.4727e-01, -1.9670e-01, -1.8436e-04,\n",
       "        -4.4269e-01,  6.8191e-01,  9.3854e-02, -5.8095e-03, -6.2007e-01,\n",
       "         2.0605e-01, -2.1073e-01, -3.7254e-01,  6.3846e-02, -2.9456e-01,\n",
       "         2.7543e-01, -3.9761e-02, -2.4628e-01, -1.1772e-01, -5.4718e-01,\n",
       "        -7.9052e-01, -2.5606e-01,  4.5772e-01, -2.9966e-01,  1.8680e-01,\n",
       "        -6.5050e-01,  4.1808e-01, -8.9875e-01, -6.9015e-01, -4.0470e-01,\n",
       "        -8.0211e-02,  2.9249e-01, -5.4923e-01, -6.8023e-02,  2.9167e-01,\n",
       "         5.5797e-01, -3.7574e-01,  4.8755e-01,  6.8295e-02,  1.5561e-01,\n",
       "         5.7432e-01,  2.3155e-01, -7.4854e-02,  5.4616e-02,  6.0063e-03,\n",
       "         2.3168e-01,  1.9305e-01, -2.5252e-01,  1.0955e-01,  3.7333e-01,\n",
       "         1.8086e-01,  1.5538e-01, -1.7057e-01,  4.1292e-02, -4.4189e-02,\n",
       "         7.7580e-03, -8.9621e-02, -3.2213e-01, -2.2911e-01,  6.2472e-01,\n",
       "         4.3287e-01,  5.1162e-01, -2.2720e-01, -4.5481e-02, -1.6301e-01,\n",
       "         3.4045e-01,  1.7910e-01,  1.3453e-02, -4.1717e-01,  2.0025e-01,\n",
       "        -4.8046e-01, -1.5835e-02, -4.7135e-01, -7.3162e-02,  3.9879e-01,\n",
       "        -7.8625e-02,  1.3285e-01, -4.4291e-01,  4.6400e-01,  1.6995e-01,\n",
       "        -1.8035e-01,  1.1301e-01, -4.1877e-01, -1.8454e-01,  4.1935e-01,\n",
       "         3.6479e-01,  2.5863e-01, -2.6594e-01,  9.6076e-02,  7.7984e-01,\n",
       "         1.7166e-01, -5.9148e-01, -1.4944e-01,  6.9590e-01,  4.9370e-01,\n",
       "         7.3071e-02,  5.2193e-01, -7.0732e-02,  5.1188e-02,  3.2683e-01,\n",
       "         6.3354e-01,  1.0060e-01, -1.5923e-01,  8.2838e-01,  4.1939e-01,\n",
       "         3.6841e-01,  8.4832e-02,  6.8365e-01,  2.1456e-01, -5.3009e-01,\n",
       "         6.6856e-01,  1.2358e-01, -7.9320e-01, -1.0971e-01,  2.6080e-01,\n",
       "         2.9636e-01, -2.5609e-01,  5.7684e-02,  4.7943e-01,  1.7179e-01,\n",
       "         7.4336e-01, -5.2982e-03,  6.9858e-02,  3.5091e-01, -3.4059e-01,\n",
       "        -2.9124e-01,  3.6726e-01, -4.4612e-01,  2.2135e-01, -1.2412e-01,\n",
       "        -7.1598e-01, -2.6845e-01, -6.9087e-02, -1.9073e-01, -6.4393e-01,\n",
       "        -5.1133e-01,  5.0903e-01,  3.6250e-01, -2.2589e-03,  3.7982e-02,\n",
       "         2.5618e-02,  4.6900e-01,  1.7136e-01, -5.5240e-02, -4.4691e-01,\n",
       "         1.0199e-01, -3.9003e-01, -8.3497e-02, -6.5102e-01, -4.5948e-01,\n",
       "         9.3813e-02, -5.0838e-01,  1.9424e-01,  6.5528e-01,  1.2227e-02,\n",
       "        -3.1535e-01,  3.2253e-01, -9.0411e-02,  4.1548e-01,  2.8479e-01,\n",
       "        -6.0934e-01, -3.7798e-01,  2.7424e-01, -5.1684e-01,  1.8928e-01,\n",
       "        -4.9282e-01, -7.7653e-01,  1.4262e-01, -5.3471e-01,  2.0407e-01,\n",
       "         8.6230e-01,  5.7323e-01,  4.0331e-01,  9.0695e-02, -4.7062e-02,\n",
       "         2.5272e-01,  5.9692e-02,  2.7981e-01, -5.4876e-01,  3.5944e-01,\n",
       "        -1.8102e-01,  4.8087e-01,  4.5326e-01,  1.4470e-01,  4.8854e-02,\n",
       "        -4.2568e-03,  2.5190e-01, -3.8218e-01, -2.2378e-01,  3.0691e-01,\n",
       "        -1.4680e-02,  7.4161e-02,  6.3351e-01,  2.2104e-01, -1.3729e-01,\n",
       "         1.1092e-01, -5.1185e-01, -1.3605e-01, -1.8008e-01, -1.0973e-01,\n",
       "        -6.6795e-01,  5.1171e-03,  2.0292e-01, -4.9950e-01, -5.0489e-01,\n",
       "         6.9216e-01, -1.9744e-01, -3.6700e-02, -4.9875e-01,  1.3832e-01,\n",
       "        -2.2767e-01,  7.3572e-02,  2.7687e-01,  3.0122e-01,  1.4677e-01,\n",
       "        -3.9683e-03,  6.5272e-01, -6.4441e-02], device='cuda:0',\n",
       "       grad_fn=<SelectBackward0>)"
      ]
     },
     "execution_count": 14,
     "metadata": {},
     "output_type": "execute_result"
    }
   ],
   "source": [
    "text = \"ما در قرن ۲۱ زندگی می‌کنیم\" \n",
    "encoding = tokenizer.encode_plus(\n",
    "      text,\n",
    "      add_special_tokens=True, # Add '[CLS]' and '[SEP]'\n",
    "      return_token_type_ids=False,\n",
    "      max_length = 500,\n",
    "      truncation=True,\n",
    "      return_attention_mask=True,\n",
    "      return_tensors='pt',  # Return PyTorch tensors\n",
    "    )\n",
    "out = model(\n",
    "            input_ids = encoding['input_ids'].cuda(), \n",
    "            attention_mask= encoding['attention_mask'].cuda())\n",
    "out['pooler_output'][0]"
   ]
  },
  {
   "cell_type": "code",
   "execution_count": 15,
   "id": "0CJT2mJ3-OuZ",
   "metadata": {
    "id": "0CJT2mJ3-OuZ"
   },
   "outputs": [],
   "source": [
    "def get_embed(part):\n",
    "  encoding = tokenizer.encode_plus(\n",
    "    part,\n",
    "    add_special_tokens=True, # Add '[CLS]' and '[SEP]'\n",
    "    return_token_type_ids=False,\n",
    "    max_length = 500,\n",
    "    truncation=True,\n",
    "    return_attention_mask=True,\n",
    "    return_tensors='pt',  # Return PyTorch tensors\n",
    "  )\n",
    "  out = model(\n",
    "      input_ids = encoding['input_ids'].cuda(), \n",
    "      attention_mask= encoding['attention_mask'].cuda())\n",
    "  return out['pooler_output'].cpu().detach().numpy()"
   ]
  },
  {
   "cell_type": "code",
   "execution_count": 16,
   "id": "w1yGQuFmwc9R",
   "metadata": {
    "colab": {
     "base_uri": "https://localhost:8080/"
    },
    "id": "w1yGQuFmwc9R",
    "outputId": "a0ee3187-edd8-495d-8be8-397e9a739247",
    "tags": []
   },
   "outputs": [
    {
     "name": "stderr",
     "output_type": "stream",
     "text": [
      "3258it [06:04,  8.95it/s]\n"
     ]
    }
   ],
   "source": [
    "doc_vec = np.zeros((1, 768))\n",
    "doc_map = np.zeros(1)\n",
    "\n",
    "for index, doc in tqdm.tqdm(corpus.iterrows()):\n",
    "  doc_split = doc['text'].split()\n",
    "  doc_parts = [' '.join(doc_split[i:i + 300]) for i in range(0, len(doc_split) - 150, 150)]\n",
    "  for part in doc_parts:\n",
    "    doc_vec = np.append(doc_vec, get_embed(part), axis = 0)\n",
    "    doc_map = np.append(doc_map, index)"
   ]
  },
  {
   "cell_type": "markdown",
   "id": "vB7lcQxsoZZy",
   "metadata": {
    "id": "vB7lcQxsoZZy"
   },
   "source": [
    "# Document Retrieval"
   ]
  },
  {
   "cell_type": "code",
   "execution_count": 17,
   "id": "Fu0yYIIrLbpX",
   "metadata": {
    "id": "Fu0yYIIrLbpX"
   },
   "outputs": [],
   "source": [
    "class KNN_based_IR(BaseEstimator):\n",
    "  def __init__(self,n_neighbors=1+10+10+10) -> None:\n",
    "    super().__init__()\n",
    "    self.nn = NearestNeighbors(n_neighbors=n_neighbors)\n",
    "  def set_params(self,**kwargs):\n",
    "    self.nn.set_params(**kwargs)\n",
    "  def fit(self, X: np.array):\n",
    "    self.nn.fit(X)\n",
    "  def predict(self, X: np.array):\n",
    "    distances, docIds = self.nn.kneighbors(X)\n",
    "    scores = np.max(distances)-distances\n",
    "    return scores, docIds"
   ]
  },
  {
   "cell_type": "code",
   "execution_count": 18,
   "id": "cSu5M10thrcN",
   "metadata": {
    "id": "cSu5M10thrcN"
   },
   "outputs": [],
   "source": [
    "IR_system = KNN_based_IR()\n",
    "IR_system.fit(vectorizer.transform(corpus.text))"
   ]
  },
  {
   "cell_type": "code",
   "execution_count": 19,
   "id": "dQucB5SN2s9-",
   "metadata": {
    "id": "dQucB5SN2s9-"
   },
   "outputs": [],
   "source": [
    "bert_knn = KNN_based_IR(80)\n",
    "bert_knn.fit(doc_vec[1:])"
   ]
  },
  {
   "cell_type": "markdown",
   "id": "9FD5slp-hsik",
   "metadata": {
    "id": "9FD5slp-hsik"
   },
   "source": [
    "# IR Evaluation\n",
    "Tailored for our multi-level Test Collection."
   ]
  },
  {
   "cell_type": "code",
   "execution_count": 21,
   "id": "MmLtge7sy__H",
   "metadata": {
    "id": "MmLtge7sy__H"
   },
   "outputs": [],
   "source": [
    "def tf_knn_pred(knn):\n",
    "  return knn.predict(vectorizer.transform(query))\n",
    "\n",
    "\n",
    "preds = tf_knn_pred(IR_system)"
   ]
  },
  {
   "cell_type": "code",
   "execution_count": 22,
   "id": "IGEslI50bUEf",
   "metadata": {
    "colab": {
     "base_uri": "https://localhost:8080/",
     "height": 201
    },
    "id": "IGEslI50bUEf",
    "outputId": "a9899c07-756a-44e0-e7d4-6fed35600ac0"
   },
   "outputs": [
    {
     "name": "stderr",
     "output_type": "stream",
     "text": [
      "100%|██████████| 150/150 [00:06<00:00, 24.19it/s]\n"
     ]
    }
   ],
   "source": [
    "def bert_knn_pred(knn):\n",
    "  bert_score = []\n",
    "  bert_id = []\n",
    "  mn = 100\n",
    "  for q in tqdm.tqdm(query):\n",
    "    score, oid = knn.predict(get_embed(q))\n",
    "    score = score[0]\n",
    "    doc_id = [doc_map[i] for i in oid[0]]\n",
    "    n_score = []\n",
    "    n_id = []\n",
    "    for sc, id in zip(score, doc_id):\n",
    "      if id not in n_id:\n",
    "        n_id.append(id)\n",
    "        n_score.append(sc)\n",
    "    mn = min(mn, len(n_score[:31]))\n",
    "    bert_score.append(n_score[:31])\n",
    "    bert_id.append(n_id[:31])\n",
    "  \n",
    "  return (np.array(bert_score), np.array(bert_id).astype(int))\n",
    "\n",
    "\n",
    "bert_pred = bert_knn_pred(bert_knn)"
   ]
  },
  {
   "cell_type": "markdown",
   "id": "iSK68yffPg8-",
   "metadata": {
    "id": "iSK68yffPg8-"
   },
   "source": [
    "## Adapting IR output to our Test Collection"
   ]
  },
  {
   "cell_type": "code",
   "execution_count": 23,
   "id": "jDaNxlfrPovG",
   "metadata": {
    "id": "jDaNxlfrPovG"
   },
   "outputs": [],
   "source": [
    "def adapt_IR_output_to_measure_input(IR_output: Tuple[np.array, np.array]):\n",
    "  scores, docIds = IR_output\n",
    "  return pd.DataFrame({'query_id': np.tile(query.index,(31,1)).flatten(order='F').astype(str),\n",
    "                       'doc_id':   docIds.flatten().astype(str),\n",
    "                       'score':    scores.flatten()})"
   ]
  },
  {
   "cell_type": "code",
   "execution_count": 24,
   "id": "dIBggEIjOGJ5",
   "metadata": {
    "id": "dIBggEIjOGJ5"
   },
   "outputs": [],
   "source": [
    "def knn_tuning(n, param, embed, pred_f, measure):\n",
    "  score = -1\n",
    "  best_p = -1\n",
    "  for p in param:\n",
    "    knn = KNN_based_IR(n)\n",
    "    knn.set_params(metric = p)\n",
    "    knn.fit(embed)\n",
    "    val = measure(qrels.astype({'query_id':str,'doc_id':str}),pred_f(knn))\n",
    "    if val > score:\n",
    "      score = val\n",
    "      best_p = p\n",
    "  return best_p, score\n",
    "\n",
    "\n",
    "param = ['cityblock', 'cosine', 'euclidean', 'l1', 'l2', 'manhattan'] # Metrics for sparse input"
   ]
  },
  {
   "cell_type": "markdown",
   "id": "oYNQ3qYThxZ_",
   "metadata": {
    "id": "oYNQ3qYThxZ_"
   },
   "source": [
    "## MRR (Mean Reciprocal Rank)"
   ]
  },
  {
   "cell_type": "code",
   "execution_count": 25,
   "id": "1tXZutKIhv7V",
   "metadata": {
    "id": "1tXZutKIhv7V"
   },
   "outputs": [],
   "source": [
    "MRR = IRm.measures.MRR()\n",
    "def mrr_measure(qrels, ret):\n",
    "  ret = adapt_IR_output_to_measure_input(ret)\n",
    "  return MRR.calc_aggregate(qrels[qrels.relevance == 4], ret)\n",
    "# mrr_scorer = make_scorer(mrr)"
   ]
  },
  {
   "cell_type": "code",
   "execution_count": 26,
   "id": "KokouE3mi5X7",
   "metadata": {
    "colab": {
     "base_uri": "https://localhost:8080/"
    },
    "id": "KokouE3mi5X7",
    "outputId": "b5d32932-d27c-485e-a6f1-5a0f43277969"
   },
   "outputs": [
    {
     "data": {
      "text/plain": [
       "0.11047063325391496"
      ]
     },
     "execution_count": 26,
     "metadata": {},
     "output_type": "execute_result"
    }
   ],
   "source": [
    "mrr_measure(qrels.astype({'query_id':str,'doc_id':str}),preds)"
   ]
  },
  {
   "cell_type": "code",
   "execution_count": 27,
   "id": "n7IwsjeKS2w1",
   "metadata": {
    "colab": {
     "base_uri": "https://localhost:8080/"
    },
    "id": "n7IwsjeKS2w1",
    "outputId": "ed9bf154-c592-4077-807d-eee6310995c7"
   },
   "outputs": [
    {
     "data": {
      "text/plain": [
       "('cosine', 0.11664736491005835)"
      ]
     },
     "execution_count": 27,
     "metadata": {},
     "output_type": "execute_result"
    }
   ],
   "source": [
    "knn_tuning(31, param, vectorizer.transform(corpus.text), tf_knn_pred, mrr_measure)"
   ]
  },
  {
   "cell_type": "code",
   "execution_count": 28,
   "id": "xXg9mfejzGIe",
   "metadata": {
    "colab": {
     "base_uri": "https://localhost:8080/"
    },
    "id": "xXg9mfejzGIe",
    "outputId": "3b3f9e63-cf56-482b-c688-b138dd11956f"
   },
   "outputs": [
    {
     "data": {
      "text/plain": [
       "0.06931617823372208"
      ]
     },
     "execution_count": 28,
     "metadata": {},
     "output_type": "execute_result"
    }
   ],
   "source": [
    "mrr_measure(qrels.astype({'query_id':str,'doc_id':str}),bert_pred)"
   ]
  },
  {
   "cell_type": "code",
   "execution_count": 29,
   "id": "cdd3e60b-5e15-4d66-8673-e4e36b685241",
   "metadata": {},
   "outputs": [
    {
     "name": "stderr",
     "output_type": "stream",
     "text": [
      "100%|██████████| 150/150 [00:05<00:00, 25.60it/s]\n",
      "100%|██████████| 150/150 [00:11<00:00, 12.60it/s]\n",
      "100%|██████████| 150/150 [00:05<00:00, 25.01it/s]\n",
      "100%|██████████| 150/150 [00:05<00:00, 26.23it/s]\n",
      "100%|██████████| 150/150 [00:06<00:00, 24.50it/s]\n",
      "100%|██████████| 150/150 [00:05<00:00, 25.57it/s]\n"
     ]
    },
    {
     "data": {
      "text/plain": [
       "('cosine', 0.06982707206877474)"
      ]
     },
     "execution_count": 29,
     "metadata": {},
     "output_type": "execute_result"
    }
   ],
   "source": [
    "knn_tuning(80, param, doc_vec[1:], bert_knn_pred, mrr_measure)"
   ]
  },
  {
   "cell_type": "markdown",
   "id": "rFbJ5vp_lXeA",
   "metadata": {
    "id": "rFbJ5vp_lXeA"
   },
   "source": [
    "## MAP (Mean Average Precision)"
   ]
  },
  {
   "cell_type": "code",
   "execution_count": 30,
   "id": "J4z0Ti8eldAH",
   "metadata": {
    "id": "J4z0Ti8eldAH"
   },
   "outputs": [],
   "source": [
    "def map_measure(qrels, ret):\n",
    "  ret = adapt_IR_output_to_measure_input(ret)\n",
    "  return np.mean([IRm.measures.AP(rel=level).\\\n",
    "                    calc_aggregate(qrels[qrels.relevance == level], ret) for level in range(1,4+1)])\n",
    "\n",
    "# map_scorer = make_scorer(map)"
   ]
  },
  {
   "cell_type": "code",
   "execution_count": 31,
   "id": "dkp5CLB8jB2O",
   "metadata": {
    "colab": {
     "base_uri": "https://localhost:8080/"
    },
    "id": "dkp5CLB8jB2O",
    "outputId": "c2055741-e782-4636-8672-dcf94f804f05"
   },
   "outputs": [
    {
     "data": {
      "text/plain": [
       "0.06630537139767945"
      ]
     },
     "execution_count": 31,
     "metadata": {},
     "output_type": "execute_result"
    }
   ],
   "source": [
    "map_measure(qrels.astype({'query_id':str,'doc_id':str}),preds)"
   ]
  },
  {
   "cell_type": "code",
   "execution_count": 32,
   "id": "5CXrnzUbVD4A",
   "metadata": {
    "colab": {
     "base_uri": "https://localhost:8080/"
    },
    "id": "5CXrnzUbVD4A",
    "outputId": "f25e4e20-7b5b-4aa9-dca6-aa52ed3129a4"
   },
   "outputs": [
    {
     "data": {
      "text/plain": [
       "('cosine', 0.06931719832816999)"
      ]
     },
     "execution_count": 32,
     "metadata": {},
     "output_type": "execute_result"
    }
   ],
   "source": [
    "knn_tuning(31, param, vectorizer.transform(corpus.text), tf_knn_pred, map_measure)"
   ]
  },
  {
   "cell_type": "code",
   "execution_count": 33,
   "id": "z454fP2tzMiw",
   "metadata": {
    "colab": {
     "base_uri": "https://localhost:8080/"
    },
    "id": "z454fP2tzMiw",
    "outputId": "0dc6c753-4138-42ae-93f5-4318b2e54fdf"
   },
   "outputs": [
    {
     "data": {
      "text/plain": [
       "0.048315030270106925"
      ]
     },
     "execution_count": 33,
     "metadata": {},
     "output_type": "execute_result"
    }
   ],
   "source": [
    "map_measure(qrels.astype({'query_id':str,'doc_id':str}),bert_pred)"
   ]
  },
  {
   "cell_type": "code",
   "execution_count": 34,
   "id": "78880f20-5751-4754-8976-5339f384f4ef",
   "metadata": {},
   "outputs": [
    {
     "name": "stderr",
     "output_type": "stream",
     "text": [
      "100%|██████████| 150/150 [00:06<00:00, 24.61it/s]\n",
      "100%|██████████| 150/150 [00:11<00:00, 13.24it/s]\n",
      "100%|██████████| 150/150 [00:06<00:00, 24.08it/s]\n",
      "100%|██████████| 150/150 [00:05<00:00, 25.18it/s]\n",
      "100%|██████████| 150/150 [00:06<00:00, 24.42it/s]\n",
      "100%|██████████| 150/150 [00:05<00:00, 25.91it/s]\n"
     ]
    },
    {
     "data": {
      "text/plain": [
       "('cityblock', 0.04838834768432319)"
      ]
     },
     "execution_count": 34,
     "metadata": {},
     "output_type": "execute_result"
    }
   ],
   "source": [
    "knn_tuning(80, param, doc_vec[1:], bert_knn_pred, map_measure)"
   ]
  },
  {
   "cell_type": "markdown",
   "id": "xbhSNyvo19ja",
   "metadata": {
    "id": "xbhSNyvo19ja"
   },
   "source": [
    "## P@K"
   ]
  },
  {
   "cell_type": "code",
   "execution_count": 35,
   "id": "8IRhcs4H19NU",
   "metadata": {
    "id": "8IRhcs4H19NU"
   },
   "outputs": [],
   "source": [
    "def p_measure(qrels, ret):\n",
    "  ret = adapt_IR_output_to_measure_input(ret)\n",
    "  return np.mean([IRm.measures.P(cutoff=k, rel=level).\\\n",
    "                    calc_aggregate(qrels[qrels.relevance == level], ret)\\\n",
    "                  for k,level in zip([1,11,21,31],range(1,4+1))])"
   ]
  },
  {
   "cell_type": "code",
   "execution_count": 36,
   "id": "A4s1-EdTjd52",
   "metadata": {
    "colab": {
     "base_uri": "https://localhost:8080/"
    },
    "id": "A4s1-EdTjd52",
    "outputId": "78b91910-1fc8-40f7-c9c2-4bcba51e3468"
   },
   "outputs": [
    {
     "data": {
      "text/plain": [
       "0.033872596937113045"
      ]
     },
     "execution_count": 36,
     "metadata": {},
     "output_type": "execute_result"
    }
   ],
   "source": [
    "p_measure(qrels.astype({'query_id':str,'doc_id':str}),preds)"
   ]
  },
  {
   "cell_type": "code",
   "execution_count": 37,
   "id": "5JS9sRhmVOXm",
   "metadata": {
    "colab": {
     "base_uri": "https://localhost:8080/"
    },
    "id": "5JS9sRhmVOXm",
    "outputId": "f535e4ff-ec89-4171-d1ca-c293c1d4171a"
   },
   "outputs": [
    {
     "data": {
      "text/plain": [
       "('cosine', 0.03418284224735836)"
      ]
     },
     "execution_count": 37,
     "metadata": {},
     "output_type": "execute_result"
    }
   ],
   "source": [
    "knn_tuning(31, param, vectorizer.transform(corpus.text), tf_knn_pred, p_measure)"
   ]
  },
  {
   "cell_type": "code",
   "execution_count": 38,
   "id": "ITU8eJ6wzQcz",
   "metadata": {
    "colab": {
     "base_uri": "https://localhost:8080/"
    },
    "id": "ITU8eJ6wzQcz",
    "outputId": "0150aac5-b08e-4be2-84be-910a080fd6a3"
   },
   "outputs": [
    {
     "data": {
      "text/plain": [
       "0.026597076758367057"
      ]
     },
     "execution_count": 38,
     "metadata": {},
     "output_type": "execute_result"
    }
   ],
   "source": [
    "p_measure(qrels.astype({'query_id':str,'doc_id':str}),bert_pred)"
   ]
  },
  {
   "cell_type": "code",
   "execution_count": 39,
   "id": "53ec0d85-22ec-4f25-a826-602d5a5a50e3",
   "metadata": {},
   "outputs": [
    {
     "name": "stderr",
     "output_type": "stream",
     "text": [
      "100%|██████████| 150/150 [00:06<00:00, 24.51it/s]\n",
      "100%|██████████| 150/150 [00:11<00:00, 12.68it/s]\n",
      "100%|██████████| 150/150 [00:06<00:00, 24.47it/s]\n",
      "100%|██████████| 150/150 [00:05<00:00, 25.32it/s]\n",
      "100%|██████████| 150/150 [00:06<00:00, 24.64it/s]\n",
      "100%|██████████| 150/150 [00:05<00:00, 26.06it/s]\n"
     ]
    },
    {
     "data": {
      "text/plain": [
       "('cosine', 0.02688893543732251)"
      ]
     },
     "execution_count": 39,
     "metadata": {},
     "output_type": "execute_result"
    }
   ],
   "source": [
    "knn_tuning(80, param, doc_vec[1:], bert_knn_pred, p_measure)"
   ]
  },
  {
   "cell_type": "markdown",
   "id": "-t-lIUk3Mi3i",
   "metadata": {
    "id": "-t-lIUk3Mi3i"
   },
   "source": [
    "# Pipeline Definition"
   ]
  },
  {
   "cell_type": "code",
   "execution_count": null,
   "id": "wOsckUZxMlOq",
   "metadata": {
    "id": "wOsckUZxMlOq"
   },
   "outputs": [],
   "source": [
    "pipeline = Pipeline([('embedding','passthrough'),\n",
    "                     ('retrieval','passthrough')])"
   ]
  }
 ],
 "metadata": {
  "accelerator": "GPU",
  "colab": {
   "include_colab_link": true,
   "name": "Persian-IR-example.ipynb",
   "provenance": []
  },
  "kernelspec": {
   "display_name": "Python 3 (ipykernel)",
   "language": "python",
   "name": "python3"
  },
  "language_info": {
   "codemirror_mode": {
    "name": "ipython",
    "version": 3
   },
   "file_extension": ".py",
   "mimetype": "text/x-python",
   "name": "python",
   "nbconvert_exporter": "python",
   "pygments_lexer": "ipython3",
   "version": "3.8.12"
  },
  "widgets": {
   "application/vnd.jupyter.widget-state+json": {
    "0334f65b95a24e43a65dc0cb4fe3c765": {
     "model_module": "@jupyter-widgets/controls",
     "model_module_version": "1.5.0",
     "model_name": "ProgressStyleModel",
     "state": {
      "_model_module": "@jupyter-widgets/controls",
      "_model_module_version": "1.5.0",
      "_model_name": "ProgressStyleModel",
      "_view_count": null,
      "_view_module": "@jupyter-widgets/base",
      "_view_module_version": "1.2.0",
      "_view_name": "StyleView",
      "bar_color": null,
      "description_width": ""
     }
    },
    "084bea763369486b8d6f8aa74e0b54cf": {
     "model_module": "@jupyter-widgets/base",
     "model_module_version": "1.2.0",
     "model_name": "LayoutModel",
     "state": {
      "_model_module": "@jupyter-widgets/base",
      "_model_module_version": "1.2.0",
      "_model_name": "LayoutModel",
      "_view_count": null,
      "_view_module": "@jupyter-widgets/base",
      "_view_module_version": "1.2.0",
      "_view_name": "LayoutView",
      "align_content": null,
      "align_items": null,
      "align_self": null,
      "border": null,
      "bottom": null,
      "display": null,
      "flex": null,
      "flex_flow": null,
      "grid_area": null,
      "grid_auto_columns": null,
      "grid_auto_flow": null,
      "grid_auto_rows": null,
      "grid_column": null,
      "grid_gap": null,
      "grid_row": null,
      "grid_template_areas": null,
      "grid_template_columns": null,
      "grid_template_rows": null,
      "height": null,
      "justify_content": null,
      "justify_items": null,
      "left": null,
      "margin": null,
      "max_height": null,
      "max_width": null,
      "min_height": null,
      "min_width": null,
      "object_fit": null,
      "object_position": null,
      "order": null,
      "overflow": null,
      "overflow_x": null,
      "overflow_y": null,
      "padding": null,
      "right": null,
      "top": null,
      "visibility": null,
      "width": null
     }
    },
    "09f5b36c5a3f48beb8f237e633646dbf": {
     "model_module": "@jupyter-widgets/base",
     "model_module_version": "1.2.0",
     "model_name": "LayoutModel",
     "state": {
      "_model_module": "@jupyter-widgets/base",
      "_model_module_version": "1.2.0",
      "_model_name": "LayoutModel",
      "_view_count": null,
      "_view_module": "@jupyter-widgets/base",
      "_view_module_version": "1.2.0",
      "_view_name": "LayoutView",
      "align_content": null,
      "align_items": null,
      "align_self": null,
      "border": null,
      "bottom": null,
      "display": null,
      "flex": null,
      "flex_flow": null,
      "grid_area": null,
      "grid_auto_columns": null,
      "grid_auto_flow": null,
      "grid_auto_rows": null,
      "grid_column": null,
      "grid_gap": null,
      "grid_row": null,
      "grid_template_areas": null,
      "grid_template_columns": null,
      "grid_template_rows": null,
      "height": null,
      "justify_content": null,
      "justify_items": null,
      "left": null,
      "margin": null,
      "max_height": null,
      "max_width": null,
      "min_height": null,
      "min_width": null,
      "object_fit": null,
      "object_position": null,
      "order": null,
      "overflow": null,
      "overflow_x": null,
      "overflow_y": null,
      "padding": null,
      "right": null,
      "top": null,
      "visibility": null,
      "width": null
     }
    },
    "0c5713b1f15947dd9faf5eb0c83eeb37": {
     "model_module": "@jupyter-widgets/controls",
     "model_module_version": "1.5.0",
     "model_name": "ProgressStyleModel",
     "state": {
      "_model_module": "@jupyter-widgets/controls",
      "_model_module_version": "1.5.0",
      "_model_name": "ProgressStyleModel",
      "_view_count": null,
      "_view_module": "@jupyter-widgets/base",
      "_view_module_version": "1.2.0",
      "_view_name": "StyleView",
      "bar_color": null,
      "description_width": ""
     }
    },
    "1be0fe0be6cf41a9a0eae4ff19d43310": {
     "model_module": "@jupyter-widgets/controls",
     "model_module_version": "1.5.0",
     "model_name": "FloatProgressModel",
     "state": {
      "_dom_classes": [],
      "_model_module": "@jupyter-widgets/controls",
      "_model_module_version": "1.5.0",
      "_model_name": "FloatProgressModel",
      "_view_count": null,
      "_view_module": "@jupyter-widgets/controls",
      "_view_module_version": "1.5.0",
      "_view_name": "ProgressView",
      "bar_style": "success",
      "description": "",
      "description_tooltip": null,
      "layout": "IPY_MODEL_9a5da5bf146f40ea81365fecf370d827",
      "max": 473451616,
      "min": 0,
      "orientation": "horizontal",
      "style": "IPY_MODEL_ee7d623c0cec43cda9effd6f4f4896be",
      "value": 473451616
     }
    },
    "1e9cd30e49f04c05b31f5e401b20c701": {
     "model_module": "@jupyter-widgets/controls",
     "model_module_version": "1.5.0",
     "model_name": "FloatProgressModel",
     "state": {
      "_dom_classes": [],
      "_model_module": "@jupyter-widgets/controls",
      "_model_module_version": "1.5.0",
      "_model_name": "FloatProgressModel",
      "_view_count": null,
      "_view_module": "@jupyter-widgets/controls",
      "_view_module_version": "1.5.0",
      "_view_name": "ProgressView",
      "bar_style": "success",
      "description": "",
      "description_tooltip": null,
      "layout": "IPY_MODEL_d639a95224124e54b85eab7623d546f2",
      "max": 1108824,
      "min": 0,
      "orientation": "horizontal",
      "style": "IPY_MODEL_7556c4816c8f48a9a89ab762b7f1d6ed",
      "value": 1108824
     }
    },
    "36017e6ebf644e399a868858b958fe54": {
     "model_module": "@jupyter-widgets/base",
     "model_module_version": "1.2.0",
     "model_name": "LayoutModel",
     "state": {
      "_model_module": "@jupyter-widgets/base",
      "_model_module_version": "1.2.0",
      "_model_name": "LayoutModel",
      "_view_count": null,
      "_view_module": "@jupyter-widgets/base",
      "_view_module_version": "1.2.0",
      "_view_name": "LayoutView",
      "align_content": null,
      "align_items": null,
      "align_self": null,
      "border": null,
      "bottom": null,
      "display": null,
      "flex": null,
      "flex_flow": null,
      "grid_area": null,
      "grid_auto_columns": null,
      "grid_auto_flow": null,
      "grid_auto_rows": null,
      "grid_column": null,
      "grid_gap": null,
      "grid_row": null,
      "grid_template_areas": null,
      "grid_template_columns": null,
      "grid_template_rows": null,
      "height": null,
      "justify_content": null,
      "justify_items": null,
      "left": null,
      "margin": null,
      "max_height": null,
      "max_width": null,
      "min_height": null,
      "min_width": null,
      "object_fit": null,
      "object_position": null,
      "order": null,
      "overflow": null,
      "overflow_x": null,
      "overflow_y": null,
      "padding": null,
      "right": null,
      "top": null,
      "visibility": null,
      "width": null
     }
    },
    "3b5741f9e4464d30808fa56641a315c2": {
     "model_module": "@jupyter-widgets/controls",
     "model_module_version": "1.5.0",
     "model_name": "DescriptionStyleModel",
     "state": {
      "_model_module": "@jupyter-widgets/controls",
      "_model_module_version": "1.5.0",
      "_model_name": "DescriptionStyleModel",
      "_view_count": null,
      "_view_module": "@jupyter-widgets/base",
      "_view_module_version": "1.2.0",
      "_view_name": "StyleView",
      "description_width": ""
     }
    },
    "3dd0254b6a0943c6ac515b076b8949b3": {
     "model_module": "@jupyter-widgets/controls",
     "model_module_version": "1.5.0",
     "model_name": "ProgressStyleModel",
     "state": {
      "_model_module": "@jupyter-widgets/controls",
      "_model_module_version": "1.5.0",
      "_model_name": "ProgressStyleModel",
      "_view_count": null,
      "_view_module": "@jupyter-widgets/base",
      "_view_module_version": "1.2.0",
      "_view_name": "StyleView",
      "bar_color": null,
      "description_width": ""
     }
    },
    "40db2b33aae144089ba97bdca2e4f145": {
     "model_module": "@jupyter-widgets/controls",
     "model_module_version": "1.5.0",
     "model_name": "DescriptionStyleModel",
     "state": {
      "_model_module": "@jupyter-widgets/controls",
      "_model_module_version": "1.5.0",
      "_model_name": "DescriptionStyleModel",
      "_view_count": null,
      "_view_module": "@jupyter-widgets/base",
      "_view_module_version": "1.2.0",
      "_view_name": "StyleView",
      "description_width": ""
     }
    },
    "439411774580427cad503cd3ade10759": {
     "model_module": "@jupyter-widgets/controls",
     "model_module_version": "1.5.0",
     "model_name": "DescriptionStyleModel",
     "state": {
      "_model_module": "@jupyter-widgets/controls",
      "_model_module_version": "1.5.0",
      "_model_name": "DescriptionStyleModel",
      "_view_count": null,
      "_view_module": "@jupyter-widgets/base",
      "_view_module_version": "1.2.0",
      "_view_name": "StyleView",
      "description_width": ""
     }
    },
    "44f0e46f80d54bd5a7faa1dd4e2f6c47": {
     "model_module": "@jupyter-widgets/controls",
     "model_module_version": "1.5.0",
     "model_name": "DescriptionStyleModel",
     "state": {
      "_model_module": "@jupyter-widgets/controls",
      "_model_module_version": "1.5.0",
      "_model_name": "DescriptionStyleModel",
      "_view_count": null,
      "_view_module": "@jupyter-widgets/base",
      "_view_module_version": "1.2.0",
      "_view_name": "StyleView",
      "description_width": ""
     }
    },
    "498b9c4dedbc42af8067487ff79a33ed": {
     "model_module": "@jupyter-widgets/controls",
     "model_module_version": "1.5.0",
     "model_name": "DescriptionStyleModel",
     "state": {
      "_model_module": "@jupyter-widgets/controls",
      "_model_module_version": "1.5.0",
      "_model_name": "DescriptionStyleModel",
      "_view_count": null,
      "_view_module": "@jupyter-widgets/base",
      "_view_module_version": "1.2.0",
      "_view_name": "StyleView",
      "description_width": ""
     }
    },
    "51944d05ed974d0f89348caabd514ce1": {
     "model_module": "@jupyter-widgets/base",
     "model_module_version": "1.2.0",
     "model_name": "LayoutModel",
     "state": {
      "_model_module": "@jupyter-widgets/base",
      "_model_module_version": "1.2.0",
      "_model_name": "LayoutModel",
      "_view_count": null,
      "_view_module": "@jupyter-widgets/base",
      "_view_module_version": "1.2.0",
      "_view_name": "LayoutView",
      "align_content": null,
      "align_items": null,
      "align_self": null,
      "border": null,
      "bottom": null,
      "display": null,
      "flex": null,
      "flex_flow": null,
      "grid_area": null,
      "grid_auto_columns": null,
      "grid_auto_flow": null,
      "grid_auto_rows": null,
      "grid_column": null,
      "grid_gap": null,
      "grid_row": null,
      "grid_template_areas": null,
      "grid_template_columns": null,
      "grid_template_rows": null,
      "height": null,
      "justify_content": null,
      "justify_items": null,
      "left": null,
      "margin": null,
      "max_height": null,
      "max_width": null,
      "min_height": null,
      "min_width": null,
      "object_fit": null,
      "object_position": null,
      "order": null,
      "overflow": null,
      "overflow_x": null,
      "overflow_y": null,
      "padding": null,
      "right": null,
      "top": null,
      "visibility": null,
      "width": null
     }
    },
    "5474613f73414699a13fde35e7a439e6": {
     "model_module": "@jupyter-widgets/controls",
     "model_module_version": "1.5.0",
     "model_name": "DescriptionStyleModel",
     "state": {
      "_model_module": "@jupyter-widgets/controls",
      "_model_module_version": "1.5.0",
      "_model_name": "DescriptionStyleModel",
      "_view_count": null,
      "_view_module": "@jupyter-widgets/base",
      "_view_module_version": "1.2.0",
      "_view_name": "StyleView",
      "description_width": ""
     }
    },
    "5715e691d8174bc0b3b42bf811dec24c": {
     "model_module": "@jupyter-widgets/controls",
     "model_module_version": "1.5.0",
     "model_name": "FloatProgressModel",
     "state": {
      "_dom_classes": [],
      "_model_module": "@jupyter-widgets/controls",
      "_model_module_version": "1.5.0",
      "_model_name": "FloatProgressModel",
      "_view_count": null,
      "_view_module": "@jupyter-widgets/controls",
      "_view_module_version": "1.5.0",
      "_view_name": "ProgressView",
      "bar_style": "success",
      "description": "",
      "description_tooltip": null,
      "layout": "IPY_MODEL_09f5b36c5a3f48beb8f237e633646dbf",
      "max": 565,
      "min": 0,
      "orientation": "horizontal",
      "style": "IPY_MODEL_0334f65b95a24e43a65dc0cb4fe3c765",
      "value": 565
     }
    },
    "58f9a56afb7b4c03a385b9e854d050de": {
     "model_module": "@jupyter-widgets/base",
     "model_module_version": "1.2.0",
     "model_name": "LayoutModel",
     "state": {
      "_model_module": "@jupyter-widgets/base",
      "_model_module_version": "1.2.0",
      "_model_name": "LayoutModel",
      "_view_count": null,
      "_view_module": "@jupyter-widgets/base",
      "_view_module_version": "1.2.0",
      "_view_name": "LayoutView",
      "align_content": null,
      "align_items": null,
      "align_self": null,
      "border": null,
      "bottom": null,
      "display": null,
      "flex": null,
      "flex_flow": null,
      "grid_area": null,
      "grid_auto_columns": null,
      "grid_auto_flow": null,
      "grid_auto_rows": null,
      "grid_column": null,
      "grid_gap": null,
      "grid_row": null,
      "grid_template_areas": null,
      "grid_template_columns": null,
      "grid_template_rows": null,
      "height": null,
      "justify_content": null,
      "justify_items": null,
      "left": null,
      "margin": null,
      "max_height": null,
      "max_width": null,
      "min_height": null,
      "min_width": null,
      "object_fit": null,
      "object_position": null,
      "order": null,
      "overflow": null,
      "overflow_x": null,
      "overflow_y": null,
      "padding": null,
      "right": null,
      "top": null,
      "visibility": null,
      "width": null
     }
    },
    "5944a263b33b43a8acf6ed962eba592e": {
     "model_module": "@jupyter-widgets/controls",
     "model_module_version": "1.5.0",
     "model_name": "HTMLModel",
     "state": {
      "_dom_classes": [],
      "_model_module": "@jupyter-widgets/controls",
      "_model_module_version": "1.5.0",
      "_model_name": "HTMLModel",
      "_view_count": null,
      "_view_module": "@jupyter-widgets/controls",
      "_view_module_version": "1.5.0",
      "_view_name": "HTMLView",
      "description": "",
      "description_tooltip": null,
      "layout": "IPY_MODEL_c7a2a57e72b04ac9b5859f492c6e9477",
      "placeholder": "​",
      "style": "IPY_MODEL_5474613f73414699a13fde35e7a439e6",
      "value": " 1.06M/1.06M [00:00&lt;00:00, 2.82MB/s]"
     }
    },
    "5b31c7dda09c4c8790e65c02f7f4ed72": {
     "model_module": "@jupyter-widgets/controls",
     "model_module_version": "1.5.0",
     "model_name": "HBoxModel",
     "state": {
      "_dom_classes": [],
      "_model_module": "@jupyter-widgets/controls",
      "_model_module_version": "1.5.0",
      "_model_name": "HBoxModel",
      "_view_count": null,
      "_view_module": "@jupyter-widgets/controls",
      "_view_module_version": "1.5.0",
      "_view_name": "HBoxView",
      "box_style": "",
      "children": [
       "IPY_MODEL_85694d65d7cd4ce480e743852ff3705d",
       "IPY_MODEL_96794621e4824f4caf79e7a3fce51217",
       "IPY_MODEL_f9d99756bd774e43b7a2e6bdbf276f07"
      ],
      "layout": "IPY_MODEL_ec3c8b246b21468893a4f56c8c761156"
     }
    },
    "5d8a9ebcbfe2400382ad11748853ca80": {
     "model_module": "@jupyter-widgets/controls",
     "model_module_version": "1.5.0",
     "model_name": "HBoxModel",
     "state": {
      "_dom_classes": [],
      "_model_module": "@jupyter-widgets/controls",
      "_model_module_version": "1.5.0",
      "_model_name": "HBoxModel",
      "_view_count": null,
      "_view_module": "@jupyter-widgets/controls",
      "_view_module_version": "1.5.0",
      "_view_name": "HBoxView",
      "box_style": "",
      "children": [
       "IPY_MODEL_7bf4b34568394f20adc7d93c76b177f0",
       "IPY_MODEL_1e9cd30e49f04c05b31f5e401b20c701",
       "IPY_MODEL_5944a263b33b43a8acf6ed962eba592e"
      ],
      "layout": "IPY_MODEL_bfac11eae71b49c08c33c7a15a1b51c7"
     }
    },
    "6080993e707a4ae0944a62d6c4bb4e81": {
     "model_module": "@jupyter-widgets/controls",
     "model_module_version": "1.5.0",
     "model_name": "HBoxModel",
     "state": {
      "_dom_classes": [],
      "_model_module": "@jupyter-widgets/controls",
      "_model_module_version": "1.5.0",
      "_model_name": "HBoxModel",
      "_view_count": null,
      "_view_module": "@jupyter-widgets/controls",
      "_view_module_version": "1.5.0",
      "_view_name": "HBoxView",
      "box_style": "",
      "children": [
       "IPY_MODEL_b1c2ddce61744236b66f60e23e06cd3b",
       "IPY_MODEL_1be0fe0be6cf41a9a0eae4ff19d43310",
       "IPY_MODEL_777e09bf3bcb43f2afe4645a1328bb74"
      ],
      "layout": "IPY_MODEL_51944d05ed974d0f89348caabd514ce1"
     }
    },
    "6153157369094159a49cf20740e98007": {
     "model_module": "@jupyter-widgets/controls",
     "model_module_version": "1.5.0",
     "model_name": "HBoxModel",
     "state": {
      "_dom_classes": [],
      "_model_module": "@jupyter-widgets/controls",
      "_model_module_version": "1.5.0",
      "_model_name": "HBoxModel",
      "_view_count": null,
      "_view_module": "@jupyter-widgets/controls",
      "_view_module_version": "1.5.0",
      "_view_name": "HBoxView",
      "box_style": "",
      "children": [
       "IPY_MODEL_98645b61bfcf4e61a2cf1af5856b89b4",
       "IPY_MODEL_8df0957389d641faaca53ee214e57854",
       "IPY_MODEL_72d38b75088e414181a357bbc2aadb62"
      ],
      "layout": "IPY_MODEL_91a558e221f14a47a1dd4e086a8879de"
     }
    },
    "6b555794ff9f413e883ab97ca7a27100": {
     "model_module": "@jupyter-widgets/controls",
     "model_module_version": "1.5.0",
     "model_name": "DescriptionStyleModel",
     "state": {
      "_model_module": "@jupyter-widgets/controls",
      "_model_module_version": "1.5.0",
      "_model_name": "DescriptionStyleModel",
      "_view_count": null,
      "_view_module": "@jupyter-widgets/base",
      "_view_module_version": "1.2.0",
      "_view_name": "StyleView",
      "description_width": ""
     }
    },
    "71f9d4676e324e50b74e2ad44b6e51ad": {
     "model_module": "@jupyter-widgets/controls",
     "model_module_version": "1.5.0",
     "model_name": "HTMLModel",
     "state": {
      "_dom_classes": [],
      "_model_module": "@jupyter-widgets/controls",
      "_model_module_version": "1.5.0",
      "_model_name": "HTMLModel",
      "_view_count": null,
      "_view_module": "@jupyter-widgets/controls",
      "_view_module_version": "1.5.0",
      "_view_name": "HTMLView",
      "description": "",
      "description_tooltip": null,
      "layout": "IPY_MODEL_d13e987470ee4679bbaef8b8f9b46c54",
      "placeholder": "​",
      "style": "IPY_MODEL_40db2b33aae144089ba97bdca2e4f145",
      "value": "Downloading: 100%"
     }
    },
    "72d38b75088e414181a357bbc2aadb62": {
     "model_module": "@jupyter-widgets/controls",
     "model_module_version": "1.5.0",
     "model_name": "HTMLModel",
     "state": {
      "_dom_classes": [],
      "_model_module": "@jupyter-widgets/controls",
      "_model_module_version": "1.5.0",
      "_model_name": "HTMLModel",
      "_view_count": null,
      "_view_module": "@jupyter-widgets/controls",
      "_view_module_version": "1.5.0",
      "_view_name": "HTMLView",
      "description": "",
      "description_tooltip": null,
      "layout": "IPY_MODEL_8145dbc8dc65425496d4098204453a75",
      "placeholder": "​",
      "style": "IPY_MODEL_3b5741f9e4464d30808fa56641a315c2",
      "value": " 292/292 [00:00&lt;00:00, 3.84kB/s]"
     }
    },
    "7556c4816c8f48a9a89ab762b7f1d6ed": {
     "model_module": "@jupyter-widgets/controls",
     "model_module_version": "1.5.0",
     "model_name": "ProgressStyleModel",
     "state": {
      "_model_module": "@jupyter-widgets/controls",
      "_model_module_version": "1.5.0",
      "_model_name": "ProgressStyleModel",
      "_view_count": null,
      "_view_module": "@jupyter-widgets/base",
      "_view_module_version": "1.2.0",
      "_view_name": "StyleView",
      "bar_color": null,
      "description_width": ""
     }
    },
    "777e09bf3bcb43f2afe4645a1328bb74": {
     "model_module": "@jupyter-widgets/controls",
     "model_module_version": "1.5.0",
     "model_name": "HTMLModel",
     "state": {
      "_dom_classes": [],
      "_model_module": "@jupyter-widgets/controls",
      "_model_module_version": "1.5.0",
      "_model_name": "HTMLModel",
      "_view_count": null,
      "_view_module": "@jupyter-widgets/controls",
      "_view_module_version": "1.5.0",
      "_view_name": "HTMLView",
      "description": "",
      "description_tooltip": null,
      "layout": "IPY_MODEL_9e97176748fe4e51992b0c74c33b21cc",
      "placeholder": "​",
      "style": "IPY_MODEL_be5ac49942fb49bd955d55e52d2a978e",
      "value": " 452M/452M [00:22&lt;00:00, 39.5MB/s]"
     }
    },
    "7bf4b34568394f20adc7d93c76b177f0": {
     "model_module": "@jupyter-widgets/controls",
     "model_module_version": "1.5.0",
     "model_name": "HTMLModel",
     "state": {
      "_dom_classes": [],
      "_model_module": "@jupyter-widgets/controls",
      "_model_module_version": "1.5.0",
      "_model_name": "HTMLModel",
      "_view_count": null,
      "_view_module": "@jupyter-widgets/controls",
      "_view_module_version": "1.5.0",
      "_view_name": "HTMLView",
      "description": "",
      "description_tooltip": null,
      "layout": "IPY_MODEL_f80a30a7985e4c1da5af22194404c6ac",
      "placeholder": "​",
      "style": "IPY_MODEL_d3d97d254ab9450dbff7305f007cc553",
      "value": "Downloading: 100%"
     }
    },
    "7efcaa71699f4836a380973e1ad289a0": {
     "model_module": "@jupyter-widgets/controls",
     "model_module_version": "1.5.0",
     "model_name": "DescriptionStyleModel",
     "state": {
      "_model_module": "@jupyter-widgets/controls",
      "_model_module_version": "1.5.0",
      "_model_name": "DescriptionStyleModel",
      "_view_count": null,
      "_view_module": "@jupyter-widgets/base",
      "_view_module_version": "1.2.0",
      "_view_name": "StyleView",
      "description_width": ""
     }
    },
    "8145dbc8dc65425496d4098204453a75": {
     "model_module": "@jupyter-widgets/base",
     "model_module_version": "1.2.0",
     "model_name": "LayoutModel",
     "state": {
      "_model_module": "@jupyter-widgets/base",
      "_model_module_version": "1.2.0",
      "_model_name": "LayoutModel",
      "_view_count": null,
      "_view_module": "@jupyter-widgets/base",
      "_view_module_version": "1.2.0",
      "_view_name": "LayoutView",
      "align_content": null,
      "align_items": null,
      "align_self": null,
      "border": null,
      "bottom": null,
      "display": null,
      "flex": null,
      "flex_flow": null,
      "grid_area": null,
      "grid_auto_columns": null,
      "grid_auto_flow": null,
      "grid_auto_rows": null,
      "grid_column": null,
      "grid_gap": null,
      "grid_row": null,
      "grid_template_areas": null,
      "grid_template_columns": null,
      "grid_template_rows": null,
      "height": null,
      "justify_content": null,
      "justify_items": null,
      "left": null,
      "margin": null,
      "max_height": null,
      "max_width": null,
      "min_height": null,
      "min_width": null,
      "object_fit": null,
      "object_position": null,
      "order": null,
      "overflow": null,
      "overflow_x": null,
      "overflow_y": null,
      "padding": null,
      "right": null,
      "top": null,
      "visibility": null,
      "width": null
     }
    },
    "85694d65d7cd4ce480e743852ff3705d": {
     "model_module": "@jupyter-widgets/controls",
     "model_module_version": "1.5.0",
     "model_name": "HTMLModel",
     "state": {
      "_dom_classes": [],
      "_model_module": "@jupyter-widgets/controls",
      "_model_module_version": "1.5.0",
      "_model_name": "HTMLModel",
      "_view_count": null,
      "_view_module": "@jupyter-widgets/controls",
      "_view_module_version": "1.5.0",
      "_view_name": "HTMLView",
      "description": "",
      "description_tooltip": null,
      "layout": "IPY_MODEL_b7bbfe2435c7440586841683184a75cf",
      "placeholder": "​",
      "style": "IPY_MODEL_498b9c4dedbc42af8067487ff79a33ed",
      "value": "Downloading: 100%"
     }
    },
    "8df0957389d641faaca53ee214e57854": {
     "model_module": "@jupyter-widgets/controls",
     "model_module_version": "1.5.0",
     "model_name": "FloatProgressModel",
     "state": {
      "_dom_classes": [],
      "_model_module": "@jupyter-widgets/controls",
      "_model_module_version": "1.5.0",
      "_model_name": "FloatProgressModel",
      "_view_count": null,
      "_view_module": "@jupyter-widgets/controls",
      "_view_module_version": "1.5.0",
      "_view_name": "ProgressView",
      "bar_style": "success",
      "description": "",
      "description_tooltip": null,
      "layout": "IPY_MODEL_d5402eda9eb945b2979ab375afacce8e",
      "max": 292,
      "min": 0,
      "orientation": "horizontal",
      "style": "IPY_MODEL_3dd0254b6a0943c6ac515b076b8949b3",
      "value": 292
     }
    },
    "914f593bc83a4d4793d883973775896a": {
     "model_module": "@jupyter-widgets/controls",
     "model_module_version": "1.5.0",
     "model_name": "FloatProgressModel",
     "state": {
      "_dom_classes": [],
      "_model_module": "@jupyter-widgets/controls",
      "_model_module_version": "1.5.0",
      "_model_name": "FloatProgressModel",
      "_view_count": null,
      "_view_module": "@jupyter-widgets/controls",
      "_view_module_version": "1.5.0",
      "_view_name": "ProgressView",
      "bar_style": "success",
      "description": "",
      "description_tooltip": null,
      "layout": "IPY_MODEL_c16088932d1d48d396afecaa60a655d5",
      "max": 426422,
      "min": 0,
      "orientation": "horizontal",
      "style": "IPY_MODEL_94a1439119e0487ea9298391b6f8735e",
      "value": 426422
     }
    },
    "91a558e221f14a47a1dd4e086a8879de": {
     "model_module": "@jupyter-widgets/base",
     "model_module_version": "1.2.0",
     "model_name": "LayoutModel",
     "state": {
      "_model_module": "@jupyter-widgets/base",
      "_model_module_version": "1.2.0",
      "_model_name": "LayoutModel",
      "_view_count": null,
      "_view_module": "@jupyter-widgets/base",
      "_view_module_version": "1.2.0",
      "_view_name": "LayoutView",
      "align_content": null,
      "align_items": null,
      "align_self": null,
      "border": null,
      "bottom": null,
      "display": null,
      "flex": null,
      "flex_flow": null,
      "grid_area": null,
      "grid_auto_columns": null,
      "grid_auto_flow": null,
      "grid_auto_rows": null,
      "grid_column": null,
      "grid_gap": null,
      "grid_row": null,
      "grid_template_areas": null,
      "grid_template_columns": null,
      "grid_template_rows": null,
      "height": null,
      "justify_content": null,
      "justify_items": null,
      "left": null,
      "margin": null,
      "max_height": null,
      "max_width": null,
      "min_height": null,
      "min_width": null,
      "object_fit": null,
      "object_position": null,
      "order": null,
      "overflow": null,
      "overflow_x": null,
      "overflow_y": null,
      "padding": null,
      "right": null,
      "top": null,
      "visibility": null,
      "width": null
     }
    },
    "94a1439119e0487ea9298391b6f8735e": {
     "model_module": "@jupyter-widgets/controls",
     "model_module_version": "1.5.0",
     "model_name": "ProgressStyleModel",
     "state": {
      "_model_module": "@jupyter-widgets/controls",
      "_model_module_version": "1.5.0",
      "_model_name": "ProgressStyleModel",
      "_view_count": null,
      "_view_module": "@jupyter-widgets/base",
      "_view_module_version": "1.2.0",
      "_view_name": "StyleView",
      "bar_color": null,
      "description_width": ""
     }
    },
    "96794621e4824f4caf79e7a3fce51217": {
     "model_module": "@jupyter-widgets/controls",
     "model_module_version": "1.5.0",
     "model_name": "FloatProgressModel",
     "state": {
      "_dom_classes": [],
      "_model_module": "@jupyter-widgets/controls",
      "_model_module_version": "1.5.0",
      "_model_name": "FloatProgressModel",
      "_view_count": null,
      "_view_module": "@jupyter-widgets/controls",
      "_view_module_version": "1.5.0",
      "_view_name": "ProgressView",
      "bar_style": "success",
      "description": "",
      "description_tooltip": null,
      "layout": "IPY_MODEL_58f9a56afb7b4c03a385b9e854d050de",
      "max": 134,
      "min": 0,
      "orientation": "horizontal",
      "style": "IPY_MODEL_0c5713b1f15947dd9faf5eb0c83eeb37",
      "value": 134
     }
    },
    "98645b61bfcf4e61a2cf1af5856b89b4": {
     "model_module": "@jupyter-widgets/controls",
     "model_module_version": "1.5.0",
     "model_name": "HTMLModel",
     "state": {
      "_dom_classes": [],
      "_model_module": "@jupyter-widgets/controls",
      "_model_module_version": "1.5.0",
      "_model_name": "HTMLModel",
      "_view_count": null,
      "_view_module": "@jupyter-widgets/controls",
      "_view_module_version": "1.5.0",
      "_view_name": "HTMLView",
      "description": "",
      "description_tooltip": null,
      "layout": "IPY_MODEL_d360ab93d5e841b2aabd156871098e32",
      "placeholder": "​",
      "style": "IPY_MODEL_44f0e46f80d54bd5a7faa1dd4e2f6c47",
      "value": "Downloading: 100%"
     }
    },
    "9a5da5bf146f40ea81365fecf370d827": {
     "model_module": "@jupyter-widgets/base",
     "model_module_version": "1.2.0",
     "model_name": "LayoutModel",
     "state": {
      "_model_module": "@jupyter-widgets/base",
      "_model_module_version": "1.2.0",
      "_model_name": "LayoutModel",
      "_view_count": null,
      "_view_module": "@jupyter-widgets/base",
      "_view_module_version": "1.2.0",
      "_view_name": "LayoutView",
      "align_content": null,
      "align_items": null,
      "align_self": null,
      "border": null,
      "bottom": null,
      "display": null,
      "flex": null,
      "flex_flow": null,
      "grid_area": null,
      "grid_auto_columns": null,
      "grid_auto_flow": null,
      "grid_auto_rows": null,
      "grid_column": null,
      "grid_gap": null,
      "grid_row": null,
      "grid_template_areas": null,
      "grid_template_columns": null,
      "grid_template_rows": null,
      "height": null,
      "justify_content": null,
      "justify_items": null,
      "left": null,
      "margin": null,
      "max_height": null,
      "max_width": null,
      "min_height": null,
      "min_width": null,
      "object_fit": null,
      "object_position": null,
      "order": null,
      "overflow": null,
      "overflow_x": null,
      "overflow_y": null,
      "padding": null,
      "right": null,
      "top": null,
      "visibility": null,
      "width": null
     }
    },
    "9adf9a900886455ab3c1199980181b1a": {
     "model_module": "@jupyter-widgets/base",
     "model_module_version": "1.2.0",
     "model_name": "LayoutModel",
     "state": {
      "_model_module": "@jupyter-widgets/base",
      "_model_module_version": "1.2.0",
      "_model_name": "LayoutModel",
      "_view_count": null,
      "_view_module": "@jupyter-widgets/base",
      "_view_module_version": "1.2.0",
      "_view_name": "LayoutView",
      "align_content": null,
      "align_items": null,
      "align_self": null,
      "border": null,
      "bottom": null,
      "display": null,
      "flex": null,
      "flex_flow": null,
      "grid_area": null,
      "grid_auto_columns": null,
      "grid_auto_flow": null,
      "grid_auto_rows": null,
      "grid_column": null,
      "grid_gap": null,
      "grid_row": null,
      "grid_template_areas": null,
      "grid_template_columns": null,
      "grid_template_rows": null,
      "height": null,
      "justify_content": null,
      "justify_items": null,
      "left": null,
      "margin": null,
      "max_height": null,
      "max_width": null,
      "min_height": null,
      "min_width": null,
      "object_fit": null,
      "object_position": null,
      "order": null,
      "overflow": null,
      "overflow_x": null,
      "overflow_y": null,
      "padding": null,
      "right": null,
      "top": null,
      "visibility": null,
      "width": null
     }
    },
    "9c34d188b17348afb6d41930a26eee44": {
     "model_module": "@jupyter-widgets/controls",
     "model_module_version": "1.5.0",
     "model_name": "DescriptionStyleModel",
     "state": {
      "_model_module": "@jupyter-widgets/controls",
      "_model_module_version": "1.5.0",
      "_model_name": "DescriptionStyleModel",
      "_view_count": null,
      "_view_module": "@jupyter-widgets/base",
      "_view_module_version": "1.2.0",
      "_view_name": "StyleView",
      "description_width": ""
     }
    },
    "9e97176748fe4e51992b0c74c33b21cc": {
     "model_module": "@jupyter-widgets/base",
     "model_module_version": "1.2.0",
     "model_name": "LayoutModel",
     "state": {
      "_model_module": "@jupyter-widgets/base",
      "_model_module_version": "1.2.0",
      "_model_name": "LayoutModel",
      "_view_count": null,
      "_view_module": "@jupyter-widgets/base",
      "_view_module_version": "1.2.0",
      "_view_name": "LayoutView",
      "align_content": null,
      "align_items": null,
      "align_self": null,
      "border": null,
      "bottom": null,
      "display": null,
      "flex": null,
      "flex_flow": null,
      "grid_area": null,
      "grid_auto_columns": null,
      "grid_auto_flow": null,
      "grid_auto_rows": null,
      "grid_column": null,
      "grid_gap": null,
      "grid_row": null,
      "grid_template_areas": null,
      "grid_template_columns": null,
      "grid_template_rows": null,
      "height": null,
      "justify_content": null,
      "justify_items": null,
      "left": null,
      "margin": null,
      "max_height": null,
      "max_width": null,
      "min_height": null,
      "min_width": null,
      "object_fit": null,
      "object_position": null,
      "order": null,
      "overflow": null,
      "overflow_x": null,
      "overflow_y": null,
      "padding": null,
      "right": null,
      "top": null,
      "visibility": null,
      "width": null
     }
    },
    "a8e6d6356ffe43daacb01251fc6a51d1": {
     "model_module": "@jupyter-widgets/controls",
     "model_module_version": "1.5.0",
     "model_name": "HTMLModel",
     "state": {
      "_dom_classes": [],
      "_model_module": "@jupyter-widgets/controls",
      "_model_module_version": "1.5.0",
      "_model_name": "HTMLModel",
      "_view_count": null,
      "_view_module": "@jupyter-widgets/controls",
      "_view_module_version": "1.5.0",
      "_view_name": "HTMLView",
      "description": "",
      "description_tooltip": null,
      "layout": "IPY_MODEL_eaae45020b6b44b6bba6e96c5d17b9a9",
      "placeholder": "​",
      "style": "IPY_MODEL_7efcaa71699f4836a380973e1ad289a0",
      "value": " 565/565 [00:00&lt;00:00, 13.2kB/s]"
     }
    },
    "aa7a957c1cad40298282d65b9d561b13": {
     "model_module": "@jupyter-widgets/base",
     "model_module_version": "1.2.0",
     "model_name": "LayoutModel",
     "state": {
      "_model_module": "@jupyter-widgets/base",
      "_model_module_version": "1.2.0",
      "_model_name": "LayoutModel",
      "_view_count": null,
      "_view_module": "@jupyter-widgets/base",
      "_view_module_version": "1.2.0",
      "_view_name": "LayoutView",
      "align_content": null,
      "align_items": null,
      "align_self": null,
      "border": null,
      "bottom": null,
      "display": null,
      "flex": null,
      "flex_flow": null,
      "grid_area": null,
      "grid_auto_columns": null,
      "grid_auto_flow": null,
      "grid_auto_rows": null,
      "grid_column": null,
      "grid_gap": null,
      "grid_row": null,
      "grid_template_areas": null,
      "grid_template_columns": null,
      "grid_template_rows": null,
      "height": null,
      "justify_content": null,
      "justify_items": null,
      "left": null,
      "margin": null,
      "max_height": null,
      "max_width": null,
      "min_height": null,
      "min_width": null,
      "object_fit": null,
      "object_position": null,
      "order": null,
      "overflow": null,
      "overflow_x": null,
      "overflow_y": null,
      "padding": null,
      "right": null,
      "top": null,
      "visibility": null,
      "width": null
     }
    },
    "aa837b5b3ac54b3f8cdb69bfc1858d25": {
     "model_module": "@jupyter-widgets/base",
     "model_module_version": "1.2.0",
     "model_name": "LayoutModel",
     "state": {
      "_model_module": "@jupyter-widgets/base",
      "_model_module_version": "1.2.0",
      "_model_name": "LayoutModel",
      "_view_count": null,
      "_view_module": "@jupyter-widgets/base",
      "_view_module_version": "1.2.0",
      "_view_name": "LayoutView",
      "align_content": null,
      "align_items": null,
      "align_self": null,
      "border": null,
      "bottom": null,
      "display": null,
      "flex": null,
      "flex_flow": null,
      "grid_area": null,
      "grid_auto_columns": null,
      "grid_auto_flow": null,
      "grid_auto_rows": null,
      "grid_column": null,
      "grid_gap": null,
      "grid_row": null,
      "grid_template_areas": null,
      "grid_template_columns": null,
      "grid_template_rows": null,
      "height": null,
      "justify_content": null,
      "justify_items": null,
      "left": null,
      "margin": null,
      "max_height": null,
      "max_width": null,
      "min_height": null,
      "min_width": null,
      "object_fit": null,
      "object_position": null,
      "order": null,
      "overflow": null,
      "overflow_x": null,
      "overflow_y": null,
      "padding": null,
      "right": null,
      "top": null,
      "visibility": null,
      "width": null
     }
    },
    "b1c2ddce61744236b66f60e23e06cd3b": {
     "model_module": "@jupyter-widgets/controls",
     "model_module_version": "1.5.0",
     "model_name": "HTMLModel",
     "state": {
      "_dom_classes": [],
      "_model_module": "@jupyter-widgets/controls",
      "_model_module_version": "1.5.0",
      "_model_name": "HTMLModel",
      "_view_count": null,
      "_view_module": "@jupyter-widgets/controls",
      "_view_module_version": "1.5.0",
      "_view_name": "HTMLView",
      "description": "",
      "description_tooltip": null,
      "layout": "IPY_MODEL_aa7a957c1cad40298282d65b9d561b13",
      "placeholder": "​",
      "style": "IPY_MODEL_9c34d188b17348afb6d41930a26eee44",
      "value": "Downloading: 100%"
     }
    },
    "b5ef548c8e5a423baae1b343bc63140e": {
     "model_module": "@jupyter-widgets/controls",
     "model_module_version": "1.5.0",
     "model_name": "HBoxModel",
     "state": {
      "_dom_classes": [],
      "_model_module": "@jupyter-widgets/controls",
      "_model_module_version": "1.5.0",
      "_model_name": "HBoxModel",
      "_view_count": null,
      "_view_module": "@jupyter-widgets/controls",
      "_view_module_version": "1.5.0",
      "_view_name": "HBoxView",
      "box_style": "",
      "children": [
       "IPY_MODEL_71f9d4676e324e50b74e2ad44b6e51ad",
       "IPY_MODEL_914f593bc83a4d4793d883973775896a",
       "IPY_MODEL_d37da8f1637544e88236fee004d6098d"
      ],
      "layout": "IPY_MODEL_aa837b5b3ac54b3f8cdb69bfc1858d25"
     }
    },
    "b79961aa7c7b4b00b8de52f254219d21": {
     "model_module": "@jupyter-widgets/controls",
     "model_module_version": "1.5.0",
     "model_name": "HBoxModel",
     "state": {
      "_dom_classes": [],
      "_model_module": "@jupyter-widgets/controls",
      "_model_module_version": "1.5.0",
      "_model_name": "HBoxModel",
      "_view_count": null,
      "_view_module": "@jupyter-widgets/controls",
      "_view_module_version": "1.5.0",
      "_view_name": "HBoxView",
      "box_style": "",
      "children": [
       "IPY_MODEL_f3aaac7498134860ade91775d93e49d0",
       "IPY_MODEL_5715e691d8174bc0b3b42bf811dec24c",
       "IPY_MODEL_a8e6d6356ffe43daacb01251fc6a51d1"
      ],
      "layout": "IPY_MODEL_084bea763369486b8d6f8aa74e0b54cf"
     }
    },
    "b7bbfe2435c7440586841683184a75cf": {
     "model_module": "@jupyter-widgets/base",
     "model_module_version": "1.2.0",
     "model_name": "LayoutModel",
     "state": {
      "_model_module": "@jupyter-widgets/base",
      "_model_module_version": "1.2.0",
      "_model_name": "LayoutModel",
      "_view_count": null,
      "_view_module": "@jupyter-widgets/base",
      "_view_module_version": "1.2.0",
      "_view_name": "LayoutView",
      "align_content": null,
      "align_items": null,
      "align_self": null,
      "border": null,
      "bottom": null,
      "display": null,
      "flex": null,
      "flex_flow": null,
      "grid_area": null,
      "grid_auto_columns": null,
      "grid_auto_flow": null,
      "grid_auto_rows": null,
      "grid_column": null,
      "grid_gap": null,
      "grid_row": null,
      "grid_template_areas": null,
      "grid_template_columns": null,
      "grid_template_rows": null,
      "height": null,
      "justify_content": null,
      "justify_items": null,
      "left": null,
      "margin": null,
      "max_height": null,
      "max_width": null,
      "min_height": null,
      "min_width": null,
      "object_fit": null,
      "object_position": null,
      "order": null,
      "overflow": null,
      "overflow_x": null,
      "overflow_y": null,
      "padding": null,
      "right": null,
      "top": null,
      "visibility": null,
      "width": null
     }
    },
    "be5ac49942fb49bd955d55e52d2a978e": {
     "model_module": "@jupyter-widgets/controls",
     "model_module_version": "1.5.0",
     "model_name": "DescriptionStyleModel",
     "state": {
      "_model_module": "@jupyter-widgets/controls",
      "_model_module_version": "1.5.0",
      "_model_name": "DescriptionStyleModel",
      "_view_count": null,
      "_view_module": "@jupyter-widgets/base",
      "_view_module_version": "1.2.0",
      "_view_name": "StyleView",
      "description_width": ""
     }
    },
    "bfac11eae71b49c08c33c7a15a1b51c7": {
     "model_module": "@jupyter-widgets/base",
     "model_module_version": "1.2.0",
     "model_name": "LayoutModel",
     "state": {
      "_model_module": "@jupyter-widgets/base",
      "_model_module_version": "1.2.0",
      "_model_name": "LayoutModel",
      "_view_count": null,
      "_view_module": "@jupyter-widgets/base",
      "_view_module_version": "1.2.0",
      "_view_name": "LayoutView",
      "align_content": null,
      "align_items": null,
      "align_self": null,
      "border": null,
      "bottom": null,
      "display": null,
      "flex": null,
      "flex_flow": null,
      "grid_area": null,
      "grid_auto_columns": null,
      "grid_auto_flow": null,
      "grid_auto_rows": null,
      "grid_column": null,
      "grid_gap": null,
      "grid_row": null,
      "grid_template_areas": null,
      "grid_template_columns": null,
      "grid_template_rows": null,
      "height": null,
      "justify_content": null,
      "justify_items": null,
      "left": null,
      "margin": null,
      "max_height": null,
      "max_width": null,
      "min_height": null,
      "min_width": null,
      "object_fit": null,
      "object_position": null,
      "order": null,
      "overflow": null,
      "overflow_x": null,
      "overflow_y": null,
      "padding": null,
      "right": null,
      "top": null,
      "visibility": null,
      "width": null
     }
    },
    "c16088932d1d48d396afecaa60a655d5": {
     "model_module": "@jupyter-widgets/base",
     "model_module_version": "1.2.0",
     "model_name": "LayoutModel",
     "state": {
      "_model_module": "@jupyter-widgets/base",
      "_model_module_version": "1.2.0",
      "_model_name": "LayoutModel",
      "_view_count": null,
      "_view_module": "@jupyter-widgets/base",
      "_view_module_version": "1.2.0",
      "_view_name": "LayoutView",
      "align_content": null,
      "align_items": null,
      "align_self": null,
      "border": null,
      "bottom": null,
      "display": null,
      "flex": null,
      "flex_flow": null,
      "grid_area": null,
      "grid_auto_columns": null,
      "grid_auto_flow": null,
      "grid_auto_rows": null,
      "grid_column": null,
      "grid_gap": null,
      "grid_row": null,
      "grid_template_areas": null,
      "grid_template_columns": null,
      "grid_template_rows": null,
      "height": null,
      "justify_content": null,
      "justify_items": null,
      "left": null,
      "margin": null,
      "max_height": null,
      "max_width": null,
      "min_height": null,
      "min_width": null,
      "object_fit": null,
      "object_position": null,
      "order": null,
      "overflow": null,
      "overflow_x": null,
      "overflow_y": null,
      "padding": null,
      "right": null,
      "top": null,
      "visibility": null,
      "width": null
     }
    },
    "c7a2a57e72b04ac9b5859f492c6e9477": {
     "model_module": "@jupyter-widgets/base",
     "model_module_version": "1.2.0",
     "model_name": "LayoutModel",
     "state": {
      "_model_module": "@jupyter-widgets/base",
      "_model_module_version": "1.2.0",
      "_model_name": "LayoutModel",
      "_view_count": null,
      "_view_module": "@jupyter-widgets/base",
      "_view_module_version": "1.2.0",
      "_view_name": "LayoutView",
      "align_content": null,
      "align_items": null,
      "align_self": null,
      "border": null,
      "bottom": null,
      "display": null,
      "flex": null,
      "flex_flow": null,
      "grid_area": null,
      "grid_auto_columns": null,
      "grid_auto_flow": null,
      "grid_auto_rows": null,
      "grid_column": null,
      "grid_gap": null,
      "grid_row": null,
      "grid_template_areas": null,
      "grid_template_columns": null,
      "grid_template_rows": null,
      "height": null,
      "justify_content": null,
      "justify_items": null,
      "left": null,
      "margin": null,
      "max_height": null,
      "max_width": null,
      "min_height": null,
      "min_width": null,
      "object_fit": null,
      "object_position": null,
      "order": null,
      "overflow": null,
      "overflow_x": null,
      "overflow_y": null,
      "padding": null,
      "right": null,
      "top": null,
      "visibility": null,
      "width": null
     }
    },
    "d13e987470ee4679bbaef8b8f9b46c54": {
     "model_module": "@jupyter-widgets/base",
     "model_module_version": "1.2.0",
     "model_name": "LayoutModel",
     "state": {
      "_model_module": "@jupyter-widgets/base",
      "_model_module_version": "1.2.0",
      "_model_name": "LayoutModel",
      "_view_count": null,
      "_view_module": "@jupyter-widgets/base",
      "_view_module_version": "1.2.0",
      "_view_name": "LayoutView",
      "align_content": null,
      "align_items": null,
      "align_self": null,
      "border": null,
      "bottom": null,
      "display": null,
      "flex": null,
      "flex_flow": null,
      "grid_area": null,
      "grid_auto_columns": null,
      "grid_auto_flow": null,
      "grid_auto_rows": null,
      "grid_column": null,
      "grid_gap": null,
      "grid_row": null,
      "grid_template_areas": null,
      "grid_template_columns": null,
      "grid_template_rows": null,
      "height": null,
      "justify_content": null,
      "justify_items": null,
      "left": null,
      "margin": null,
      "max_height": null,
      "max_width": null,
      "min_height": null,
      "min_width": null,
      "object_fit": null,
      "object_position": null,
      "order": null,
      "overflow": null,
      "overflow_x": null,
      "overflow_y": null,
      "padding": null,
      "right": null,
      "top": null,
      "visibility": null,
      "width": null
     }
    },
    "d360ab93d5e841b2aabd156871098e32": {
     "model_module": "@jupyter-widgets/base",
     "model_module_version": "1.2.0",
     "model_name": "LayoutModel",
     "state": {
      "_model_module": "@jupyter-widgets/base",
      "_model_module_version": "1.2.0",
      "_model_name": "LayoutModel",
      "_view_count": null,
      "_view_module": "@jupyter-widgets/base",
      "_view_module_version": "1.2.0",
      "_view_name": "LayoutView",
      "align_content": null,
      "align_items": null,
      "align_self": null,
      "border": null,
      "bottom": null,
      "display": null,
      "flex": null,
      "flex_flow": null,
      "grid_area": null,
      "grid_auto_columns": null,
      "grid_auto_flow": null,
      "grid_auto_rows": null,
      "grid_column": null,
      "grid_gap": null,
      "grid_row": null,
      "grid_template_areas": null,
      "grid_template_columns": null,
      "grid_template_rows": null,
      "height": null,
      "justify_content": null,
      "justify_items": null,
      "left": null,
      "margin": null,
      "max_height": null,
      "max_width": null,
      "min_height": null,
      "min_width": null,
      "object_fit": null,
      "object_position": null,
      "order": null,
      "overflow": null,
      "overflow_x": null,
      "overflow_y": null,
      "padding": null,
      "right": null,
      "top": null,
      "visibility": null,
      "width": null
     }
    },
    "d37da8f1637544e88236fee004d6098d": {
     "model_module": "@jupyter-widgets/controls",
     "model_module_version": "1.5.0",
     "model_name": "HTMLModel",
     "state": {
      "_dom_classes": [],
      "_model_module": "@jupyter-widgets/controls",
      "_model_module_version": "1.5.0",
      "_model_name": "HTMLModel",
      "_view_count": null,
      "_view_module": "@jupyter-widgets/controls",
      "_view_module_version": "1.5.0",
      "_view_name": "HTMLView",
      "description": "",
      "description_tooltip": null,
      "layout": "IPY_MODEL_f45e31b0b1a94124a9838b108a342041",
      "placeholder": "​",
      "style": "IPY_MODEL_439411774580427cad503cd3ade10759",
      "value": " 416k/416k [00:00&lt;00:00, 624kB/s]"
     }
    },
    "d3d97d254ab9450dbff7305f007cc553": {
     "model_module": "@jupyter-widgets/controls",
     "model_module_version": "1.5.0",
     "model_name": "DescriptionStyleModel",
     "state": {
      "_model_module": "@jupyter-widgets/controls",
      "_model_module_version": "1.5.0",
      "_model_name": "DescriptionStyleModel",
      "_view_count": null,
      "_view_module": "@jupyter-widgets/base",
      "_view_module_version": "1.2.0",
      "_view_name": "StyleView",
      "description_width": ""
     }
    },
    "d5402eda9eb945b2979ab375afacce8e": {
     "model_module": "@jupyter-widgets/base",
     "model_module_version": "1.2.0",
     "model_name": "LayoutModel",
     "state": {
      "_model_module": "@jupyter-widgets/base",
      "_model_module_version": "1.2.0",
      "_model_name": "LayoutModel",
      "_view_count": null,
      "_view_module": "@jupyter-widgets/base",
      "_view_module_version": "1.2.0",
      "_view_name": "LayoutView",
      "align_content": null,
      "align_items": null,
      "align_self": null,
      "border": null,
      "bottom": null,
      "display": null,
      "flex": null,
      "flex_flow": null,
      "grid_area": null,
      "grid_auto_columns": null,
      "grid_auto_flow": null,
      "grid_auto_rows": null,
      "grid_column": null,
      "grid_gap": null,
      "grid_row": null,
      "grid_template_areas": null,
      "grid_template_columns": null,
      "grid_template_rows": null,
      "height": null,
      "justify_content": null,
      "justify_items": null,
      "left": null,
      "margin": null,
      "max_height": null,
      "max_width": null,
      "min_height": null,
      "min_width": null,
      "object_fit": null,
      "object_position": null,
      "order": null,
      "overflow": null,
      "overflow_x": null,
      "overflow_y": null,
      "padding": null,
      "right": null,
      "top": null,
      "visibility": null,
      "width": null
     }
    },
    "d639a95224124e54b85eab7623d546f2": {
     "model_module": "@jupyter-widgets/base",
     "model_module_version": "1.2.0",
     "model_name": "LayoutModel",
     "state": {
      "_model_module": "@jupyter-widgets/base",
      "_model_module_version": "1.2.0",
      "_model_name": "LayoutModel",
      "_view_count": null,
      "_view_module": "@jupyter-widgets/base",
      "_view_module_version": "1.2.0",
      "_view_name": "LayoutView",
      "align_content": null,
      "align_items": null,
      "align_self": null,
      "border": null,
      "bottom": null,
      "display": null,
      "flex": null,
      "flex_flow": null,
      "grid_area": null,
      "grid_auto_columns": null,
      "grid_auto_flow": null,
      "grid_auto_rows": null,
      "grid_column": null,
      "grid_gap": null,
      "grid_row": null,
      "grid_template_areas": null,
      "grid_template_columns": null,
      "grid_template_rows": null,
      "height": null,
      "justify_content": null,
      "justify_items": null,
      "left": null,
      "margin": null,
      "max_height": null,
      "max_width": null,
      "min_height": null,
      "min_width": null,
      "object_fit": null,
      "object_position": null,
      "order": null,
      "overflow": null,
      "overflow_x": null,
      "overflow_y": null,
      "padding": null,
      "right": null,
      "top": null,
      "visibility": null,
      "width": null
     }
    },
    "eaae45020b6b44b6bba6e96c5d17b9a9": {
     "model_module": "@jupyter-widgets/base",
     "model_module_version": "1.2.0",
     "model_name": "LayoutModel",
     "state": {
      "_model_module": "@jupyter-widgets/base",
      "_model_module_version": "1.2.0",
      "_model_name": "LayoutModel",
      "_view_count": null,
      "_view_module": "@jupyter-widgets/base",
      "_view_module_version": "1.2.0",
      "_view_name": "LayoutView",
      "align_content": null,
      "align_items": null,
      "align_self": null,
      "border": null,
      "bottom": null,
      "display": null,
      "flex": null,
      "flex_flow": null,
      "grid_area": null,
      "grid_auto_columns": null,
      "grid_auto_flow": null,
      "grid_auto_rows": null,
      "grid_column": null,
      "grid_gap": null,
      "grid_row": null,
      "grid_template_areas": null,
      "grid_template_columns": null,
      "grid_template_rows": null,
      "height": null,
      "justify_content": null,
      "justify_items": null,
      "left": null,
      "margin": null,
      "max_height": null,
      "max_width": null,
      "min_height": null,
      "min_width": null,
      "object_fit": null,
      "object_position": null,
      "order": null,
      "overflow": null,
      "overflow_x": null,
      "overflow_y": null,
      "padding": null,
      "right": null,
      "top": null,
      "visibility": null,
      "width": null
     }
    },
    "ec3c8b246b21468893a4f56c8c761156": {
     "model_module": "@jupyter-widgets/base",
     "model_module_version": "1.2.0",
     "model_name": "LayoutModel",
     "state": {
      "_model_module": "@jupyter-widgets/base",
      "_model_module_version": "1.2.0",
      "_model_name": "LayoutModel",
      "_view_count": null,
      "_view_module": "@jupyter-widgets/base",
      "_view_module_version": "1.2.0",
      "_view_name": "LayoutView",
      "align_content": null,
      "align_items": null,
      "align_self": null,
      "border": null,
      "bottom": null,
      "display": null,
      "flex": null,
      "flex_flow": null,
      "grid_area": null,
      "grid_auto_columns": null,
      "grid_auto_flow": null,
      "grid_auto_rows": null,
      "grid_column": null,
      "grid_gap": null,
      "grid_row": null,
      "grid_template_areas": null,
      "grid_template_columns": null,
      "grid_template_rows": null,
      "height": null,
      "justify_content": null,
      "justify_items": null,
      "left": null,
      "margin": null,
      "max_height": null,
      "max_width": null,
      "min_height": null,
      "min_width": null,
      "object_fit": null,
      "object_position": null,
      "order": null,
      "overflow": null,
      "overflow_x": null,
      "overflow_y": null,
      "padding": null,
      "right": null,
      "top": null,
      "visibility": null,
      "width": null
     }
    },
    "ee7d623c0cec43cda9effd6f4f4896be": {
     "model_module": "@jupyter-widgets/controls",
     "model_module_version": "1.5.0",
     "model_name": "ProgressStyleModel",
     "state": {
      "_model_module": "@jupyter-widgets/controls",
      "_model_module_version": "1.5.0",
      "_model_name": "ProgressStyleModel",
      "_view_count": null,
      "_view_module": "@jupyter-widgets/base",
      "_view_module_version": "1.2.0",
      "_view_name": "StyleView",
      "bar_color": null,
      "description_width": ""
     }
    },
    "f3aaac7498134860ade91775d93e49d0": {
     "model_module": "@jupyter-widgets/controls",
     "model_module_version": "1.5.0",
     "model_name": "HTMLModel",
     "state": {
      "_dom_classes": [],
      "_model_module": "@jupyter-widgets/controls",
      "_model_module_version": "1.5.0",
      "_model_name": "HTMLModel",
      "_view_count": null,
      "_view_module": "@jupyter-widgets/controls",
      "_view_module_version": "1.5.0",
      "_view_name": "HTMLView",
      "description": "",
      "description_tooltip": null,
      "layout": "IPY_MODEL_36017e6ebf644e399a868858b958fe54",
      "placeholder": "​",
      "style": "IPY_MODEL_6b555794ff9f413e883ab97ca7a27100",
      "value": "Downloading: 100%"
     }
    },
    "f45e31b0b1a94124a9838b108a342041": {
     "model_module": "@jupyter-widgets/base",
     "model_module_version": "1.2.0",
     "model_name": "LayoutModel",
     "state": {
      "_model_module": "@jupyter-widgets/base",
      "_model_module_version": "1.2.0",
      "_model_name": "LayoutModel",
      "_view_count": null,
      "_view_module": "@jupyter-widgets/base",
      "_view_module_version": "1.2.0",
      "_view_name": "LayoutView",
      "align_content": null,
      "align_items": null,
      "align_self": null,
      "border": null,
      "bottom": null,
      "display": null,
      "flex": null,
      "flex_flow": null,
      "grid_area": null,
      "grid_auto_columns": null,
      "grid_auto_flow": null,
      "grid_auto_rows": null,
      "grid_column": null,
      "grid_gap": null,
      "grid_row": null,
      "grid_template_areas": null,
      "grid_template_columns": null,
      "grid_template_rows": null,
      "height": null,
      "justify_content": null,
      "justify_items": null,
      "left": null,
      "margin": null,
      "max_height": null,
      "max_width": null,
      "min_height": null,
      "min_width": null,
      "object_fit": null,
      "object_position": null,
      "order": null,
      "overflow": null,
      "overflow_x": null,
      "overflow_y": null,
      "padding": null,
      "right": null,
      "top": null,
      "visibility": null,
      "width": null
     }
    },
    "f80a30a7985e4c1da5af22194404c6ac": {
     "model_module": "@jupyter-widgets/base",
     "model_module_version": "1.2.0",
     "model_name": "LayoutModel",
     "state": {
      "_model_module": "@jupyter-widgets/base",
      "_model_module_version": "1.2.0",
      "_model_name": "LayoutModel",
      "_view_count": null,
      "_view_module": "@jupyter-widgets/base",
      "_view_module_version": "1.2.0",
      "_view_name": "LayoutView",
      "align_content": null,
      "align_items": null,
      "align_self": null,
      "border": null,
      "bottom": null,
      "display": null,
      "flex": null,
      "flex_flow": null,
      "grid_area": null,
      "grid_auto_columns": null,
      "grid_auto_flow": null,
      "grid_auto_rows": null,
      "grid_column": null,
      "grid_gap": null,
      "grid_row": null,
      "grid_template_areas": null,
      "grid_template_columns": null,
      "grid_template_rows": null,
      "height": null,
      "justify_content": null,
      "justify_items": null,
      "left": null,
      "margin": null,
      "max_height": null,
      "max_width": null,
      "min_height": null,
      "min_width": null,
      "object_fit": null,
      "object_position": null,
      "order": null,
      "overflow": null,
      "overflow_x": null,
      "overflow_y": null,
      "padding": null,
      "right": null,
      "top": null,
      "visibility": null,
      "width": null
     }
    },
    "f9d99756bd774e43b7a2e6bdbf276f07": {
     "model_module": "@jupyter-widgets/controls",
     "model_module_version": "1.5.0",
     "model_name": "HTMLModel",
     "state": {
      "_dom_classes": [],
      "_model_module": "@jupyter-widgets/controls",
      "_model_module_version": "1.5.0",
      "_model_name": "HTMLModel",
      "_view_count": null,
      "_view_module": "@jupyter-widgets/controls",
      "_view_module_version": "1.5.0",
      "_view_name": "HTMLView",
      "description": "",
      "description_tooltip": null,
      "layout": "IPY_MODEL_9adf9a900886455ab3c1199980181b1a",
      "placeholder": "​",
      "style": "IPY_MODEL_fa0f7dd6d871421c9a617506ee144a4e",
      "value": " 134/134 [00:00&lt;00:00, 899B/s]"
     }
    },
    "fa0f7dd6d871421c9a617506ee144a4e": {
     "model_module": "@jupyter-widgets/controls",
     "model_module_version": "1.5.0",
     "model_name": "DescriptionStyleModel",
     "state": {
      "_model_module": "@jupyter-widgets/controls",
      "_model_module_version": "1.5.0",
      "_model_name": "DescriptionStyleModel",
      "_view_count": null,
      "_view_module": "@jupyter-widgets/base",
      "_view_module_version": "1.2.0",
      "_view_name": "StyleView",
      "description_width": ""
     }
    }
   }
  }
 },
 "nbformat": 4,
 "nbformat_minor": 5
}
