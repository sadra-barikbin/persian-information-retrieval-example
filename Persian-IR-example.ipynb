{
  "cells": [
    {
      "cell_type": "markdown",
      "metadata": {
        "id": "view-in-github",
        "colab_type": "text"
      },
      "source": [
        "<a href=\"https://colab.research.google.com/github/sadra-barikbin/persian-information-retrieval-example/blob/main/Persian-IR-example.ipynb\" target=\"_parent\"><img src=\"https://colab.research.google.com/assets/colab-badge.svg\" alt=\"Open In Colab\"/></a>"
      ]
    },
    {
      "cell_type": "markdown",
      "id": "innovative-letter",
      "metadata": {
        "id": "innovative-letter"
      },
      "source": [
        "# Setup"
      ]
    },
    {
      "cell_type": "code",
      "source": [
        "!pip install hazm transformers ir_measures\n",
        "!pip install -q clean-text[gpl]"
      ],
      "metadata": {
        "id": "S6JCv2ZVCX4u"
      },
      "id": "S6JCv2ZVCX4u",
      "execution_count": null,
      "outputs": []
    },
    {
      "cell_type": "code",
      "execution_count": 61,
      "id": "civic-birth",
      "metadata": {
        "id": "civic-birth"
      },
      "outputs": [],
      "source": [
        "import torch\n",
        "import yaml\n",
        "import hazm\n",
        "import numpy as np\n",
        "import pandas as pd\n",
        "import ir_measures as IRm\n",
        "from typing import List, Tuple\n",
        "from pathlib import Path\n",
        "from sklearn.metrics import make_scorer, average_precision_score\n",
        "from sklearn.metrics.pairwise import cosine_similarity\n",
        "from sklearn.feature_extraction.text import TfidfVectorizer\n",
        "from sklearn.neighbors import NearestNeighbors\n",
        "from sklearn.pipeline import Pipeline\n",
        "from sklearn.base import BaseEstimator, TransformerMixin\n",
        "from transformers import AutoTokenizer, AutoModelForMaskedLM"
      ]
    },
    {
      "cell_type": "markdown",
      "source": [
        "# Loading & Preparing Data"
      ],
      "metadata": {
        "id": "URH-AirBjcrL"
      },
      "id": "URH-AirBjcrL"
    },
    {
      "cell_type": "markdown",
      "source": [
        "## Corpus"
      ],
      "metadata": {
        "id": "cWjISsLTPtqw"
      },
      "id": "cWjISsLTPtqw"
    },
    {
      "cell_type": "code",
      "source": [
        "!wget https://github.com/language-ml/2-LM-embedding-projects/raw/main/problem3/doc_collection.zip"
      ],
      "metadata": {
        "id": "cX9FwdFUjfkj"
      },
      "id": "cX9FwdFUjfkj",
      "execution_count": null,
      "outputs": []
    },
    {
      "cell_type": "code",
      "source": [
        "!unzip doc_collection.zip"
      ],
      "metadata": {
        "id": "AHXJRwbKk8mK"
      },
      "id": "AHXJRwbKk8mK",
      "execution_count": null,
      "outputs": []
    },
    {
      "cell_type": "code",
      "source": [
        "!cat IR_dataset/1000.txt"
      ],
      "metadata": {
        "colab": {
          "base_uri": "https://localhost:8080/"
        },
        "id": "9YX2f4_plKLa",
        "outputId": "9de0756a-9988-4955-e678-a36f70488961"
      },
      "id": "9YX2f4_plKLa",
      "execution_count": 64,
      "outputs": [
        {
          "output_type": "stream",
          "name": "stdout",
          "text": [
            "ببر سیبری که با نام‌های ببر آلتایی، ببر منچوری، ببر کره‌ای، ببر آمور و ببر اوسوری نیز شناخته می‌شود، یکی از زیرگونه‌های ببر است که در گذشته در بخش‌های وسیعی از شرق آسیا می‌زیست اما امروزه تنها در منطقهٔ حفاظت شده‌ای در شرق سیبری زندگی می‌کند. ببر سیبری بزرگترین زیرگونهٔ ببر و بزرگترین گربه‌سان زندهٔ جهان است. ببر منقرض شده مازندران نزدیک‌ترین زیرگونه ببر به ببر سیبری است و مطالعات ژنتیکی جدید حکایت از آن دارد که این دو را حتی می‌توان یک زیرگونه محسوب کرد.\n",
            "\n",
            "ببر سیبری در دهه ۱۹۳۰ در آستانه انقراض قرار داشت و تعداد آن‌ها تنها به بیست تا سی ببر کاهش یافته بود. اما این حیوان به طرزی باورنکردنی از انقراض قریب‌الوقوع رهایی جست و جمعیت آن تا سال ۲۰۱۰ به حدود ۳۶۰ ببر رسید. ببر سیبری با توجه به همین افزایش جمعیت از سال ۲۰۱۰ از بالاترین ردهٔ حفاظتی یعنی «به شدت در معرض خطر» خارج شده و در یک رده پایین‌تر یعنی «در خطر انقراض» قرار گرفته است. ببرهای سیبری تنوع ژنتیکی بسیار پائینی دارند که این به دلیل کاهش شدید جمعیت این حیوان در دهه ۱۹۴۰ و تعداد اندک توله ببرهایی است که به بلوغ می‌رسند. ضمن اینکه بیشتر از ۹۰ درصد ببرهای سیبری در منطقه کوهستانی سیخوته آلین زندگی می‌کنند و تبادل ژنتیکی اندکی با گروه‌های کوچکتر ببر سیبری در جنوب غربی استان پریموری دارند.\n",
            "\n",
            "تازه‌ترین مطالعات ژنتیکی بر روی میتوکندری دی‌ان‌ای به جای مانده از ببرهای هیرکانی و نمونه‌های زنده ببر سیبری نشان داده که نیایِ مشترک این دو نوع ببر در شرق چین می‌زیسته و سپس از مسیر راه ابریشم-گانسو وارد آسیای میانه شده و بعداً گروهی از آن‌ها به سوی شرق سیبری و اطراف رود آمور رفته و ببر سیبری امروزین را شکل داده‌اند.\n",
            "\n",
            "محل سکونت ببرهای سیبری در قسمت جنوبی شمال شرق روسیه در کنار رودخانه آمور و مرز روسیه با چین و کره شمالی است. تعداد کمی از ببر سیبری در چین هم سکونت دارند اما این جمعیت کوچک نمی‌تواند مستقل از جمعیت روسی به حیات خود ادامه دهد. یعنی بقای این ببرها در چین وابسته به جابجایی ببرها در طول مرز چین و روسیه است. مشخص نیست که آیا هنوز هم این ببر در کره شمالی حضور دارد یا در آن‌جا کاملاً منقرض شده‌است.\n",
            "\n",
            "ببر سیبری حیوانی قلمروطلب است و قلمروهای بسیار وسیعی را به خود اختصاص می‌دهد. قلمرو ببرهای نر سیبری تا چهار هزار مایل مربع هم گزارش شده‌است. اما اغلب و به طور میانگین قلمرویی تا حدود ۶۰۰ تا ۱۰۸۰ مایل مربع (۱۵۵۴ تا ۲۷۹۷ کیلومتر مربع) را قلمرو خود قرار می‌دهند و قلمرو ببرهای ماده نیز کمی کوچکتر ار آن می‌باشد."
          ]
        }
      ]
    },
    {
      "cell_type": "code",
      "source": [
        "corpus = [(int(path.stem), path.open().read()) for path in Path('IR_dataset').iterdir()]\n",
        "corpus = pd.DataFrame(corpus, columns=['docId','text']).set_index('docId').sort_index()"
      ],
      "metadata": {
        "id": "Yr2uuva8lt2R"
      },
      "id": "Yr2uuva8lt2R",
      "execution_count": 65,
      "outputs": []
    },
    {
      "cell_type": "code",
      "source": [
        "ccorpus = [(int(path.stem), path.open().read()) for path in Path('IR_dataset').iterdir()]"
      ],
      "metadata": {
        "id": "hXmMh6rU2rfi"
      },
      "id": "hXmMh6rU2rfi",
      "execution_count": 66,
      "outputs": []
    },
    {
      "cell_type": "code",
      "source": [
        "corpus.head()"
      ],
      "metadata": {
        "id": "em6lACkLggoq",
        "outputId": "8282aa2b-4863-4efa-fd9d-49ff83053851",
        "colab": {
          "base_uri": "https://localhost:8080/",
          "height": 237
        }
      },
      "id": "em6lACkLggoq",
      "execution_count": 67,
      "outputs": [
        {
          "output_type": "execute_result",
          "data": {
            "text/html": [
              "\n",
              "  <div id=\"df-9818dfd6-9d64-4168-a6a9-a8418cef03c8\">\n",
              "    <div class=\"colab-df-container\">\n",
              "      <div>\n",
              "<style scoped>\n",
              "    .dataframe tbody tr th:only-of-type {\n",
              "        vertical-align: middle;\n",
              "    }\n",
              "\n",
              "    .dataframe tbody tr th {\n",
              "        vertical-align: top;\n",
              "    }\n",
              "\n",
              "    .dataframe thead th {\n",
              "        text-align: right;\n",
              "    }\n",
              "</style>\n",
              "<table border=\"1\" class=\"dataframe\">\n",
              "  <thead>\n",
              "    <tr style=\"text-align: right;\">\n",
              "      <th></th>\n",
              "      <th>text</th>\n",
              "    </tr>\n",
              "    <tr>\n",
              "      <th>docId</th>\n",
              "      <th></th>\n",
              "    </tr>\n",
              "  </thead>\n",
              "  <tbody>\n",
              "    <tr>\n",
              "      <th>0</th>\n",
              "      <td>برخی از هواداران مصدق یا اعضای جبهه ملی که در ...</td>\n",
              "    </tr>\n",
              "    <tr>\n",
              "      <th>1</th>\n",
              "      <td>جبهه ملی ایران که به اختصار جبهه ملی نیز خواند...</td>\n",
              "    </tr>\n",
              "    <tr>\n",
              "      <th>2</th>\n",
              "      <td>سرلشکر زاهدی در سال ۱۳۲۸ و پس از آن‌که دخالت‌ه...</td>\n",
              "    </tr>\n",
              "    <tr>\n",
              "      <th>3</th>\n",
              "      <td>نمایندگان طرفدار مصدق در حمایت از ابقای دولت و...</td>\n",
              "    </tr>\n",
              "    <tr>\n",
              "      <th>4</th>\n",
              "      <td>نمایندگان طرفدار مصدق در حمایت از ابقای دولت و...</td>\n",
              "    </tr>\n",
              "  </tbody>\n",
              "</table>\n",
              "</div>\n",
              "      <button class=\"colab-df-convert\" onclick=\"convertToInteractive('df-9818dfd6-9d64-4168-a6a9-a8418cef03c8')\"\n",
              "              title=\"Convert this dataframe to an interactive table.\"\n",
              "              style=\"display:none;\">\n",
              "        \n",
              "  <svg xmlns=\"http://www.w3.org/2000/svg\" height=\"24px\"viewBox=\"0 0 24 24\"\n",
              "       width=\"24px\">\n",
              "    <path d=\"M0 0h24v24H0V0z\" fill=\"none\"/>\n",
              "    <path d=\"M18.56 5.44l.94 2.06.94-2.06 2.06-.94-2.06-.94-.94-2.06-.94 2.06-2.06.94zm-11 1L8.5 8.5l.94-2.06 2.06-.94-2.06-.94L8.5 2.5l-.94 2.06-2.06.94zm10 10l.94 2.06.94-2.06 2.06-.94-2.06-.94-.94-2.06-.94 2.06-2.06.94z\"/><path d=\"M17.41 7.96l-1.37-1.37c-.4-.4-.92-.59-1.43-.59-.52 0-1.04.2-1.43.59L10.3 9.45l-7.72 7.72c-.78.78-.78 2.05 0 2.83L4 21.41c.39.39.9.59 1.41.59.51 0 1.02-.2 1.41-.59l7.78-7.78 2.81-2.81c.8-.78.8-2.07 0-2.86zM5.41 20L4 18.59l7.72-7.72 1.47 1.35L5.41 20z\"/>\n",
              "  </svg>\n",
              "      </button>\n",
              "      \n",
              "  <style>\n",
              "    .colab-df-container {\n",
              "      display:flex;\n",
              "      flex-wrap:wrap;\n",
              "      gap: 12px;\n",
              "    }\n",
              "\n",
              "    .colab-df-convert {\n",
              "      background-color: #E8F0FE;\n",
              "      border: none;\n",
              "      border-radius: 50%;\n",
              "      cursor: pointer;\n",
              "      display: none;\n",
              "      fill: #1967D2;\n",
              "      height: 32px;\n",
              "      padding: 0 0 0 0;\n",
              "      width: 32px;\n",
              "    }\n",
              "\n",
              "    .colab-df-convert:hover {\n",
              "      background-color: #E2EBFA;\n",
              "      box-shadow: 0px 1px 2px rgba(60, 64, 67, 0.3), 0px 1px 3px 1px rgba(60, 64, 67, 0.15);\n",
              "      fill: #174EA6;\n",
              "    }\n",
              "\n",
              "    [theme=dark] .colab-df-convert {\n",
              "      background-color: #3B4455;\n",
              "      fill: #D2E3FC;\n",
              "    }\n",
              "\n",
              "    [theme=dark] .colab-df-convert:hover {\n",
              "      background-color: #434B5C;\n",
              "      box-shadow: 0px 1px 3px 1px rgba(0, 0, 0, 0.15);\n",
              "      filter: drop-shadow(0px 1px 2px rgba(0, 0, 0, 0.3));\n",
              "      fill: #FFFFFF;\n",
              "    }\n",
              "  </style>\n",
              "\n",
              "      <script>\n",
              "        const buttonEl =\n",
              "          document.querySelector('#df-9818dfd6-9d64-4168-a6a9-a8418cef03c8 button.colab-df-convert');\n",
              "        buttonEl.style.display =\n",
              "          google.colab.kernel.accessAllowed ? 'block' : 'none';\n",
              "\n",
              "        async function convertToInteractive(key) {\n",
              "          const element = document.querySelector('#df-9818dfd6-9d64-4168-a6a9-a8418cef03c8');\n",
              "          const dataTable =\n",
              "            await google.colab.kernel.invokeFunction('convertToInteractive',\n",
              "                                                     [key], {});\n",
              "          if (!dataTable) return;\n",
              "\n",
              "          const docLinkHtml = 'Like what you see? Visit the ' +\n",
              "            '<a target=\"_blank\" href=https://colab.research.google.com/notebooks/data_table.ipynb>data table notebook</a>'\n",
              "            + ' to learn more about interactive tables.';\n",
              "          element.innerHTML = '';\n",
              "          dataTable['output_type'] = 'display_data';\n",
              "          await google.colab.output.renderOutput(dataTable, element);\n",
              "          const docLink = document.createElement('div');\n",
              "          docLink.innerHTML = docLinkHtml;\n",
              "          element.appendChild(docLink);\n",
              "        }\n",
              "      </script>\n",
              "    </div>\n",
              "  </div>\n",
              "  "
            ],
            "text/plain": [
              "                                                    text\n",
              "docId                                                   \n",
              "0      برخی از هواداران مصدق یا اعضای جبهه ملی که در ...\n",
              "1      جبهه ملی ایران که به اختصار جبهه ملی نیز خواند...\n",
              "2      سرلشکر زاهدی در سال ۱۳۲۸ و پس از آن‌که دخالت‌ه...\n",
              "3      نمایندگان طرفدار مصدق در حمایت از ابقای دولت و...\n",
              "4      نمایندگان طرفدار مصدق در حمایت از ابقای دولت و..."
            ]
          },
          "metadata": {},
          "execution_count": 67
        }
      ]
    },
    {
      "cell_type": "markdown",
      "source": [
        "## Qrels"
      ],
      "metadata": {
        "id": "YovdZ4crPwmk"
      },
      "id": "YovdZ4crPwmk"
    },
    {
      "cell_type": "code",
      "source": [
        "!wget https://raw.githubusercontent.com/language-ml/2-LM-embedding-projects/main/problem3/evaluation_IR.yml"
      ],
      "metadata": {
        "colab": {
          "base_uri": "https://localhost:8080/"
        },
        "id": "qxLS7matqWct",
        "outputId": "bf732fff-14ed-43e0-e0ac-48430df561dc"
      },
      "id": "qxLS7matqWct",
      "execution_count": 68,
      "outputs": [
        {
          "output_type": "stream",
          "name": "stdout",
          "text": [
            "--2021-12-30 18:10:12--  https://raw.githubusercontent.com/language-ml/2-LM-embedding-projects/main/problem3/evaluation_IR.yml\n",
            "Resolving raw.githubusercontent.com (raw.githubusercontent.com)... 185.199.108.133, 185.199.109.133, 185.199.110.133, ...\n",
            "Connecting to raw.githubusercontent.com (raw.githubusercontent.com)|185.199.108.133|:443... connected.\n",
            "HTTP request sent, awaiting response... 200 OK\n",
            "Length: 50854 (50K) [text/plain]\n",
            "Saving to: ‘evaluation_IR.yml.1’\n",
            "\n",
            "\revaluation_IR.yml.1   0%[                    ]       0  --.-KB/s               \revaluation_IR.yml.1 100%[===================>]  49.66K  --.-KB/s    in 0.01s   \n",
            "\n",
            "2021-12-30 18:10:12 (4.92 MB/s) - ‘evaluation_IR.yml.1’ saved [50854/50854]\n",
            "\n"
          ]
        }
      ]
    },
    {
      "cell_type": "code",
      "source": [
        "query_raw_data = yaml.safe_load(open('evaluation_IR.yml'))"
      ],
      "metadata": {
        "id": "OMzUU5mVqHSg"
      },
      "id": "OMzUU5mVqHSg",
      "execution_count": 69,
      "outputs": []
    },
    {
      "cell_type": "code",
      "source": [
        "query = pd.Series(query_raw_data.keys())\n",
        "qrels = [{'query_id':idx, 'doc_id':d,\n",
        "          'relevance':3} for idx,q in query.to_dict().items() for d in query_raw_data[q]['similar_high']]\n",
        "qrels.extend([{'query_id':idx, 'doc_id':d,\n",
        "          'relevance':2} for idx,q in query.to_dict().items() for d in query_raw_data[q]['similar_med']])\n",
        "qrels.extend([{'query_id':idx, 'doc_id':d,\n",
        "          'relevance':1} for idx,q in query.to_dict().items() for d in query_raw_data[q]['similar_low']])\n",
        "qrels.extend([{'query_id':idx, 'doc_id':query_raw_data[q]['relevant'][0],\n",
        "          'relevance':4} for idx,q in query.to_dict().items()])\n",
        "qrels = pd.DataFrame(qrels)"
      ],
      "metadata": {
        "id": "fMhrz0biMTn1"
      },
      "id": "fMhrz0biMTn1",
      "execution_count": 70,
      "outputs": []
    },
    {
      "cell_type": "code",
      "source": [
        "query[147],query_raw_data[query[147]]"
      ],
      "metadata": {
        "colab": {
          "base_uri": "https://localhost:8080/"
        },
        "id": "Y4TNJYGzE1zp",
        "outputId": "49f8f4c6-5714-4e59-c117-9b7b61896361"
      },
      "id": "Y4TNJYGzE1zp",
      "execution_count": 71,
      "outputs": [
        {
          "output_type": "execute_result",
          "data": {
            "text/plain": [
              "('گرجستان  تاریخ',\n",
              " {'relevant': [388],\n",
              "  'similar_high': [389, 390, 391, 392, 393, 394],\n",
              "  'similar_low': [404, 405, 406, 407, 408, 409, 410, 411, 412, 413],\n",
              "  'similar_med': [395, 364, 396, 397, 398, 399, 400, 401, 402, 403]})"
            ]
          },
          "metadata": {},
          "execution_count": 71
        }
      ]
    },
    {
      "cell_type": "code",
      "source": [
        "qrels.sample(n=5).reset_index(drop=True)"
      ],
      "metadata": {
        "id": "5vr0k3fLgz5J",
        "outputId": "fc47c3cf-f4fa-4832-f048-ce4a74423b13",
        "colab": {
          "base_uri": "https://localhost:8080/",
          "height": 206
        }
      },
      "id": "5vr0k3fLgz5J",
      "execution_count": 72,
      "outputs": [
        {
          "output_type": "execute_result",
          "data": {
            "text/html": [
              "\n",
              "  <div id=\"df-5cdf54e1-dbd2-4b32-9972-9dc8ecfa5b4e\">\n",
              "    <div class=\"colab-df-container\">\n",
              "      <div>\n",
              "<style scoped>\n",
              "    .dataframe tbody tr th:only-of-type {\n",
              "        vertical-align: middle;\n",
              "    }\n",
              "\n",
              "    .dataframe tbody tr th {\n",
              "        vertical-align: top;\n",
              "    }\n",
              "\n",
              "    .dataframe thead th {\n",
              "        text-align: right;\n",
              "    }\n",
              "</style>\n",
              "<table border=\"1\" class=\"dataframe\">\n",
              "  <thead>\n",
              "    <tr style=\"text-align: right;\">\n",
              "      <th></th>\n",
              "      <th>query_id</th>\n",
              "      <th>doc_id</th>\n",
              "      <th>relevance</th>\n",
              "    </tr>\n",
              "  </thead>\n",
              "  <tbody>\n",
              "    <tr>\n",
              "      <th>0</th>\n",
              "      <td>126</td>\n",
              "      <td>463</td>\n",
              "      <td>2</td>\n",
              "    </tr>\n",
              "    <tr>\n",
              "      <th>1</th>\n",
              "      <td>111</td>\n",
              "      <td>908</td>\n",
              "      <td>2</td>\n",
              "    </tr>\n",
              "    <tr>\n",
              "      <th>2</th>\n",
              "      <td>137</td>\n",
              "      <td>2133</td>\n",
              "      <td>1</td>\n",
              "    </tr>\n",
              "    <tr>\n",
              "      <th>3</th>\n",
              "      <td>131</td>\n",
              "      <td>2584</td>\n",
              "      <td>1</td>\n",
              "    </tr>\n",
              "    <tr>\n",
              "      <th>4</th>\n",
              "      <td>74</td>\n",
              "      <td>1318</td>\n",
              "      <td>1</td>\n",
              "    </tr>\n",
              "  </tbody>\n",
              "</table>\n",
              "</div>\n",
              "      <button class=\"colab-df-convert\" onclick=\"convertToInteractive('df-5cdf54e1-dbd2-4b32-9972-9dc8ecfa5b4e')\"\n",
              "              title=\"Convert this dataframe to an interactive table.\"\n",
              "              style=\"display:none;\">\n",
              "        \n",
              "  <svg xmlns=\"http://www.w3.org/2000/svg\" height=\"24px\"viewBox=\"0 0 24 24\"\n",
              "       width=\"24px\">\n",
              "    <path d=\"M0 0h24v24H0V0z\" fill=\"none\"/>\n",
              "    <path d=\"M18.56 5.44l.94 2.06.94-2.06 2.06-.94-2.06-.94-.94-2.06-.94 2.06-2.06.94zm-11 1L8.5 8.5l.94-2.06 2.06-.94-2.06-.94L8.5 2.5l-.94 2.06-2.06.94zm10 10l.94 2.06.94-2.06 2.06-.94-2.06-.94-.94-2.06-.94 2.06-2.06.94z\"/><path d=\"M17.41 7.96l-1.37-1.37c-.4-.4-.92-.59-1.43-.59-.52 0-1.04.2-1.43.59L10.3 9.45l-7.72 7.72c-.78.78-.78 2.05 0 2.83L4 21.41c.39.39.9.59 1.41.59.51 0 1.02-.2 1.41-.59l7.78-7.78 2.81-2.81c.8-.78.8-2.07 0-2.86zM5.41 20L4 18.59l7.72-7.72 1.47 1.35L5.41 20z\"/>\n",
              "  </svg>\n",
              "      </button>\n",
              "      \n",
              "  <style>\n",
              "    .colab-df-container {\n",
              "      display:flex;\n",
              "      flex-wrap:wrap;\n",
              "      gap: 12px;\n",
              "    }\n",
              "\n",
              "    .colab-df-convert {\n",
              "      background-color: #E8F0FE;\n",
              "      border: none;\n",
              "      border-radius: 50%;\n",
              "      cursor: pointer;\n",
              "      display: none;\n",
              "      fill: #1967D2;\n",
              "      height: 32px;\n",
              "      padding: 0 0 0 0;\n",
              "      width: 32px;\n",
              "    }\n",
              "\n",
              "    .colab-df-convert:hover {\n",
              "      background-color: #E2EBFA;\n",
              "      box-shadow: 0px 1px 2px rgba(60, 64, 67, 0.3), 0px 1px 3px 1px rgba(60, 64, 67, 0.15);\n",
              "      fill: #174EA6;\n",
              "    }\n",
              "\n",
              "    [theme=dark] .colab-df-convert {\n",
              "      background-color: #3B4455;\n",
              "      fill: #D2E3FC;\n",
              "    }\n",
              "\n",
              "    [theme=dark] .colab-df-convert:hover {\n",
              "      background-color: #434B5C;\n",
              "      box-shadow: 0px 1px 3px 1px rgba(0, 0, 0, 0.15);\n",
              "      filter: drop-shadow(0px 1px 2px rgba(0, 0, 0, 0.3));\n",
              "      fill: #FFFFFF;\n",
              "    }\n",
              "  </style>\n",
              "\n",
              "      <script>\n",
              "        const buttonEl =\n",
              "          document.querySelector('#df-5cdf54e1-dbd2-4b32-9972-9dc8ecfa5b4e button.colab-df-convert');\n",
              "        buttonEl.style.display =\n",
              "          google.colab.kernel.accessAllowed ? 'block' : 'none';\n",
              "\n",
              "        async function convertToInteractive(key) {\n",
              "          const element = document.querySelector('#df-5cdf54e1-dbd2-4b32-9972-9dc8ecfa5b4e');\n",
              "          const dataTable =\n",
              "            await google.colab.kernel.invokeFunction('convertToInteractive',\n",
              "                                                     [key], {});\n",
              "          if (!dataTable) return;\n",
              "\n",
              "          const docLinkHtml = 'Like what you see? Visit the ' +\n",
              "            '<a target=\"_blank\" href=https://colab.research.google.com/notebooks/data_table.ipynb>data table notebook</a>'\n",
              "            + ' to learn more about interactive tables.';\n",
              "          element.innerHTML = '';\n",
              "          dataTable['output_type'] = 'display_data';\n",
              "          await google.colab.output.renderOutput(dataTable, element);\n",
              "          const docLink = document.createElement('div');\n",
              "          docLink.innerHTML = docLinkHtml;\n",
              "          element.appendChild(docLink);\n",
              "        }\n",
              "      </script>\n",
              "    </div>\n",
              "  </div>\n",
              "  "
            ],
            "text/plain": [
              "   query_id  doc_id  relevance\n",
              "0       126     463          2\n",
              "1       111     908          2\n",
              "2       137    2133          1\n",
              "3       131    2584          1\n",
              "4        74    1318          1"
            ]
          },
          "metadata": {},
          "execution_count": 72
        }
      ]
    },
    {
      "cell_type": "markdown",
      "source": [
        "## Normaliztion"
      ],
      "metadata": {
        "id": "F8KJ3p-mnoht"
      },
      "id": "F8KJ3p-mnoht"
    },
    {
      "cell_type": "code",
      "source": [
        "normalize = hazm.Normalizer().normalize\n",
        "corpus.text = corpus.text.transform(normalize)\n",
        "query = query.transform(normalize)"
      ],
      "metadata": {
        "id": "BjpC37pvg9Rz"
      },
      "id": "BjpC37pvg9Rz",
      "execution_count": 73,
      "outputs": []
    },
    {
      "cell_type": "markdown",
      "source": [
        "# Embedding the documents"
      ],
      "metadata": {
        "id": "_IEs3O0emcKQ"
      },
      "id": "_IEs3O0emcKQ"
    },
    {
      "cell_type": "markdown",
      "source": [
        "## Method 1 : Tfidf"
      ],
      "metadata": {
        "id": "dS2qRcj5mmvL"
      },
      "id": "dS2qRcj5mmvL"
    },
    {
      "cell_type": "code",
      "source": [
        "vectorizer = TfidfVectorizer(max_features=500,ngram_range=(1,2))\n",
        "vectorizer.fit(corpus.text)"
      ],
      "metadata": {
        "id": "0x8lSOD-mp53",
        "colab": {
          "base_uri": "https://localhost:8080/"
        },
        "outputId": "6fc97487-d4dd-4385-d35b-2f358dac4e0e"
      },
      "id": "0x8lSOD-mp53",
      "execution_count": 74,
      "outputs": [
        {
          "output_type": "execute_result",
          "data": {
            "text/plain": [
              "TfidfVectorizer(max_features=500, ngram_range=(1, 2))"
            ]
          },
          "metadata": {},
          "execution_count": 74
        }
      ]
    },
    {
      "cell_type": "markdown",
      "source": [
        "## Method 2 : ParsBert"
      ],
      "metadata": {
        "id": "vwbPf8qxJ_p9"
      },
      "id": "vwbPf8qxJ_p9"
    },
    {
      "cell_type": "code",
      "source": [
        "from transformers import AutoConfig, AutoTokenizer, AutoModel, TFAutoModel\n",
        "\n",
        "model_name_or_path = \"HooshvareLab/bert-fa-zwnj-base\"\n",
        "config = AutoConfig.from_pretrained(model_name_or_path)\n",
        "tokenizer = AutoTokenizer.from_pretrained(model_name_or_path)\n",
        "\n",
        "model = AutoModel.from_pretrained(model_name_or_path)\n",
        "model = model.cuda()"
      ],
      "metadata": {
        "colab": {
          "base_uri": "https://localhost:8080/"
        },
        "id": "lKWzZpzZjXQL",
        "outputId": "5e1bedd3-a094-454f-8eb2-2acb87ab0098"
      },
      "id": "lKWzZpzZjXQL",
      "execution_count": 102,
      "outputs": [
        {
          "output_type": "stream",
          "name": "stderr",
          "text": [
            "Some weights of the model checkpoint at HooshvareLab/bert-fa-zwnj-base were not used when initializing BertModel: ['cls.predictions.decoder.weight', 'cls.predictions.decoder.bias', 'cls.predictions.bias', 'cls.predictions.transform.dense.bias', 'cls.predictions.transform.dense.weight', 'cls.predictions.transform.LayerNorm.weight', 'cls.predictions.transform.LayerNorm.bias']\n",
            "- This IS expected if you are initializing BertModel from the checkpoint of a model trained on another task or with another architecture (e.g. initializing a BertForSequenceClassification model from a BertForPreTraining model).\n",
            "- This IS NOT expected if you are initializing BertModel from the checkpoint of a model that you expect to be exactly identical (initializing a BertForSequenceClassification model from a BertForSequenceClassification model).\n",
            "Some weights of BertModel were not initialized from the model checkpoint at HooshvareLab/bert-fa-zwnj-base and are newly initialized: ['bert.pooler.dense.bias', 'bert.pooler.dense.weight']\n",
            "You should probably TRAIN this model on a down-stream task to be able to use it for predictions and inference.\n"
          ]
        }
      ]
    },
    {
      "cell_type": "code",
      "source": [
        "text = \"ما در قرن ۲۱ زندگی می‌کنیم\" \n",
        "encoding = tokenizer.encode_plus(\n",
        "      text,\n",
        "      add_special_tokens=True, # Add '[CLS]' and '[SEP]'\n",
        "      return_token_type_ids=False,\n",
        "      max_length = 500,\n",
        "      truncation=True,\n",
        "      return_attention_mask=True,\n",
        "      return_tensors='pt',  # Return PyTorch tensors\n",
        "    )\n",
        "out = model(\n",
        "            input_ids = encoding['input_ids'].cuda(), \n",
        "            attention_mask= encoding['attention_mask'].cuda())\n",
        "out['pooler_output'][0]"
      ],
      "metadata": {
        "colab": {
          "base_uri": "https://localhost:8080/"
        },
        "id": "wwgVFEvLwGf2",
        "outputId": "2096a422-42f9-4672-ea95-288fefddd095"
      },
      "id": "wwgVFEvLwGf2",
      "execution_count": 103,
      "outputs": [
        {
          "output_type": "execute_result",
          "data": {
            "text/plain": [
              "tensor([-6.1199e-01, -7.2380e-01,  3.3152e-01, -8.0473e-01,  1.4409e-02,\n",
              "         3.2757e-01,  2.5225e-02,  4.0572e-01, -2.3879e-01,  3.6961e-01,\n",
              "         1.1989e-01, -8.7340e-01, -7.1609e-02, -3.3276e-01,  1.4152e-01,\n",
              "        -1.0844e-01,  8.6605e-03, -8.1835e-03,  4.7999e-01,  6.7156e-01,\n",
              "        -5.7034e-01,  3.6085e-03,  3.8205e-02,  2.4517e-01,  4.1049e-01,\n",
              "         4.9698e-01, -4.9224e-01, -4.4647e-02, -6.6256e-02,  3.0444e-01,\n",
              "        -2.3789e-01, -2.4569e-01,  2.6970e-01,  7.7225e-01, -5.1137e-01,\n",
              "         7.7780e-01,  1.2946e-02,  5.1527e-01, -1.6624e-01,  5.2252e-01,\n",
              "         7.1204e-01, -6.8531e-01,  3.8264e-01, -9.7279e-02,  1.8490e-02,\n",
              "         5.6935e-01, -8.2118e-01,  2.3006e-01,  1.1544e-01, -2.7786e-01,\n",
              "        -4.8266e-01,  3.2057e-01, -4.5657e-01,  3.3598e-01, -4.9861e-01,\n",
              "        -1.9419e-01,  4.5624e-01,  1.9863e-01, -7.4756e-01,  3.5362e-01,\n",
              "        -8.1764e-02, -2.6380e-01, -4.6832e-01, -4.3649e-01,  1.3785e-01,\n",
              "         7.0854e-01, -3.3658e-01,  8.6266e-02,  1.7221e-01, -5.1006e-01,\n",
              "         3.7794e-01,  5.3716e-01, -3.2350e-02,  2.6200e-01, -2.3411e-01,\n",
              "        -3.3010e-01, -5.1189e-01,  5.1200e-01, -5.4946e-02, -5.0167e-02,\n",
              "        -6.5604e-01, -6.0067e-01, -5.1800e-03, -4.2331e-01, -9.9746e-02,\n",
              "         1.1210e-01, -4.9471e-01,  8.3178e-01,  3.3115e-01, -1.6047e-02,\n",
              "        -4.8479e-01, -5.2958e-01,  3.8534e-01, -2.2854e-01,  3.7061e-01,\n",
              "        -2.8632e-03, -9.9502e-02, -7.6128e-01, -7.5331e-01,  2.3565e-01,\n",
              "        -1.4069e-01,  3.9518e-01, -5.0077e-01, -6.7293e-02,  9.0112e-01,\n",
              "         7.1273e-01,  2.5228e-01, -5.2503e-01, -2.7898e-01, -3.7344e-01,\n",
              "         6.5038e-01,  4.5021e-01, -4.3114e-01, -5.0541e-01,  4.1405e-01,\n",
              "         5.4815e-01,  7.8740e-01,  3.6685e-01, -5.1295e-01, -1.2532e-01,\n",
              "         2.3306e-01, -1.9486e-01, -3.9047e-01,  7.4636e-01, -7.9698e-02,\n",
              "        -2.9305e-01, -6.5163e-01,  4.1316e-01,  5.8525e-01,  4.6395e-01,\n",
              "         5.2720e-01,  5.9871e-01, -4.1644e-01, -1.8285e-01,  1.6192e-01,\n",
              "        -8.2195e-01,  5.4333e-01, -1.9389e-01,  7.0843e-01,  1.3481e-01,\n",
              "         6.0103e-01, -1.4250e-02, -2.5382e-01, -2.6466e-01, -4.2811e-01,\n",
              "        -3.2790e-01, -4.7896e-01, -7.3954e-01, -1.5542e-01,  4.4154e-01,\n",
              "        -5.8850e-01,  2.7300e-01,  2.0178e-01, -7.2599e-01, -7.4425e-01,\n",
              "         4.4612e-02, -6.4959e-01,  2.9384e-01,  4.2389e-01, -4.2875e-01,\n",
              "        -4.8119e-01,  2.9292e-01,  2.0964e-01,  2.4355e-01, -2.5639e-01,\n",
              "         2.7316e-01,  3.3875e-01, -4.3134e-02, -8.1943e-01,  3.9649e-01,\n",
              "         6.1599e-01, -7.4825e-01,  3.3784e-01, -5.3821e-01,  5.0396e-01,\n",
              "        -6.7627e-01, -3.5935e-01,  1.8927e-01, -2.6654e-01,  5.5325e-01,\n",
              "        -1.4549e-01, -5.8296e-01, -3.3848e-01,  1.6731e-01,  3.8137e-01,\n",
              "        -1.5265e-01, -2.1714e-01, -1.0028e-01, -8.3727e-01,  6.0788e-01,\n",
              "        -1.7753e-03, -4.2987e-01,  6.2955e-02, -8.7404e-02,  1.7725e-02,\n",
              "        -3.1665e-01,  7.6754e-01,  8.8821e-02, -6.0722e-01, -6.8495e-01,\n",
              "        -5.3925e-02, -8.6084e-01,  2.6010e-01,  4.3599e-01, -2.6898e-01,\n",
              "         2.7242e-01,  2.1612e-01, -5.2682e-01, -5.4927e-01,  4.8459e-01,\n",
              "        -3.3482e-01,  3.9485e-01,  3.0473e-02, -3.8996e-01, -8.0428e-02,\n",
              "        -9.5332e-01,  1.7437e-01,  7.1563e-01, -2.8095e-01,  6.6759e-01,\n",
              "         8.1957e-01,  4.3791e-01, -3.2250e-01, -6.7904e-01, -4.8192e-02,\n",
              "         4.7816e-01, -2.4872e-01, -2.8373e-01, -7.5649e-01,  4.1584e-01,\n",
              "        -7.8873e-01,  4.7061e-01, -1.1683e-01, -7.6112e-02,  2.7778e-02,\n",
              "        -5.8940e-02, -2.3217e-01,  9.5658e-02, -4.8552e-01,  7.4462e-01,\n",
              "        -3.3395e-01, -4.7498e-01,  1.8475e-01, -7.8451e-01, -4.9220e-01,\n",
              "         7.0895e-01,  3.7646e-01,  3.2010e-01,  1.0467e-01,  1.4197e-01,\n",
              "        -9.1752e-02, -9.4045e-02, -4.2984e-01, -3.5524e-01, -2.6942e-01,\n",
              "        -5.1791e-01,  8.5690e-02,  6.7299e-01, -1.9835e-01, -5.2224e-01,\n",
              "         1.3399e-01,  4.9426e-01,  1.5390e-01,  4.1187e-01,  7.3405e-01,\n",
              "         1.0758e-02,  6.4836e-02, -5.4296e-01, -8.3540e-02, -7.9032e-01,\n",
              "        -3.6208e-02,  6.5889e-01, -7.6954e-01, -2.7054e-01,  4.8701e-03,\n",
              "        -5.8816e-01, -9.0179e-01, -1.4589e-01, -6.7969e-01, -1.5232e-01,\n",
              "         1.9796e-01, -2.4830e-02, -3.3556e-01,  4.6797e-01,  1.4416e-01,\n",
              "        -6.3538e-02,  6.2882e-01,  2.4777e-01, -7.5964e-01, -8.4390e-03,\n",
              "         5.3818e-01,  4.2043e-01,  2.2548e-01, -4.2543e-01, -9.8136e-02,\n",
              "         7.7750e-01, -2.7837e-01,  3.6963e-01, -5.9351e-01,  2.1970e-01,\n",
              "        -2.9126e-01, -2.5541e-01,  8.6740e-01,  1.0686e-02,  1.3031e-01,\n",
              "         1.2103e-01, -2.9195e-01, -4.0239e-01,  1.2113e-01, -6.1018e-01,\n",
              "         4.8160e-01, -2.8134e-01,  2.5570e-01,  5.2894e-01,  5.0967e-01,\n",
              "         4.5614e-01,  6.7925e-01, -7.4001e-01,  5.3768e-01, -3.3846e-01,\n",
              "         1.4155e-01,  6.8215e-01, -7.8426e-01,  3.7544e-01,  2.9215e-01,\n",
              "         3.8475e-01,  1.4017e-01,  9.9704e-02, -3.6856e-01,  4.4865e-01,\n",
              "         2.3621e-01,  2.2449e-01, -7.3292e-01, -1.2121e-02, -3.4605e-01,\n",
              "        -1.9739e-01, -5.5265e-01,  5.3188e-02,  2.6964e-03,  1.3647e-01,\n",
              "        -3.7452e-01, -7.7988e-01, -3.1301e-01, -4.0972e-01, -9.5097e-02,\n",
              "        -4.7510e-01, -4.0001e-01, -9.1511e-02, -6.2906e-02, -2.5533e-01,\n",
              "         4.2008e-01, -1.8502e-01, -1.2907e-01, -9.7625e-01, -2.0815e-01,\n",
              "         2.5087e-01, -7.1210e-01, -1.3523e-02, -4.9859e-02,  2.1881e-01,\n",
              "        -9.5869e-01, -5.5568e-01,  5.1279e-01, -8.1677e-03,  3.7605e-01,\n",
              "         4.8774e-04,  5.8086e-01,  5.2257e-01, -1.8990e-01, -2.2743e-01,\n",
              "         6.1773e-01,  1.5377e-01,  6.0417e-01,  2.3364e-01, -4.8754e-01,\n",
              "         2.6275e-01,  4.8834e-01, -5.0711e-02,  1.5864e-01,  3.1533e-01,\n",
              "         3.7255e-01,  5.9352e-02, -4.2843e-01,  1.3026e-01, -1.7234e-01,\n",
              "         5.9873e-01, -2.5541e-01, -4.9264e-01, -1.2207e-01, -2.9741e-01,\n",
              "         1.0723e-01,  5.1093e-01, -2.2768e-01, -5.5827e-01,  9.1995e-02,\n",
              "        -4.1002e-01, -1.3819e-01,  3.1920e-02, -3.3563e-01, -5.8372e-01,\n",
              "         5.6198e-01,  2.6777e-01, -4.4503e-01, -7.4379e-01, -2.4556e-01,\n",
              "        -3.5844e-01, -7.8186e-01,  5.7213e-01, -7.7977e-01, -5.5864e-01,\n",
              "        -5.8403e-01,  3.3819e-01,  3.8400e-01, -1.0314e-01,  3.0359e-01,\n",
              "        -5.1924e-01,  1.8839e-01,  6.9411e-01, -5.2977e-01,  6.6178e-01,\n",
              "        -4.7765e-01, -5.8620e-01,  3.0857e-01,  7.0523e-02,  2.9177e-01,\n",
              "         1.6141e-01,  6.0419e-01, -3.3709e-01, -7.8350e-01,  1.4693e-01,\n",
              "        -4.5051e-01,  5.1926e-01, -8.0612e-01, -4.7379e-01, -2.3378e-01,\n",
              "         8.2565e-01,  1.2947e-01, -1.7035e-01, -1.9479e-01,  1.5257e-01,\n",
              "        -2.6004e-01, -5.0591e-01, -7.7842e-01, -1.1818e-01,  4.6847e-01,\n",
              "        -3.1850e-01, -2.1169e-01, -2.9456e-02, -4.2242e-01, -6.8922e-01,\n",
              "         8.4798e-01,  2.6055e-01, -6.8223e-01, -8.7923e-01, -3.1558e-01,\n",
              "         1.6032e-01,  3.1952e-02, -3.0422e-01, -4.3986e-01,  5.2241e-01,\n",
              "        -2.1480e-02,  5.9796e-01,  4.2027e-01, -4.6133e-01,  2.3371e-01,\n",
              "        -4.8110e-01,  1.9663e-01, -3.2905e-01, -3.0511e-01, -4.3431e-01,\n",
              "         1.2392e-01, -2.0074e-01,  6.9788e-01,  4.1516e-01,  5.6336e-01,\n",
              "         3.0064e-01,  7.6138e-01, -4.3591e-01,  5.9227e-01, -1.5370e-01,\n",
              "        -2.5127e-01,  8.1661e-01, -7.9126e-01,  6.4134e-02, -7.4074e-01,\n",
              "         3.8349e-01, -1.6113e-01, -5.5032e-01, -5.8623e-01,  6.1277e-01,\n",
              "        -4.2239e-01, -6.1388e-01, -2.4398e-01, -8.5157e-01,  6.7485e-01,\n",
              "        -1.1938e-02,  7.5808e-01,  8.0022e-01,  7.5099e-01,  6.6692e-01,\n",
              "         5.1379e-01, -3.7999e-01,  2.9993e-02, -4.6815e-01, -1.4246e-01,\n",
              "        -7.6596e-01,  6.9098e-01,  1.7734e-01, -6.9635e-01, -1.5525e-01,\n",
              "         1.5370e-01,  1.0736e-01,  9.0251e-01,  4.0878e-01,  1.2648e-01,\n",
              "        -5.3853e-01, -7.5783e-02, -2.5428e-01,  1.3246e-01,  1.7510e-01,\n",
              "         3.5661e-01,  2.1317e-01,  6.2740e-01,  3.5506e-01,  1.9253e-01,\n",
              "         5.8019e-01, -8.9951e-01, -8.9512e-02, -1.5518e-01, -6.4169e-02,\n",
              "        -2.2260e-01, -4.8840e-01,  7.5801e-02, -8.5215e-01, -5.3298e-01,\n",
              "         4.9911e-02, -3.1009e-01, -7.3658e-01,  2.9611e-01, -2.3602e-01,\n",
              "        -2.7389e-01, -8.2630e-01,  2.6417e-01,  5.4477e-01,  6.1208e-02,\n",
              "         4.0512e-01,  7.7333e-02,  3.5394e-02, -1.2469e-01, -3.6552e-01,\n",
              "        -3.7491e-02, -6.5458e-01, -1.0274e-01, -3.9961e-01, -2.2280e-01,\n",
              "        -5.0779e-01,  4.3617e-01,  5.3763e-01, -8.3843e-01, -6.2498e-01,\n",
              "         1.9393e-01,  5.3242e-01,  6.7121e-01, -1.9960e-01, -4.3612e-01,\n",
              "         1.8980e-01, -3.2734e-02, -3.7223e-01,  9.6037e-01,  5.0852e-01,\n",
              "         4.8773e-02, -3.0872e-01, -9.2975e-01,  7.2337e-03,  1.6231e-01,\n",
              "         4.2173e-01,  2.8842e-01, -6.0168e-01,  1.4064e-01, -6.6948e-01,\n",
              "         6.9197e-01,  5.4444e-01,  6.0367e-01, -2.7808e-01, -5.6006e-01,\n",
              "        -8.4533e-01, -3.0002e-01, -3.5699e-01, -4.1669e-02,  6.3807e-01,\n",
              "         8.9760e-02, -4.3788e-01, -2.8729e-01, -7.2770e-01, -3.9912e-01,\n",
              "         6.8234e-01,  6.8892e-01, -1.0160e-01,  3.7511e-01, -5.7815e-01,\n",
              "        -6.0537e-01,  3.7572e-01,  4.2292e-01, -4.0620e-01, -2.0250e-01,\n",
              "        -6.4123e-01, -2.9670e-02, -1.8784e-01,  5.0975e-01,  7.6277e-01,\n",
              "         6.6778e-01, -5.6582e-01,  2.3788e-01,  5.9991e-01, -1.2796e-01,\n",
              "         2.1309e-01,  1.2022e-01,  3.7184e-01,  3.6785e-02, -3.1615e-01,\n",
              "        -4.0835e-02,  8.0017e-02,  4.5434e-01, -8.5722e-01, -2.3225e-01,\n",
              "         1.0736e-01, -6.8261e-02,  9.2268e-01, -3.4359e-01,  3.9129e-01,\n",
              "        -1.6123e-01, -4.9306e-02,  5.7141e-01,  7.3083e-01,  6.4690e-01,\n",
              "        -6.3718e-01, -6.9938e-01,  6.7802e-01, -1.0433e-01, -5.0021e-02,\n",
              "        -2.6210e-01,  1.4321e-01, -6.8139e-01, -8.6127e-02, -4.5931e-01,\n",
              "         7.3337e-01,  1.3882e-01,  3.9333e-01,  6.5514e-01,  2.6887e-01,\n",
              "        -1.1365e-01, -6.5340e-01,  2.7198e-01,  7.0541e-02, -7.6549e-01,\n",
              "         2.8527e-03,  2.6775e-01,  4.1862e-01,  4.2678e-01,  7.6006e-01,\n",
              "        -5.3801e-01,  6.2727e-01,  6.4733e-01, -2.9169e-01,  5.2794e-02,\n",
              "         3.4916e-01,  3.2007e-01,  3.1320e-01,  8.0848e-01, -1.2697e-01,\n",
              "        -4.1423e-01,  5.1136e-01,  1.9996e-01, -4.9455e-01,  4.6332e-01,\n",
              "        -2.0631e-01, -3.6786e-01,  3.3813e-01,  4.6049e-01, -2.6307e-01,\n",
              "        -8.5872e-03,  6.0037e-01,  8.1796e-01,  2.6428e-01,  5.7881e-01,\n",
              "         3.7667e-01, -6.5711e-01, -1.1437e-01,  8.5021e-02,  4.8954e-01,\n",
              "        -2.1051e-02, -3.4664e-01,  2.5647e-01, -1.8752e-01,  2.8292e-01,\n",
              "        -6.8080e-01, -4.1416e-01, -1.2612e-01, -4.1340e-01, -8.0516e-02,\n",
              "        -1.9461e-01,  6.5832e-01, -2.6656e-02,  1.3983e-01,  4.6065e-02,\n",
              "        -2.9684e-01, -2.7611e-01,  7.6627e-01, -9.8770e-02,  3.2829e-01,\n",
              "        -2.6693e-01,  5.7534e-01,  3.2132e-02,  7.8826e-01,  3.6755e-01,\n",
              "        -3.4407e-01,  1.7280e-01,  7.4806e-01,  4.4106e-01,  7.2030e-01,\n",
              "        -3.0852e-01, -2.6079e-02, -6.1254e-01, -6.8712e-01,  6.0509e-01,\n",
              "        -1.7912e-01, -4.3597e-01,  2.4560e-01,  5.8423e-01,  6.8467e-01,\n",
              "         6.7510e-01, -5.3338e-01, -4.7409e-01, -5.0484e-01, -8.8331e-01,\n",
              "         1.6539e-01,  4.0071e-01, -4.3685e-01,  7.1639e-01,  7.0433e-02,\n",
              "        -7.1044e-01, -5.4814e-01, -4.8123e-01, -8.5845e-01, -3.3808e-01,\n",
              "        -5.7270e-01,  6.8456e-01, -9.4607e-03, -8.1769e-01, -2.5031e-01,\n",
              "         6.9048e-01,  2.0443e-01,  4.3671e-01,  3.4196e-01, -7.6749e-02,\n",
              "         2.4578e-01,  4.3259e-01,  1.8862e-01,  1.5101e-02, -2.8195e-01,\n",
              "        -6.3026e-01,  2.1735e-01, -2.8566e-01, -2.5383e-01, -1.5153e-01,\n",
              "         8.9129e-01,  7.9178e-01,  3.3716e-01], device='cuda:0',\n",
              "       grad_fn=<SelectBackward0>)"
            ]
          },
          "metadata": {},
          "execution_count": 103
        }
      ]
    },
    {
      "cell_type": "code",
      "source": [
        "def get_embed(part):\n",
        "  encoding = tokenizer.encode_plus(\n",
        "    part,\n",
        "    add_special_tokens=True, # Add '[CLS]' and '[SEP]'\n",
        "    return_token_type_ids=False,\n",
        "    max_length = 500,\n",
        "    truncation=True,\n",
        "    return_attention_mask=True,\n",
        "    return_tensors='pt',  # Return PyTorch tensors\n",
        "  )\n",
        "  out = model(\n",
        "      input_ids = encoding['input_ids'].cuda(), \n",
        "      attention_mask= encoding['attention_mask'].cuda())\n",
        "  return out['pooler_output'].cpu().detach().numpy()"
      ],
      "metadata": {
        "id": "0CJT2mJ3-OuZ"
      },
      "id": "0CJT2mJ3-OuZ",
      "execution_count": 82,
      "outputs": []
    },
    {
      "cell_type": "code",
      "source": [
        "doc_vec = np.zeros((1, 768))\n",
        "doc_map = np.zeros(1)\n",
        "import tqdm\n",
        "\n",
        "for index, doc in tqdm.tqdm(corpus.iterrows()):\n",
        "  doc_split = doc['text'].split()\n",
        "  doc_parts = [' '.join(doc_split[i:i + 300]) for i in range(0, len(doc_split) - 150, 150)]\n",
        "  for part in doc_parts:\n",
        "    doc_vec = np.append(doc_vec, get_embed(part), axis = 0)\n",
        "    doc_map = np.append(doc_map, doc['docId'])\n"
      ],
      "metadata": {
        "colab": {
          "base_uri": "https://localhost:8080/"
        },
        "id": "w1yGQuFmwc9R",
        "outputId": "5c0bdaaf-dbac-4b7f-f23e-afa736b59c46"
      },
      "id": "w1yGQuFmwc9R",
      "execution_count": 29,
      "outputs": [
        {
          "output_type": "stream",
          "name": "stderr",
          "text": [
            "3258it [13:06,  4.14it/s]\n"
          ]
        }
      ]
    },
    {
      "cell_type": "markdown",
      "source": [
        "# Document Retrieval"
      ],
      "metadata": {
        "id": "vB7lcQxsoZZy"
      },
      "id": "vB7lcQxsoZZy"
    },
    {
      "cell_type": "code",
      "source": [
        "class KNN_based_IR(BaseEstimator):\n",
        "  def __init__(self,n_neighbors=1+10+10+10) -> None:\n",
        "    super().__init__()\n",
        "    self.nn = NearestNeighbors(n_neighbors=n_neighbors)\n",
        "  def set_params(self,**kwargs):\n",
        "    self.nn.set_params(**kwargs)\n",
        "  def fit(self, X: np.array):\n",
        "    self.nn.fit(X)\n",
        "  def predict(self, X: np.array):\n",
        "    distances, docIds = self.nn.kneighbors(X)\n",
        "    scores = np.max(distances)-distances\n",
        "    return scores, docIds"
      ],
      "metadata": {
        "id": "Fu0yYIIrLbpX"
      },
      "id": "Fu0yYIIrLbpX",
      "execution_count": 83,
      "outputs": []
    },
    {
      "cell_type": "code",
      "source": [
        "IR_system = KNN_based_IR()\n",
        "IR_system.fit(vectorizer.transform(corpus.text))"
      ],
      "metadata": {
        "id": "cSu5M10thrcN"
      },
      "id": "cSu5M10thrcN",
      "execution_count": 84,
      "outputs": []
    },
    {
      "cell_type": "code",
      "source": [
        "bert_knn = KNN_based_IR(50)\n",
        "bert_knn.fit(doc_vec)"
      ],
      "metadata": {
        "id": "dQucB5SN2s9-"
      },
      "id": "dQucB5SN2s9-",
      "execution_count": 100,
      "outputs": []
    },
    {
      "cell_type": "markdown",
      "source": [
        "# IR Evaluation\n",
        "Tailored for our multi-level Test Collection."
      ],
      "metadata": {
        "id": "9FD5slp-hsik"
      },
      "id": "9FD5slp-hsik"
    },
    {
      "cell_type": "code",
      "source": [
        "preds = IR_system.predict(vectorizer.transform(query))"
      ],
      "metadata": {
        "id": "BVEGg6pYh8Uv"
      },
      "id": "BVEGg6pYh8Uv",
      "execution_count": 87,
      "outputs": []
    },
    {
      "cell_type": "code",
      "source": [
        "bert_pred = []\n",
        "for q, ret in tqdm.tqdm(query_raw_data.items()):\n",
        "  pr = get_embed(q)\n",
        "  res = [doc_map[i] for i in bert_knn.predict(pr)[1][0] if i != 0]\n",
        "  bert_pred.append(res)"
      ],
      "metadata": {
        "colab": {
          "base_uri": "https://localhost:8080/"
        },
        "id": "IGEslI50bUEf",
        "outputId": "da32aa41-724a-48dd-97b7-d8bbd2403f1c"
      },
      "id": "IGEslI50bUEf",
      "execution_count": 101,
      "outputs": [
        {
          "output_type": "stream",
          "name": "stderr",
          "text": [
            "100%|██████████| 150/150 [00:06<00:00, 23.24it/s]\n"
          ]
        }
      ]
    },
    {
      "cell_type": "markdown",
      "source": [
        "## Adapting IR output to our Test Collection"
      ],
      "metadata": {
        "id": "iSK68yffPg8-"
      },
      "id": "iSK68yffPg8-"
    },
    {
      "cell_type": "code",
      "source": [
        "def adapt_IR_output_to_measure_input(IR_output: Tuple[np.array, np.array]):\n",
        "  scores, docIds = IR_output\n",
        "  return pd.DataFrame({'query_id': np.tile(query.index,(31,1)).flatten(order='F').astype(str),\n",
        "                       'doc_id':   docIds.flatten().astype(str),\n",
        "                       'score':    scores.flatten()})"
      ],
      "metadata": {
        "id": "jDaNxlfrPovG"
      },
      "id": "jDaNxlfrPovG",
      "execution_count": 89,
      "outputs": []
    },
    {
      "cell_type": "markdown",
      "source": [
        "## MRR (Mean Reciprocal Rank)"
      ],
      "metadata": {
        "id": "oYNQ3qYThxZ_"
      },
      "id": "oYNQ3qYThxZ_"
    },
    {
      "cell_type": "code",
      "source": [
        "MRR = IRm.measures.MRR()\n",
        "def mrr_measure(qrels, ret):\n",
        "  ret = adapt_IR_output_to_measure_input(ret)\n",
        "  return MRR.calc_aggregate(qrels[qrels.relevance == 4], ret)\n",
        "# mrr_scorer = make_scorer(mrr)"
      ],
      "metadata": {
        "id": "1tXZutKIhv7V"
      },
      "id": "1tXZutKIhv7V",
      "execution_count": 90,
      "outputs": []
    },
    {
      "cell_type": "code",
      "source": [
        "mrr_measure(qrels.astype({'query_id':str,'doc_id':str}),preds)"
      ],
      "metadata": {
        "id": "KokouE3mi5X7",
        "outputId": "cd6cedd0-7e1a-49eb-cbbe-d2f6ed6d730e",
        "colab": {
          "base_uri": "https://localhost:8080/"
        }
      },
      "id": "KokouE3mi5X7",
      "execution_count": 91,
      "outputs": [
        {
          "output_type": "execute_result",
          "data": {
            "text/plain": [
              "0.11047063325391496"
            ]
          },
          "metadata": {},
          "execution_count": 91
        }
      ]
    },
    {
      "cell_type": "markdown",
      "source": [
        "## MAP (Mean Average Precision)"
      ],
      "metadata": {
        "id": "rFbJ5vp_lXeA"
      },
      "id": "rFbJ5vp_lXeA"
    },
    {
      "cell_type": "code",
      "source": [
        "def map_measure(qrels, ret):\n",
        "  ret = adapt_IR_output_to_measure_input(ret)\n",
        "  return np.mean([IRm.measures.AP(rel=level).\\\n",
        "                    calc_aggregate(qrels[qrels.relevance == level], ret) for level in range(1,4+1)])\n",
        "\n",
        "# map_scorer = make_scorer(map)"
      ],
      "metadata": {
        "id": "J4z0Ti8eldAH"
      },
      "id": "J4z0Ti8eldAH",
      "execution_count": 96,
      "outputs": []
    },
    {
      "cell_type": "code",
      "source": [
        "map_measure(qrels.astype({'query_id':str,'doc_id':str}),preds)"
      ],
      "metadata": {
        "id": "dkp5CLB8jB2O",
        "outputId": "a6671554-604e-4b65-ddea-90a783084358",
        "colab": {
          "base_uri": "https://localhost:8080/"
        }
      },
      "id": "dkp5CLB8jB2O",
      "execution_count": 97,
      "outputs": [
        {
          "output_type": "execute_result",
          "data": {
            "text/plain": [
              "0.06630537139767945"
            ]
          },
          "metadata": {},
          "execution_count": 97
        }
      ]
    },
    {
      "cell_type": "markdown",
      "source": [
        "## P@K"
      ],
      "metadata": {
        "id": "xbhSNyvo19ja"
      },
      "id": "xbhSNyvo19ja"
    },
    {
      "cell_type": "code",
      "source": [
        "def p_measure(qrels, ret):\n",
        "  ret = adapt_IR_output_to_measure_input(ret)\n",
        "  return np.mean([IRm.measures.P(cutoff=k, rel=level).\\\n",
        "                    calc_aggregate(qrels[qrels.relevance == level], ret)\\\n",
        "                  for k,level in zip([1,11,21,31],range(1,4+1))])"
      ],
      "metadata": {
        "id": "8IRhcs4H19NU"
      },
      "id": "8IRhcs4H19NU",
      "execution_count": 98,
      "outputs": []
    },
    {
      "cell_type": "code",
      "source": [
        "p_measure(qrels.astype({'query_id':str,'doc_id':str}),preds)"
      ],
      "metadata": {
        "id": "A4s1-EdTjd52",
        "outputId": "0747a103-58d7-4578-ab6b-472128df7f7b",
        "colab": {
          "base_uri": "https://localhost:8080/"
        }
      },
      "id": "A4s1-EdTjd52",
      "execution_count": 99,
      "outputs": [
        {
          "output_type": "execute_result",
          "data": {
            "text/plain": [
              "0.033872596937113045"
            ]
          },
          "metadata": {},
          "execution_count": 99
        }
      ]
    },
    {
      "cell_type": "markdown",
      "source": [
        "# Pipeline Definition"
      ],
      "metadata": {
        "id": "-t-lIUk3Mi3i"
      },
      "id": "-t-lIUk3Mi3i"
    },
    {
      "cell_type": "code",
      "source": [
        "pipeline = Pipeline([('embedding','passthrough'),\n",
        "                     ('retrieval','passthrough')])"
      ],
      "metadata": {
        "id": "wOsckUZxMlOq"
      },
      "id": "wOsckUZxMlOq",
      "execution_count": null,
      "outputs": []
    }
  ],
  "metadata": {
    "kernelspec": {
      "display_name": "Python 3",
      "language": "python",
      "name": "python3"
    },
    "language_info": {
      "codemirror_mode": {
        "name": "ipython",
        "version": 3
      },
      "file_extension": ".py",
      "mimetype": "text/x-python",
      "name": "python",
      "nbconvert_exporter": "python",
      "pygments_lexer": "ipython3",
      "version": "3.6.9"
    },
    "colab": {
      "name": "Persian-IR-example.ipynb",
      "provenance": [],
      "include_colab_link": true
    },
    "accelerator": "GPU"
  },
  "nbformat": 4,
  "nbformat_minor": 5
}