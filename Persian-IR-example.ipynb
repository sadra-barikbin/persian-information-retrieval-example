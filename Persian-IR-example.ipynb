{
  "cells": [
    {
      "cell_type": "markdown",
      "metadata": {
        "id": "view-in-github",
        "colab_type": "text"
      },
      "source": [
        "<a href=\"https://colab.research.google.com/github/sadra-barikbin/persian-information-retrieval-example/blob/main/Persian-IR-example.ipynb\" target=\"_parent\"><img src=\"https://colab.research.google.com/assets/colab-badge.svg\" alt=\"Open In Colab\"/></a>"
      ]
    },
    {
      "cell_type": "markdown",
      "id": "innovative-letter",
      "metadata": {
        "id": "innovative-letter"
      },
      "source": [
        "# Setup"
      ]
    },
    {
      "cell_type": "code",
      "source": [
        "!pip install hazm transformers ir_measures\n",
        "!pip install -q clean-text[gpl]"
      ],
      "metadata": {
        "id": "S6JCv2ZVCX4u"
      },
      "id": "S6JCv2ZVCX4u",
      "execution_count": null,
      "outputs": []
    },
    {
      "cell_type": "code",
      "execution_count": 2,
      "id": "civic-birth",
      "metadata": {
        "id": "civic-birth"
      },
      "outputs": [],
      "source": [
        "import torch\n",
        "import yaml\n",
        "import hazm\n",
        "import tqdm\n",
        "import numpy as np\n",
        "import pandas as pd\n",
        "import ir_measures as IRm\n",
        "from typing import List, Tuple\n",
        "from pathlib import Path\n",
        "from sklearn.metrics import make_scorer, average_precision_score\n",
        "from sklearn.metrics.pairwise import cosine_similarity\n",
        "from sklearn.feature_extraction.text import TfidfVectorizer\n",
        "from sklearn.neighbors import NearestNeighbors\n",
        "from sklearn.pipeline import Pipeline\n",
        "from sklearn.base import BaseEstimator, TransformerMixin\n",
        "from transformers import AutoTokenizer, AutoModelForMaskedLM"
      ]
    },
    {
      "cell_type": "markdown",
      "source": [
        "# Loading & Preparing Data"
      ],
      "metadata": {
        "id": "URH-AirBjcrL"
      },
      "id": "URH-AirBjcrL"
    },
    {
      "cell_type": "markdown",
      "source": [
        "## Corpus"
      ],
      "metadata": {
        "id": "cWjISsLTPtqw"
      },
      "id": "cWjISsLTPtqw"
    },
    {
      "cell_type": "code",
      "source": [
        "!wget https://github.com/language-ml/2-LM-embedding-projects/raw/main/problem3/doc_collection.zip"
      ],
      "metadata": {
        "id": "cX9FwdFUjfkj"
      },
      "id": "cX9FwdFUjfkj",
      "execution_count": null,
      "outputs": []
    },
    {
      "cell_type": "code",
      "source": [
        "!unzip doc_collection.zip"
      ],
      "metadata": {
        "id": "AHXJRwbKk8mK"
      },
      "id": "AHXJRwbKk8mK",
      "execution_count": null,
      "outputs": []
    },
    {
      "cell_type": "code",
      "source": [
        "!cat IR_dataset/1000.txt"
      ],
      "metadata": {
        "colab": {
          "base_uri": "https://localhost:8080/"
        },
        "id": "9YX2f4_plKLa",
        "outputId": "3bf20605-8a7f-4251-be76-d3cccb9fa5fa"
      },
      "id": "9YX2f4_plKLa",
      "execution_count": 5,
      "outputs": [
        {
          "output_type": "stream",
          "name": "stdout",
          "text": [
            "ببر سیبری که با نام‌های ببر آلتایی، ببر منچوری، ببر کره‌ای، ببر آمور و ببر اوسوری نیز شناخته می‌شود، یکی از زیرگونه‌های ببر است که در گذشته در بخش‌های وسیعی از شرق آسیا می‌زیست اما امروزه تنها در منطقهٔ حفاظت شده‌ای در شرق سیبری زندگی می‌کند. ببر سیبری بزرگترین زیرگونهٔ ببر و بزرگترین گربه‌سان زندهٔ جهان است. ببر منقرض شده مازندران نزدیک‌ترین زیرگونه ببر به ببر سیبری است و مطالعات ژنتیکی جدید حکایت از آن دارد که این دو را حتی می‌توان یک زیرگونه محسوب کرد.\n",
            "\n",
            "ببر سیبری در دهه ۱۹۳۰ در آستانه انقراض قرار داشت و تعداد آن‌ها تنها به بیست تا سی ببر کاهش یافته بود. اما این حیوان به طرزی باورنکردنی از انقراض قریب‌الوقوع رهایی جست و جمعیت آن تا سال ۲۰۱۰ به حدود ۳۶۰ ببر رسید. ببر سیبری با توجه به همین افزایش جمعیت از سال ۲۰۱۰ از بالاترین ردهٔ حفاظتی یعنی «به شدت در معرض خطر» خارج شده و در یک رده پایین‌تر یعنی «در خطر انقراض» قرار گرفته است. ببرهای سیبری تنوع ژنتیکی بسیار پائینی دارند که این به دلیل کاهش شدید جمعیت این حیوان در دهه ۱۹۴۰ و تعداد اندک توله ببرهایی است که به بلوغ می‌رسند. ضمن اینکه بیشتر از ۹۰ درصد ببرهای سیبری در منطقه کوهستانی سیخوته آلین زندگی می‌کنند و تبادل ژنتیکی اندکی با گروه‌های کوچکتر ببر سیبری در جنوب غربی استان پریموری دارند.\n",
            "\n",
            "تازه‌ترین مطالعات ژنتیکی بر روی میتوکندری دی‌ان‌ای به جای مانده از ببرهای هیرکانی و نمونه‌های زنده ببر سیبری نشان داده که نیایِ مشترک این دو نوع ببر در شرق چین می‌زیسته و سپس از مسیر راه ابریشم-گانسو وارد آسیای میانه شده و بعداً گروهی از آن‌ها به سوی شرق سیبری و اطراف رود آمور رفته و ببر سیبری امروزین را شکل داده‌اند.\n",
            "\n",
            "محل سکونت ببرهای سیبری در قسمت جنوبی شمال شرق روسیه در کنار رودخانه آمور و مرز روسیه با چین و کره شمالی است. تعداد کمی از ببر سیبری در چین هم سکونت دارند اما این جمعیت کوچک نمی‌تواند مستقل از جمعیت روسی به حیات خود ادامه دهد. یعنی بقای این ببرها در چین وابسته به جابجایی ببرها در طول مرز چین و روسیه است. مشخص نیست که آیا هنوز هم این ببر در کره شمالی حضور دارد یا در آن‌جا کاملاً منقرض شده‌است.\n",
            "\n",
            "ببر سیبری حیوانی قلمروطلب است و قلمروهای بسیار وسیعی را به خود اختصاص می‌دهد. قلمرو ببرهای نر سیبری تا چهار هزار مایل مربع هم گزارش شده‌است. اما اغلب و به طور میانگین قلمرویی تا حدود ۶۰۰ تا ۱۰۸۰ مایل مربع (۱۵۵۴ تا ۲۷۹۷ کیلومتر مربع) را قلمرو خود قرار می‌دهند و قلمرو ببرهای ماده نیز کمی کوچکتر ار آن می‌باشد."
          ]
        }
      ]
    },
    {
      "cell_type": "code",
      "source": [
        "corpus = [(int(path.stem), path.open().read()) for path in Path('IR_dataset').iterdir()]\n",
        "corpus = pd.DataFrame(corpus, columns=['docId','text']).set_index('docId').sort_index()"
      ],
      "metadata": {
        "id": "Yr2uuva8lt2R"
      },
      "id": "Yr2uuva8lt2R",
      "execution_count": 6,
      "outputs": []
    },
    {
      "cell_type": "code",
      "source": [
        "ccorpus = [(int(path.stem), path.open().read()) for path in Path('IR_dataset').iterdir()]"
      ],
      "metadata": {
        "id": "hXmMh6rU2rfi"
      },
      "id": "hXmMh6rU2rfi",
      "execution_count": 7,
      "outputs": []
    },
    {
      "cell_type": "code",
      "source": [
        "corpus.head()"
      ],
      "metadata": {
        "colab": {
          "base_uri": "https://localhost:8080/",
          "height": 237
        },
        "id": "em6lACkLggoq",
        "outputId": "eed9b5e7-6ca2-4fd3-8aef-6425b6aaec23"
      },
      "id": "em6lACkLggoq",
      "execution_count": 29,
      "outputs": [
        {
          "output_type": "execute_result",
          "data": {
            "text/html": [
              "\n",
              "  <div id=\"df-4c10094e-6847-4612-b151-f9a9d83a77e4\">\n",
              "    <div class=\"colab-df-container\">\n",
              "      <div>\n",
              "<style scoped>\n",
              "    .dataframe tbody tr th:only-of-type {\n",
              "        vertical-align: middle;\n",
              "    }\n",
              "\n",
              "    .dataframe tbody tr th {\n",
              "        vertical-align: top;\n",
              "    }\n",
              "\n",
              "    .dataframe thead th {\n",
              "        text-align: right;\n",
              "    }\n",
              "</style>\n",
              "<table border=\"1\" class=\"dataframe\">\n",
              "  <thead>\n",
              "    <tr style=\"text-align: right;\">\n",
              "      <th></th>\n",
              "      <th>text</th>\n",
              "    </tr>\n",
              "    <tr>\n",
              "      <th>docId</th>\n",
              "      <th></th>\n",
              "    </tr>\n",
              "  </thead>\n",
              "  <tbody>\n",
              "    <tr>\n",
              "      <th>0</th>\n",
              "      <td>برخی از هواداران مصدق یا اعضای جبهه ملی که در ...</td>\n",
              "    </tr>\n",
              "    <tr>\n",
              "      <th>1</th>\n",
              "      <td>جبهه ملی ایران که به اختصار جبهه ملی نیز خواند...</td>\n",
              "    </tr>\n",
              "    <tr>\n",
              "      <th>2</th>\n",
              "      <td>سرلشکر زاهدی در سال ۱۳۲۸ و پس از آن‌که دخالت‌ه...</td>\n",
              "    </tr>\n",
              "    <tr>\n",
              "      <th>3</th>\n",
              "      <td>نمایندگان طرفدار مصدق در حمایت از ابقای دولت و...</td>\n",
              "    </tr>\n",
              "    <tr>\n",
              "      <th>4</th>\n",
              "      <td>نمایندگان طرفدار مصدق در حمایت از ابقای دولت و...</td>\n",
              "    </tr>\n",
              "  </tbody>\n",
              "</table>\n",
              "</div>\n",
              "      <button class=\"colab-df-convert\" onclick=\"convertToInteractive('df-4c10094e-6847-4612-b151-f9a9d83a77e4')\"\n",
              "              title=\"Convert this dataframe to an interactive table.\"\n",
              "              style=\"display:none;\">\n",
              "        \n",
              "  <svg xmlns=\"http://www.w3.org/2000/svg\" height=\"24px\"viewBox=\"0 0 24 24\"\n",
              "       width=\"24px\">\n",
              "    <path d=\"M0 0h24v24H0V0z\" fill=\"none\"/>\n",
              "    <path d=\"M18.56 5.44l.94 2.06.94-2.06 2.06-.94-2.06-.94-.94-2.06-.94 2.06-2.06.94zm-11 1L8.5 8.5l.94-2.06 2.06-.94-2.06-.94L8.5 2.5l-.94 2.06-2.06.94zm10 10l.94 2.06.94-2.06 2.06-.94-2.06-.94-.94-2.06-.94 2.06-2.06.94z\"/><path d=\"M17.41 7.96l-1.37-1.37c-.4-.4-.92-.59-1.43-.59-.52 0-1.04.2-1.43.59L10.3 9.45l-7.72 7.72c-.78.78-.78 2.05 0 2.83L4 21.41c.39.39.9.59 1.41.59.51 0 1.02-.2 1.41-.59l7.78-7.78 2.81-2.81c.8-.78.8-2.07 0-2.86zM5.41 20L4 18.59l7.72-7.72 1.47 1.35L5.41 20z\"/>\n",
              "  </svg>\n",
              "      </button>\n",
              "      \n",
              "  <style>\n",
              "    .colab-df-container {\n",
              "      display:flex;\n",
              "      flex-wrap:wrap;\n",
              "      gap: 12px;\n",
              "    }\n",
              "\n",
              "    .colab-df-convert {\n",
              "      background-color: #E8F0FE;\n",
              "      border: none;\n",
              "      border-radius: 50%;\n",
              "      cursor: pointer;\n",
              "      display: none;\n",
              "      fill: #1967D2;\n",
              "      height: 32px;\n",
              "      padding: 0 0 0 0;\n",
              "      width: 32px;\n",
              "    }\n",
              "\n",
              "    .colab-df-convert:hover {\n",
              "      background-color: #E2EBFA;\n",
              "      box-shadow: 0px 1px 2px rgba(60, 64, 67, 0.3), 0px 1px 3px 1px rgba(60, 64, 67, 0.15);\n",
              "      fill: #174EA6;\n",
              "    }\n",
              "\n",
              "    [theme=dark] .colab-df-convert {\n",
              "      background-color: #3B4455;\n",
              "      fill: #D2E3FC;\n",
              "    }\n",
              "\n",
              "    [theme=dark] .colab-df-convert:hover {\n",
              "      background-color: #434B5C;\n",
              "      box-shadow: 0px 1px 3px 1px rgba(0, 0, 0, 0.15);\n",
              "      filter: drop-shadow(0px 1px 2px rgba(0, 0, 0, 0.3));\n",
              "      fill: #FFFFFF;\n",
              "    }\n",
              "  </style>\n",
              "\n",
              "      <script>\n",
              "        const buttonEl =\n",
              "          document.querySelector('#df-4c10094e-6847-4612-b151-f9a9d83a77e4 button.colab-df-convert');\n",
              "        buttonEl.style.display =\n",
              "          google.colab.kernel.accessAllowed ? 'block' : 'none';\n",
              "\n",
              "        async function convertToInteractive(key) {\n",
              "          const element = document.querySelector('#df-4c10094e-6847-4612-b151-f9a9d83a77e4');\n",
              "          const dataTable =\n",
              "            await google.colab.kernel.invokeFunction('convertToInteractive',\n",
              "                                                     [key], {});\n",
              "          if (!dataTable) return;\n",
              "\n",
              "          const docLinkHtml = 'Like what you see? Visit the ' +\n",
              "            '<a target=\"_blank\" href=https://colab.research.google.com/notebooks/data_table.ipynb>data table notebook</a>'\n",
              "            + ' to learn more about interactive tables.';\n",
              "          element.innerHTML = '';\n",
              "          dataTable['output_type'] = 'display_data';\n",
              "          await google.colab.output.renderOutput(dataTable, element);\n",
              "          const docLink = document.createElement('div');\n",
              "          docLink.innerHTML = docLinkHtml;\n",
              "          element.appendChild(docLink);\n",
              "        }\n",
              "      </script>\n",
              "    </div>\n",
              "  </div>\n",
              "  "
            ],
            "text/plain": [
              "                                                    text\n",
              "docId                                                   \n",
              "0      برخی از هواداران مصدق یا اعضای جبهه ملی که در ...\n",
              "1      جبهه ملی ایران که به اختصار جبهه ملی نیز خواند...\n",
              "2      سرلشکر زاهدی در سال ۱۳۲۸ و پس از آن‌که دخالت‌ه...\n",
              "3      نمایندگان طرفدار مصدق در حمایت از ابقای دولت و...\n",
              "4      نمایندگان طرفدار مصدق در حمایت از ابقای دولت و..."
            ]
          },
          "metadata": {},
          "execution_count": 29
        }
      ]
    },
    {
      "cell_type": "markdown",
      "source": [
        "## Qrels"
      ],
      "metadata": {
        "id": "YovdZ4crPwmk"
      },
      "id": "YovdZ4crPwmk"
    },
    {
      "cell_type": "code",
      "source": [
        "!wget https://raw.githubusercontent.com/language-ml/2-LM-embedding-projects/main/problem3/evaluation_IR.yml"
      ],
      "metadata": {
        "colab": {
          "base_uri": "https://localhost:8080/"
        },
        "id": "qxLS7matqWct",
        "outputId": "ae6cc726-77e3-48df-b6e5-3fea39fb5ba3"
      },
      "id": "qxLS7matqWct",
      "execution_count": 9,
      "outputs": [
        {
          "output_type": "stream",
          "name": "stdout",
          "text": [
            "--2021-12-31 04:12:27--  https://raw.githubusercontent.com/language-ml/2-LM-embedding-projects/main/problem3/evaluation_IR.yml\n",
            "Resolving raw.githubusercontent.com (raw.githubusercontent.com)... 185.199.108.133, 185.199.109.133, 185.199.110.133, ...\n",
            "Connecting to raw.githubusercontent.com (raw.githubusercontent.com)|185.199.108.133|:443... connected.\n",
            "HTTP request sent, awaiting response... 200 OK\n",
            "Length: 50854 (50K) [text/plain]\n",
            "Saving to: ‘evaluation_IR.yml’\n",
            "\n",
            "evaluation_IR.yml   100%[===================>]  49.66K  --.-KB/s    in 0.01s   \n",
            "\n",
            "2021-12-31 04:12:27 (3.78 MB/s) - ‘evaluation_IR.yml’ saved [50854/50854]\n",
            "\n"
          ]
        }
      ]
    },
    {
      "cell_type": "code",
      "source": [
        "query_raw_data = yaml.safe_load(open('evaluation_IR.yml'))"
      ],
      "metadata": {
        "id": "OMzUU5mVqHSg"
      },
      "id": "OMzUU5mVqHSg",
      "execution_count": 10,
      "outputs": []
    },
    {
      "cell_type": "code",
      "source": [
        "query = pd.Series(query_raw_data.keys())\n",
        "qrels = [{'query_id':idx, 'doc_id':d,\n",
        "          'relevance':3} for idx,q in query.to_dict().items() for d in query_raw_data[q]['similar_high']]\n",
        "qrels.extend([{'query_id':idx, 'doc_id':d,\n",
        "          'relevance':2} for idx,q in query.to_dict().items() for d in query_raw_data[q]['similar_med']])\n",
        "qrels.extend([{'query_id':idx, 'doc_id':d,\n",
        "          'relevance':1} for idx,q in query.to_dict().items() for d in query_raw_data[q]['similar_low']])\n",
        "qrels.extend([{'query_id':idx, 'doc_id':query_raw_data[q]['relevant'][0],\n",
        "          'relevance':4} for idx,q in query.to_dict().items()])\n",
        "qrels = pd.DataFrame(qrels)"
      ],
      "metadata": {
        "id": "fMhrz0biMTn1"
      },
      "id": "fMhrz0biMTn1",
      "execution_count": 11,
      "outputs": []
    },
    {
      "cell_type": "code",
      "source": [
        "query[147],query_raw_data[query[147]]"
      ],
      "metadata": {
        "colab": {
          "base_uri": "https://localhost:8080/"
        },
        "id": "Y4TNJYGzE1zp",
        "outputId": "1ee08005-5899-4dd9-e6c6-c8b8354c2c3f"
      },
      "id": "Y4TNJYGzE1zp",
      "execution_count": 12,
      "outputs": [
        {
          "output_type": "execute_result",
          "data": {
            "text/plain": [
              "('گرجستان  تاریخ',\n",
              " {'relevant': [388],\n",
              "  'similar_high': [389, 390, 391, 392, 393, 394],\n",
              "  'similar_low': [404, 405, 406, 407, 408, 409, 410, 411, 412, 413],\n",
              "  'similar_med': [395, 364, 396, 397, 398, 399, 400, 401, 402, 403]})"
            ]
          },
          "metadata": {},
          "execution_count": 12
        }
      ]
    },
    {
      "cell_type": "code",
      "source": [
        "qrels.sample(n=5).reset_index(drop=True)"
      ],
      "metadata": {
        "colab": {
          "base_uri": "https://localhost:8080/",
          "height": 206
        },
        "id": "5vr0k3fLgz5J",
        "outputId": "45375a23-5dfa-4892-ff69-012adea27234"
      },
      "id": "5vr0k3fLgz5J",
      "execution_count": 13,
      "outputs": [
        {
          "output_type": "execute_result",
          "data": {
            "text/html": [
              "\n",
              "  <div id=\"df-999d2a99-5608-4c25-9c68-3f8e5a8e64f5\">\n",
              "    <div class=\"colab-df-container\">\n",
              "      <div>\n",
              "<style scoped>\n",
              "    .dataframe tbody tr th:only-of-type {\n",
              "        vertical-align: middle;\n",
              "    }\n",
              "\n",
              "    .dataframe tbody tr th {\n",
              "        vertical-align: top;\n",
              "    }\n",
              "\n",
              "    .dataframe thead th {\n",
              "        text-align: right;\n",
              "    }\n",
              "</style>\n",
              "<table border=\"1\" class=\"dataframe\">\n",
              "  <thead>\n",
              "    <tr style=\"text-align: right;\">\n",
              "      <th></th>\n",
              "      <th>query_id</th>\n",
              "      <th>doc_id</th>\n",
              "      <th>relevance</th>\n",
              "    </tr>\n",
              "  </thead>\n",
              "  <tbody>\n",
              "    <tr>\n",
              "      <th>0</th>\n",
              "      <td>135</td>\n",
              "      <td>2722</td>\n",
              "      <td>1</td>\n",
              "    </tr>\n",
              "    <tr>\n",
              "      <th>1</th>\n",
              "      <td>69</td>\n",
              "      <td>1297</td>\n",
              "      <td>1</td>\n",
              "    </tr>\n",
              "    <tr>\n",
              "      <th>2</th>\n",
              "      <td>21</td>\n",
              "      <td>1274</td>\n",
              "      <td>3</td>\n",
              "    </tr>\n",
              "    <tr>\n",
              "      <th>3</th>\n",
              "      <td>128</td>\n",
              "      <td>1118</td>\n",
              "      <td>2</td>\n",
              "    </tr>\n",
              "    <tr>\n",
              "      <th>4</th>\n",
              "      <td>72</td>\n",
              "      <td>829</td>\n",
              "      <td>1</td>\n",
              "    </tr>\n",
              "  </tbody>\n",
              "</table>\n",
              "</div>\n",
              "      <button class=\"colab-df-convert\" onclick=\"convertToInteractive('df-999d2a99-5608-4c25-9c68-3f8e5a8e64f5')\"\n",
              "              title=\"Convert this dataframe to an interactive table.\"\n",
              "              style=\"display:none;\">\n",
              "        \n",
              "  <svg xmlns=\"http://www.w3.org/2000/svg\" height=\"24px\"viewBox=\"0 0 24 24\"\n",
              "       width=\"24px\">\n",
              "    <path d=\"M0 0h24v24H0V0z\" fill=\"none\"/>\n",
              "    <path d=\"M18.56 5.44l.94 2.06.94-2.06 2.06-.94-2.06-.94-.94-2.06-.94 2.06-2.06.94zm-11 1L8.5 8.5l.94-2.06 2.06-.94-2.06-.94L8.5 2.5l-.94 2.06-2.06.94zm10 10l.94 2.06.94-2.06 2.06-.94-2.06-.94-.94-2.06-.94 2.06-2.06.94z\"/><path d=\"M17.41 7.96l-1.37-1.37c-.4-.4-.92-.59-1.43-.59-.52 0-1.04.2-1.43.59L10.3 9.45l-7.72 7.72c-.78.78-.78 2.05 0 2.83L4 21.41c.39.39.9.59 1.41.59.51 0 1.02-.2 1.41-.59l7.78-7.78 2.81-2.81c.8-.78.8-2.07 0-2.86zM5.41 20L4 18.59l7.72-7.72 1.47 1.35L5.41 20z\"/>\n",
              "  </svg>\n",
              "      </button>\n",
              "      \n",
              "  <style>\n",
              "    .colab-df-container {\n",
              "      display:flex;\n",
              "      flex-wrap:wrap;\n",
              "      gap: 12px;\n",
              "    }\n",
              "\n",
              "    .colab-df-convert {\n",
              "      background-color: #E8F0FE;\n",
              "      border: none;\n",
              "      border-radius: 50%;\n",
              "      cursor: pointer;\n",
              "      display: none;\n",
              "      fill: #1967D2;\n",
              "      height: 32px;\n",
              "      padding: 0 0 0 0;\n",
              "      width: 32px;\n",
              "    }\n",
              "\n",
              "    .colab-df-convert:hover {\n",
              "      background-color: #E2EBFA;\n",
              "      box-shadow: 0px 1px 2px rgba(60, 64, 67, 0.3), 0px 1px 3px 1px rgba(60, 64, 67, 0.15);\n",
              "      fill: #174EA6;\n",
              "    }\n",
              "\n",
              "    [theme=dark] .colab-df-convert {\n",
              "      background-color: #3B4455;\n",
              "      fill: #D2E3FC;\n",
              "    }\n",
              "\n",
              "    [theme=dark] .colab-df-convert:hover {\n",
              "      background-color: #434B5C;\n",
              "      box-shadow: 0px 1px 3px 1px rgba(0, 0, 0, 0.15);\n",
              "      filter: drop-shadow(0px 1px 2px rgba(0, 0, 0, 0.3));\n",
              "      fill: #FFFFFF;\n",
              "    }\n",
              "  </style>\n",
              "\n",
              "      <script>\n",
              "        const buttonEl =\n",
              "          document.querySelector('#df-999d2a99-5608-4c25-9c68-3f8e5a8e64f5 button.colab-df-convert');\n",
              "        buttonEl.style.display =\n",
              "          google.colab.kernel.accessAllowed ? 'block' : 'none';\n",
              "\n",
              "        async function convertToInteractive(key) {\n",
              "          const element = document.querySelector('#df-999d2a99-5608-4c25-9c68-3f8e5a8e64f5');\n",
              "          const dataTable =\n",
              "            await google.colab.kernel.invokeFunction('convertToInteractive',\n",
              "                                                     [key], {});\n",
              "          if (!dataTable) return;\n",
              "\n",
              "          const docLinkHtml = 'Like what you see? Visit the ' +\n",
              "            '<a target=\"_blank\" href=https://colab.research.google.com/notebooks/data_table.ipynb>data table notebook</a>'\n",
              "            + ' to learn more about interactive tables.';\n",
              "          element.innerHTML = '';\n",
              "          dataTable['output_type'] = 'display_data';\n",
              "          await google.colab.output.renderOutput(dataTable, element);\n",
              "          const docLink = document.createElement('div');\n",
              "          docLink.innerHTML = docLinkHtml;\n",
              "          element.appendChild(docLink);\n",
              "        }\n",
              "      </script>\n",
              "    </div>\n",
              "  </div>\n",
              "  "
            ],
            "text/plain": [
              "   query_id  doc_id  relevance\n",
              "0       135    2722          1\n",
              "1        69    1297          1\n",
              "2        21    1274          3\n",
              "3       128    1118          2\n",
              "4        72     829          1"
            ]
          },
          "metadata": {},
          "execution_count": 13
        }
      ]
    },
    {
      "cell_type": "markdown",
      "source": [
        "## Normaliztion"
      ],
      "metadata": {
        "id": "F8KJ3p-mnoht"
      },
      "id": "F8KJ3p-mnoht"
    },
    {
      "cell_type": "code",
      "source": [
        "normalize = hazm.Normalizer().normalize\n",
        "corpus.text = corpus.text.transform(normalize)\n",
        "query = query.transform(normalize)"
      ],
      "metadata": {
        "id": "BjpC37pvg9Rz"
      },
      "id": "BjpC37pvg9Rz",
      "execution_count": 14,
      "outputs": []
    },
    {
      "cell_type": "markdown",
      "source": [
        "# Embedding the documents"
      ],
      "metadata": {
        "id": "_IEs3O0emcKQ"
      },
      "id": "_IEs3O0emcKQ"
    },
    {
      "cell_type": "markdown",
      "source": [
        "## Method 1 : Tfidf"
      ],
      "metadata": {
        "id": "dS2qRcj5mmvL"
      },
      "id": "dS2qRcj5mmvL"
    },
    {
      "cell_type": "code",
      "source": [
        "vectorizer = TfidfVectorizer(max_features=500,ngram_range=(1,2))\n",
        "vectorizer.fit(corpus.text)"
      ],
      "metadata": {
        "id": "0x8lSOD-mp53",
        "colab": {
          "base_uri": "https://localhost:8080/"
        },
        "outputId": "a001c3cf-3edf-4dc8-d13b-cb71f1f68089"
      },
      "id": "0x8lSOD-mp53",
      "execution_count": 15,
      "outputs": [
        {
          "output_type": "execute_result",
          "data": {
            "text/plain": [
              "TfidfVectorizer(max_features=500, ngram_range=(1, 2))"
            ]
          },
          "metadata": {},
          "execution_count": 15
        }
      ]
    },
    {
      "cell_type": "markdown",
      "source": [
        "## Method 2 : ParsBert"
      ],
      "metadata": {
        "id": "vwbPf8qxJ_p9"
      },
      "id": "vwbPf8qxJ_p9"
    },
    {
      "cell_type": "code",
      "source": [
        "from transformers import AutoConfig, AutoTokenizer, AutoModel, TFAutoModel\n",
        "\n",
        "model_name_or_path = \"HooshvareLab/bert-fa-zwnj-base\"\n",
        "config = AutoConfig.from_pretrained(model_name_or_path)\n",
        "tokenizer = AutoTokenizer.from_pretrained(model_name_or_path)\n",
        "\n",
        "model = AutoModel.from_pretrained(model_name_or_path)\n",
        "model = model.cuda()"
      ],
      "metadata": {
        "id": "lKWzZpzZjXQL"
      },
      "id": "lKWzZpzZjXQL",
      "execution_count": null,
      "outputs": []
    },
    {
      "cell_type": "code",
      "source": [
        "text = \"ما در قرن ۲۱ زندگی می‌کنیم\" \n",
        "encoding = tokenizer.encode_plus(\n",
        "      text,\n",
        "      add_special_tokens=True, # Add '[CLS]' and '[SEP]'\n",
        "      return_token_type_ids=False,\n",
        "      max_length = 500,\n",
        "      truncation=True,\n",
        "      return_attention_mask=True,\n",
        "      return_tensors='pt',  # Return PyTorch tensors\n",
        "    )\n",
        "out = model(\n",
        "            input_ids = encoding['input_ids'].cuda(), \n",
        "            attention_mask= encoding['attention_mask'].cuda())\n",
        "out['pooler_output'][0]"
      ],
      "metadata": {
        "id": "wwgVFEvLwGf2"
      },
      "id": "wwgVFEvLwGf2",
      "execution_count": null,
      "outputs": []
    },
    {
      "cell_type": "code",
      "source": [
        "def get_embed(part):\n",
        "  encoding = tokenizer.encode_plus(\n",
        "    part,\n",
        "    add_special_tokens=True, # Add '[CLS]' and '[SEP]'\n",
        "    return_token_type_ids=False,\n",
        "    max_length = 500,\n",
        "    truncation=True,\n",
        "    return_attention_mask=True,\n",
        "    return_tensors='pt',  # Return PyTorch tensors\n",
        "  )\n",
        "  out = model(\n",
        "      input_ids = encoding['input_ids'].cuda(), \n",
        "      attention_mask= encoding['attention_mask'].cuda())\n",
        "  return out['pooler_output'].cpu().detach().numpy()"
      ],
      "metadata": {
        "id": "0CJT2mJ3-OuZ"
      },
      "id": "0CJT2mJ3-OuZ",
      "execution_count": 18,
      "outputs": []
    },
    {
      "cell_type": "code",
      "source": [
        "doc_vec = np.zeros((1, 768))\n",
        "doc_map = np.zeros(1)\n",
        "\n",
        "for index, doc in tqdm.tqdm(corpus.iterrows()):\n",
        "  doc_split = doc['text'].split()\n",
        "  doc_parts = [' '.join(doc_split[i:i + 300]) for i in range(0, len(doc_split) - 150, 150)]\n",
        "  for part in doc_parts:\n",
        "    doc_vec = np.append(doc_vec, get_embed(part), axis = 0)\n",
        "    doc_map = np.append(doc_map, index)\n"
      ],
      "metadata": {
        "colab": {
          "base_uri": "https://localhost:8080/"
        },
        "id": "w1yGQuFmwc9R",
        "outputId": "ee4bc605-c97a-4236-ee9f-56cb57ccb711"
      },
      "id": "w1yGQuFmwc9R",
      "execution_count": 30,
      "outputs": [
        {
          "output_type": "stream",
          "name": "stderr",
          "text": [
            "3258it [12:49,  4.23it/s]\n"
          ]
        }
      ]
    },
    {
      "cell_type": "markdown",
      "source": [
        "# Document Retrieval"
      ],
      "metadata": {
        "id": "vB7lcQxsoZZy"
      },
      "id": "vB7lcQxsoZZy"
    },
    {
      "cell_type": "code",
      "source": [
        "class KNN_based_IR(BaseEstimator):\n",
        "  def __init__(self,n_neighbors=1+10+10+10) -> None:\n",
        "    super().__init__()\n",
        "    self.nn = NearestNeighbors(n_neighbors=n_neighbors)\n",
        "  def set_params(self,**kwargs):\n",
        "    self.nn.set_params(**kwargs)\n",
        "  def fit(self, X: np.array):\n",
        "    self.nn.fit(X)\n",
        "  def predict(self, X: np.array):\n",
        "    distances, docIds = self.nn.kneighbors(X)\n",
        "    scores = np.max(distances)-distances\n",
        "    return scores, docIds"
      ],
      "metadata": {
        "id": "Fu0yYIIrLbpX"
      },
      "id": "Fu0yYIIrLbpX",
      "execution_count": 31,
      "outputs": []
    },
    {
      "cell_type": "code",
      "source": [
        "IR_system = KNN_based_IR()\n",
        "IR_system.fit(vectorizer.transform(corpus.text))"
      ],
      "metadata": {
        "id": "cSu5M10thrcN"
      },
      "id": "cSu5M10thrcN",
      "execution_count": 32,
      "outputs": []
    },
    {
      "cell_type": "code",
      "source": [
        "bert_knn = KNN_based_IR(80)\n",
        "bert_knn.fit(doc_vec[1:])"
      ],
      "metadata": {
        "id": "dQucB5SN2s9-"
      },
      "id": "dQucB5SN2s9-",
      "execution_count": 59,
      "outputs": []
    },
    {
      "cell_type": "markdown",
      "source": [
        "# IR Evaluation\n",
        "Tailored for our multi-level Test Collection."
      ],
      "metadata": {
        "id": "9FD5slp-hsik"
      },
      "id": "9FD5slp-hsik"
    },
    {
      "cell_type": "code",
      "source": [
        "preds = IR_system.predict(vectorizer.transform(query))"
      ],
      "metadata": {
        "id": "MmLtge7sy__H"
      },
      "id": "MmLtge7sy__H",
      "execution_count": 34,
      "outputs": []
    },
    {
      "cell_type": "code",
      "source": [
        "bert_score = []\n",
        "bert_id = []\n",
        "mn = 100\n",
        "for q in tqdm.tqdm(query):\n",
        "  score, oid = bert_knn.predict(get_embed(q))\n",
        "  score = score[0]\n",
        "  doc_id = [doc_map[i] for i in oid[0]]\n",
        "  n_score = []\n",
        "  n_id = []\n",
        "  for sc, id in zip(score, doc_id):\n",
        "    if id not in n_id:\n",
        "      n_id.append(id)\n",
        "      n_score.append(sc)\n",
        "  mn = min(mn, len(n_score[:31]))\n",
        "  bert_score.append(n_score[:31])\n",
        "  bert_id.append(n_id[:31])\n",
        "\n",
        "bert_pred = (np.array(bert_score), np.array(bert_id).astype(int))\n",
        "print(mn)"
      ],
      "metadata": {
        "colab": {
          "base_uri": "https://localhost:8080/"
        },
        "id": "IGEslI50bUEf",
        "outputId": "eaf6c75b-ed3f-4cc7-81a4-6336ba0317ab"
      },
      "id": "IGEslI50bUEf",
      "execution_count": 74,
      "outputs": [
        {
          "output_type": "stream",
          "name": "stderr",
          "text": [
            "100%|██████████| 150/150 [00:11<00:00, 13.14it/s]"
          ]
        },
        {
          "output_type": "stream",
          "name": "stdout",
          "text": [
            "31\n"
          ]
        },
        {
          "output_type": "stream",
          "name": "stderr",
          "text": [
            "\n"
          ]
        }
      ]
    },
    {
      "cell_type": "markdown",
      "source": [
        "## Adapting IR output to our Test Collection"
      ],
      "metadata": {
        "id": "iSK68yffPg8-"
      },
      "id": "iSK68yffPg8-"
    },
    {
      "cell_type": "code",
      "source": [
        "def adapt_IR_output_to_measure_input(IR_output: Tuple[np.array, np.array]):\n",
        "  scores, docIds = IR_output\n",
        "  return pd.DataFrame({'query_id': np.tile(query.index,(31,1)).flatten(order='F').astype(str),\n",
        "                       'doc_id':   docIds.flatten().astype(str),\n",
        "                       'score':    scores.flatten()})"
      ],
      "metadata": {
        "id": "jDaNxlfrPovG"
      },
      "id": "jDaNxlfrPovG",
      "execution_count": 75,
      "outputs": []
    },
    {
      "cell_type": "markdown",
      "source": [
        "## MRR (Mean Reciprocal Rank)"
      ],
      "metadata": {
        "id": "oYNQ3qYThxZ_"
      },
      "id": "oYNQ3qYThxZ_"
    },
    {
      "cell_type": "code",
      "source": [
        "MRR = IRm.measures.MRR()\n",
        "def mrr_measure(qrels, ret):\n",
        "  ret = adapt_IR_output_to_measure_input(ret)\n",
        "  return MRR.calc_aggregate(qrels[qrels.relevance == 4], ret)\n",
        "# mrr_scorer = make_scorer(mrr)"
      ],
      "metadata": {
        "id": "1tXZutKIhv7V"
      },
      "id": "1tXZutKIhv7V",
      "execution_count": 76,
      "outputs": []
    },
    {
      "cell_type": "code",
      "source": [
        "mrr_measure(qrels.astype({'query_id':str,'doc_id':str}),preds)"
      ],
      "metadata": {
        "colab": {
          "base_uri": "https://localhost:8080/"
        },
        "id": "KokouE3mi5X7",
        "outputId": "8bcbce49-256d-4569-d0b4-a59f90c32887"
      },
      "id": "KokouE3mi5X7",
      "execution_count": 77,
      "outputs": [
        {
          "output_type": "execute_result",
          "data": {
            "text/plain": [
              "0.11047063325391496"
            ]
          },
          "metadata": {},
          "execution_count": 77
        }
      ]
    },
    {
      "cell_type": "code",
      "source": [
        "mrr_measure(qrels.astype({'query_id':str,'doc_id':str}),bert_pred)"
      ],
      "metadata": {
        "id": "xXg9mfejzGIe",
        "outputId": "b2f86539-b119-4bca-d57f-55decb4b7ad0",
        "colab": {
          "base_uri": "https://localhost:8080/"
        }
      },
      "id": "xXg9mfejzGIe",
      "execution_count": 80,
      "outputs": [
        {
          "output_type": "execute_result",
          "data": {
            "text/plain": [
              "0.07017012412943076"
            ]
          },
          "metadata": {},
          "execution_count": 80
        }
      ]
    },
    {
      "cell_type": "markdown",
      "source": [
        "## MAP (Mean Average Precision)"
      ],
      "metadata": {
        "id": "rFbJ5vp_lXeA"
      },
      "id": "rFbJ5vp_lXeA"
    },
    {
      "cell_type": "code",
      "source": [
        "def map_measure(qrels, ret):\n",
        "  ret = adapt_IR_output_to_measure_input(ret)\n",
        "  return np.mean([IRm.measures.AP(rel=level).\\\n",
        "                    calc_aggregate(qrels[qrels.relevance == level], ret) for level in range(1,4+1)])\n",
        "\n",
        "# map_scorer = make_scorer(map)"
      ],
      "metadata": {
        "id": "J4z0Ti8eldAH"
      },
      "id": "J4z0Ti8eldAH",
      "execution_count": 81,
      "outputs": []
    },
    {
      "cell_type": "code",
      "source": [
        "map_measure(qrels.astype({'query_id':str,'doc_id':str}),preds)"
      ],
      "metadata": {
        "colab": {
          "base_uri": "https://localhost:8080/"
        },
        "id": "dkp5CLB8jB2O",
        "outputId": "e8a048aa-adde-4023-a220-e3fe313dbe9d"
      },
      "id": "dkp5CLB8jB2O",
      "execution_count": 82,
      "outputs": [
        {
          "output_type": "execute_result",
          "data": {
            "text/plain": [
              "0.06630537139767945"
            ]
          },
          "metadata": {},
          "execution_count": 82
        }
      ]
    },
    {
      "cell_type": "code",
      "source": [
        "map_measure(qrels.astype({'query_id':str,'doc_id':str}),bert_pred)"
      ],
      "metadata": {
        "id": "z454fP2tzMiw",
        "outputId": "7f2c6779-4ca4-4ac7-ddc6-28b6dd73129f",
        "colab": {
          "base_uri": "https://localhost:8080/"
        }
      },
      "id": "z454fP2tzMiw",
      "execution_count": 83,
      "outputs": [
        {
          "output_type": "execute_result",
          "data": {
            "text/plain": [
              "0.05021441243494311"
            ]
          },
          "metadata": {},
          "execution_count": 83
        }
      ]
    },
    {
      "cell_type": "markdown",
      "source": [
        "## P@K"
      ],
      "metadata": {
        "id": "xbhSNyvo19ja"
      },
      "id": "xbhSNyvo19ja"
    },
    {
      "cell_type": "code",
      "source": [
        "def p_measure(qrels, ret):\n",
        "  ret = adapt_IR_output_to_measure_input(ret)\n",
        "  return np.mean([IRm.measures.P(cutoff=k, rel=level).\\\n",
        "                    calc_aggregate(qrels[qrels.relevance == level], ret)\\\n",
        "                  for k,level in zip([1,11,21,31],range(1,4+1))])"
      ],
      "metadata": {
        "id": "8IRhcs4H19NU"
      },
      "id": "8IRhcs4H19NU",
      "execution_count": 84,
      "outputs": []
    },
    {
      "cell_type": "code",
      "source": [
        "p_measure(qrels.astype({'query_id':str,'doc_id':str}),preds)"
      ],
      "metadata": {
        "colab": {
          "base_uri": "https://localhost:8080/"
        },
        "id": "A4s1-EdTjd52",
        "outputId": "db30ac7e-c65e-4ac8-ce27-e5e4d28f605d"
      },
      "id": "A4s1-EdTjd52",
      "execution_count": 85,
      "outputs": [
        {
          "output_type": "execute_result",
          "data": {
            "text/plain": [
              "0.033872596937113045"
            ]
          },
          "metadata": {},
          "execution_count": 85
        }
      ]
    },
    {
      "cell_type": "code",
      "source": [
        "p_measure(qrels.astype({'query_id':str,'doc_id':str}),bert_pred)"
      ],
      "metadata": {
        "id": "ITU8eJ6wzQcz",
        "outputId": "26098269-6d1c-4694-9889-8a0603d94c5c",
        "colab": {
          "base_uri": "https://localhost:8080/"
        }
      },
      "id": "ITU8eJ6wzQcz",
      "execution_count": 86,
      "outputs": [
        {
          "output_type": "execute_result",
          "data": {
            "text/plain": [
              "0.030903737839221696"
            ]
          },
          "metadata": {},
          "execution_count": 86
        }
      ]
    },
    {
      "cell_type": "markdown",
      "source": [
        "# Pipeline Definition"
      ],
      "metadata": {
        "id": "-t-lIUk3Mi3i"
      },
      "id": "-t-lIUk3Mi3i"
    },
    {
      "cell_type": "code",
      "source": [
        "pipeline = Pipeline([('embedding','passthrough'),\n",
        "                     ('retrieval','passthrough')])"
      ],
      "metadata": {
        "id": "wOsckUZxMlOq"
      },
      "id": "wOsckUZxMlOq",
      "execution_count": null,
      "outputs": []
    }
  ],
  "metadata": {
    "kernelspec": {
      "display_name": "Python 3",
      "language": "python",
      "name": "python3"
    },
    "language_info": {
      "codemirror_mode": {
        "name": "ipython",
        "version": 3
      },
      "file_extension": ".py",
      "mimetype": "text/x-python",
      "name": "python",
      "nbconvert_exporter": "python",
      "pygments_lexer": "ipython3",
      "version": "3.6.9"
    },
    "colab": {
      "name": "Persian-IR-example.ipynb",
      "provenance": [],
      "include_colab_link": true
    },
    "accelerator": "GPU"
  },
  "nbformat": 4,
  "nbformat_minor": 5
}